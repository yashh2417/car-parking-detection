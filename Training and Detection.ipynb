{
 "cells": [
  {
   "cell_type": "markdown",
   "metadata": {
    "id": "QUANWN3rpfC9"
   },
   "source": [
    "# 0. Setup Paths"
   ]
  },
  {
   "cell_type": "code",
   "execution_count": 1,
   "metadata": {
    "id": "146BB11JpfDA"
   },
   "outputs": [],
   "source": [
    "import os"
   ]
  },
  {
   "cell_type": "code",
   "execution_count": 2,
   "metadata": {},
   "outputs": [
    {
     "name": "stdout",
     "output_type": "stream",
     "text": [
      "Package                       Version\n",
      "----------------------------- -----------\n",
      "absl-py                       1.4.0\n",
      "apache-beam                   2.57.0\n",
      "appnope                       0.1.4\n",
      "array-record                  0.4.0\n",
      "asttokens                     2.4.1\n",
      "astunparse                    1.6.3\n",
      "async-timeout                 4.0.3\n",
      "attrs                         23.2.0\n",
      "avro-python3                  1.10.2\n",
      "backcall                      0.2.0\n",
      "backports.zoneinfo            0.2.1\n",
      "bleach                        6.1.0\n",
      "Brotli                        1.1.0\n",
      "cachetools                    5.3.3\n",
      "certifi                       2024.6.2\n",
      "cffi                          1.16.0\n",
      "charset-normalizer            3.3.2\n",
      "click                         8.1.7\n",
      "cloudpickle                   2.2.1\n",
      "colorama                      0.4.6\n",
      "comm                          0.2.2\n",
      "contextlib2                   21.6.0\n",
      "contourpy                     1.1.1\n",
      "crcmod                        1.7\n",
      "cycler                        0.12.1\n",
      "Cython                        3.0.10\n",
      "debugpy                       1.8.2\n",
      "decorator                     5.1.1\n",
      "dill                          0.3.1.1\n",
      "dm-tree                       0.1.8\n",
      "dnspython                     2.6.1\n",
      "docopt                        0.6.2\n",
      "etils                         1.3.0\n",
      "executing                     2.0.1\n",
      "fastavro                      1.9.4\n",
      "fasteners                     0.19\n",
      "flatbuffers                   24.3.25\n",
      "fonttools                     4.53.1\n",
      "gast                          0.4.0\n",
      "gin-config                    0.5.0\n",
      "google-api-core               2.19.1\n",
      "google-api-python-client      2.136.0\n",
      "google-auth                   2.31.0\n",
      "google-auth-httplib2          0.2.0\n",
      "google-auth-oauthlib          1.0.0\n",
      "google-pasta                  0.2.0\n",
      "googleapis-common-protos      1.63.2\n",
      "grpcio                        1.64.1\n",
      "h2                            4.1.0\n",
      "h5py                          3.11.0\n",
      "hdfs                          2.7.3\n",
      "hpack                         4.0.0\n",
      "httplib2                      0.22.0\n",
      "hyperframe                    6.0.1\n",
      "idna                          3.7\n",
      "importlib_metadata            8.0.0\n",
      "importlib_resources           6.4.0\n",
      "ipykernel                     6.29.5\n",
      "ipython                       8.12.3\n",
      "jedi                          0.19.1\n",
      "joblib                        1.4.2\n",
      "Js2Py                         0.74\n",
      "jsonpickle                    3.2.2\n",
      "jsonschema                    4.22.0\n",
      "jsonschema-specifications     2023.12.1\n",
      "jupyter_client                8.6.2\n",
      "jupyter_core                  5.7.2\n",
      "kaggle                        1.6.14\n",
      "keras                         2.13.1\n",
      "Keras-Preprocessing           1.1.2\n",
      "kiwisolver                    1.4.5\n",
      "libclang                      18.1.1\n",
      "lvis                          0.5.3\n",
      "lxml                          5.2.2\n",
      "Markdown                      3.6\n",
      "MarkupSafe                    2.1.5\n",
      "matplotlib                    3.2.0\n",
      "matplotlib-inline             0.1.7\n",
      "nest-asyncio                  1.6.0\n",
      "numpy                         1.24.3\n",
      "oauth2client                  4.1.3\n",
      "oauthlib                      3.2.2\n",
      "object_detection              0.1\n",
      "objsize                       0.7.0\n",
      "opencv-python                 4.10.0.84\n",
      "opencv-python-headless        4.10.0.84\n",
      "opt-einsum                    3.3.0\n",
      "orjson                        3.10.6\n",
      "packaging                     24.1\n",
      "pandas                        2.0.3\n",
      "parso                         0.8.4\n",
      "pexpect                       4.9.0\n",
      "pickleshare                   0.7.5\n",
      "pillow                        10.4.0\n",
      "pip                           24.0\n",
      "pkgutil_resolve_name          1.3.10\n",
      "platformdirs                  4.2.2\n",
      "pooch                         1.8.2\n",
      "portalocker                   2.10.0\n",
      "promise                       2.3\n",
      "prompt_toolkit                3.0.47\n",
      "proto-plus                    1.24.0\n",
      "protobuf                      3.20.1\n",
      "psutil                        6.0.0\n",
      "ptyprocess                    0.7.0\n",
      "pure-eval                     0.2.2\n",
      "py-cpuinfo                    9.0.0\n",
      "pyarrow                       16.1.0\n",
      "pyarrow-hotfix                0.6\n",
      "pyasn1                        0.6.0\n",
      "pyasn1_modules                0.4.0\n",
      "pycocotools                   2.0.7\n",
      "pycparser                     2.22\n",
      "pydot                         1.4.2\n",
      "Pygments                      2.18.0\n",
      "pyjsparser                    2.7.1\n",
      "pymongo                       4.8.0\n",
      "pyparsing                     2.4.7\n",
      "PySocks                       1.7.1\n",
      "python-dateutil               2.9.0.post0\n",
      "python-slugify                8.0.4\n",
      "pytz                          2024.1\n",
      "PyYAML                        5.3.1\n",
      "pyzmq                         26.0.3\n",
      "redis                         5.0.7\n",
      "referencing                   0.35.1\n",
      "regex                         2024.5.15\n",
      "requests                      2.31.0\n",
      "requests-oauthlib             2.0.0\n",
      "rpds-py                       0.18.1\n",
      "rsa                           4.9\n",
      "sacrebleu                     2.2.0\n",
      "scikit-learn                  1.3.2\n",
      "scipy                         1.10.1\n",
      "sentencepiece                 0.2.0\n",
      "seqeval                       1.2.2\n",
      "setuptools                    70.1.1\n",
      "six                           1.16.0\n",
      "stack-data                    0.6.3\n",
      "tabulate                      0.9.0\n",
      "tensorboard                   2.13.0\n",
      "tensorboard-data-server       0.7.2\n",
      "tensorflow                    2.13.0rc0\n",
      "tensorflow-addons             0.21.0\n",
      "tensorflow-datasets           4.9.2\n",
      "tensorflow-estimator          2.13.0\n",
      "tensorflow-hub                0.16.1\n",
      "tensorflow-io                 0.34.0\n",
      "tensorflow-io-gcs-filesystem  0.34.0\n",
      "tensorflow-macos              2.13.0rc0\n",
      "tensorflow-metadata           1.14.0\n",
      "tensorflow-model-optimization 0.8.0\n",
      "termcolor                     2.4.0\n",
      "text-unidecode                1.3\n",
      "tf-keras                      2.15.0\n",
      "tf-models-official            2.13.0\n",
      "tf-slim                       1.1.0\n",
      "threadpoolctl                 3.5.0\n",
      "toml                          0.10.2\n",
      "tornado                       6.4.1\n",
      "tqdm                          4.66.4\n",
      "traitlets                     5.14.3\n",
      "typeguard                     2.13.3\n",
      "typing_extensions             4.5.0\n",
      "tzdata                        2024.1\n",
      "tzlocal                       5.2\n",
      "uritemplate                   4.1.1\n",
      "urllib3                       2.2.2\n",
      "wcwidth                       0.2.13\n",
      "webencodings                  0.5.1\n",
      "Werkzeug                      3.0.3\n",
      "wheel                         0.43.0\n",
      "wrapt                         1.14.1\n",
      "zipp                          3.19.2\n",
      "zstandard                     0.22.0\n",
      "Note: you may need to restart the kernel to use updated packages.\n"
     ]
    }
   ],
   "source": [
    "pip list"
   ]
  },
  {
   "cell_type": "code",
   "execution_count": 3,
   "metadata": {},
   "outputs": [
    {
     "name": "stdout",
     "output_type": "stream",
     "text": [
      "\u001b[31mERROR: Could not find a version that satisfies the requirement tensorflow-gpu==2.15.0 (from versions: 2.12.0)\u001b[0m\u001b[31m\n",
      "\u001b[0m\u001b[31mERROR: No matching distribution found for tensorflow-gpu==2.15.0\u001b[0m\u001b[31m\n",
      "\u001b[0m"
     ]
    }
   ],
   "source": [
    "!pip install tensorflow-gpu==2.15.0"
   ]
  },
  {
   "cell_type": "code",
   "execution_count": 4,
   "metadata": {
    "id": "42hJEdo_pfDB"
   },
   "outputs": [],
   "source": [
    "CUSTOM_MODEL_NAME = 'my_ssd_mobnet' \n",
    "PRETRAINED_MODEL_NAME = 'ssd_mobilenet_v2_fpnlite_320x320_coco17_tpu-8'\n",
    "PRETRAINED_MODEL_URL = 'http://download.tensorflow.org/models/object_detection/tf2/20200711/ssd_mobilenet_v2_fpnlite_320x320_coco17_tpu-8.tar.gz'\n",
    "TF_RECORD_SCRIPT_NAME = 'generate_tfrecord.py'\n",
    "LABEL_MAP_NAME = 'label_map.pbtxt'"
   ]
  },
  {
   "cell_type": "code",
   "execution_count": 5,
   "metadata": {
    "id": "hbPhYVy_pfDB"
   },
   "outputs": [],
   "source": [
    "paths = {\n",
    "    'WORKSPACE_PATH': os.path.join('Tensorflow', 'workspace'),\n",
    "    'SCRIPTS_PATH': os.path.join('Tensorflow','scripts'),\n",
    "    'APIMODEL_PATH': os.path.join('Tensorflow','models'),\n",
    "    'ANNOTATION_PATH': os.path.join('Tensorflow', 'workspace','annotations'),\n",
    "    'IMAGE_PATH': os.path.join('Tensorflow', 'workspace','images'),\n",
    "    'MODEL_PATH': os.path.join('Tensorflow', 'workspace','models'),\n",
    "    'PRETRAINED_MODEL_PATH': os.path.join('Tensorflow', 'workspace','pre-trained-models'),\n",
    "    'CHECKPOINT_PATH': os.path.join('Tensorflow', 'workspace','models',CUSTOM_MODEL_NAME), \n",
    "    'OUTPUT_PATH': os.path.join('Tensorflow', 'workspace','models',CUSTOM_MODEL_NAME, 'export'), \n",
    "    'TFJS_PATH':os.path.join('Tensorflow', 'workspace','models',CUSTOM_MODEL_NAME, 'tfjsexport'), \n",
    "    'TFLITE_PATH':os.path.join('Tensorflow', 'workspace','models',CUSTOM_MODEL_NAME, 'tfliteexport'), \n",
    "    'PROTOC_PATH':os.path.join('Tensorflow','protoc')\n",
    " }"
   ]
  },
  {
   "cell_type": "code",
   "execution_count": 6,
   "metadata": {
    "id": "LwhWZMI0pfDC"
   },
   "outputs": [],
   "source": [
    "files = {\n",
    "    'PIPELINE_CONFIG':os.path.join('Tensorflow', 'workspace','models', CUSTOM_MODEL_NAME, 'pipeline.config'),\n",
    "    'TF_RECORD_SCRIPT': os.path.join(paths['SCRIPTS_PATH'], TF_RECORD_SCRIPT_NAME), \n",
    "    'LABELMAP': os.path.join(paths['ANNOTATION_PATH'], LABEL_MAP_NAME)\n",
    "}"
   ]
  },
  {
   "cell_type": "code",
   "execution_count": 7,
   "metadata": {},
   "outputs": [
    {
     "name": "stdout",
     "output_type": "stream",
     "text": [
      "Requirement already satisfied: protobuf==3.20.1 in /Users/yash/miniforge3/envs/tfcpd/lib/python3.8/site-packages (3.20.1)\n",
      "Note: you may need to restart the kernel to use updated packages.\n"
     ]
    }
   ],
   "source": [
    "pip install protobuf==3.20.1"
   ]
  },
  {
   "cell_type": "code",
   "execution_count": null,
   "metadata": {
    "id": "HR-TfDGrpfDC"
   },
   "outputs": [],
   "source": [
    "for path in paths.values():\n",
    "    if not os.path.exists(path):\n",
    "        if os.name == 'posix':\n",
    "            !mkdir -p {path}\n",
    "        if os.name == 'nt':\n",
    "            !mkdir {path}"
   ]
  },
  {
   "cell_type": "markdown",
   "metadata": {
    "id": "OLU-rs_ipfDE"
   },
   "source": [
    "# 1. Download TF Models Pretrained Models from Tensorflow Model Zoo and Install TFOD"
   ]
  },
  {
   "cell_type": "code",
   "execution_count": null,
   "metadata": {},
   "outputs": [],
   "source": [
    "!pip install tensorflow-gpu"
   ]
  },
  {
   "cell_type": "code",
   "execution_count": null,
   "metadata": {},
   "outputs": [],
   "source": [
    "pip install Keras-Preprocessing"
   ]
  },
  {
   "cell_type": "code",
   "execution_count": null,
   "metadata": {},
   "outputs": [],
   "source": [
    "!pip install tf-models-official==2.13.0 --no-deps"
   ]
  },
  {
   "cell_type": "code",
   "execution_count": null,
   "metadata": {},
   "outputs": [],
   "source": [
    "!pip install pyyaml==5.3.1"
   ]
  },
  {
   "cell_type": "code",
   "execution_count": null,
   "metadata": {},
   "outputs": [],
   "source": [
    "!pip install protobuf==3.20.1"
   ]
  },
  {
   "cell_type": "code",
   "execution_count": null,
   "metadata": {},
   "outputs": [],
   "source": [
    "# https://www.tensorflow.org/install/source_windows"
   ]
  },
  {
   "cell_type": "code",
   "execution_count": null,
   "metadata": {
    "id": "K-Cmz2edpfDE",
    "scrolled": true
   },
   "outputs": [],
   "source": [
    "if os.name=='nt':\n",
    "    !pip install wget\n",
    "    import wget"
   ]
  },
  {
   "cell_type": "code",
   "execution_count": null,
   "metadata": {
    "id": "iA1DIq5OpfDE"
   },
   "outputs": [],
   "source": [
    "if not os.path.exists(os.path.join(paths['APIMODEL_PATH'], 'research', 'object_detection')):\n",
    "    !git clone https://github.com/tensorflow/models {paths['APIMODEL_PATH']}"
   ]
  },
  {
   "cell_type": "code",
   "execution_count": null,
   "metadata": {
    "id": "rJjMHbnDs3Tv"
   },
   "outputs": [],
   "source": [
    "# Install Tensorflow Object Detection \n",
    "if os.name=='posix':  \n",
    "    !apt-get install protobuf-compiler\n",
    "    !cd Tensorflow/models/research && protoc object_detection/protos/*.proto --python_out=. && cp object_detection/packages/tf2/setup.py . && python -m pip install . \n",
    "    \n",
    "if os.name=='nt':\n",
    "    url=\"https://github.com/protocolbuffers/protobuf/releases/download/v3.15.6/protoc-3.15.6-win64.zip\"\n",
    "    wget.download(url)\n",
    "    !move protoc-3.15.6-win64.zip {paths['PROTOC_PATH']}\n",
    "    !cd {paths['PROTOC_PATH']} && tar -xf protoc-3.15.6-win64.zip\n",
    "    os.environ['PATH'] += os.pathsep + os.path.abspath(os.path.join(paths['PROTOC_PATH'], 'bin'))   \n",
    "    !cd Tensorflow/models/research && protoc object_detection/protos/*.proto --python_out=. && copy object_detection\\\\packages\\\\tf2\\\\setup.py setup.py && python setup.py build && python setup.py install\n",
    "    !cd Tensorflow/models/research/slim && pip install -e . "
   ]
  },
  {
   "cell_type": "code",
   "execution_count": 6,
   "metadata": {
    "scrolled": true
   },
   "outputs": [
    {
     "name": "stdout",
     "output_type": "stream",
     "text": [
      "Running tests under Python 3.8.19: /Users/yash/miniforge3/envs/tfcpd/bin/python\n",
      "[ RUN      ] ModelBuilderTF2Test.test_create_center_net_deepmac\n",
      "WARNING:tensorflow:`tf.keras.layers.experimental.SyncBatchNormalization` endpoint is deprecated and will be removed in a future release. Please use `tf.keras.layers.BatchNormalization` with parameter `synchronized` set to True.\n",
      "W0708 10:00:26.485012 8515963904 batch_normalization.py:1531] `tf.keras.layers.experimental.SyncBatchNormalization` endpoint is deprecated and will be removed in a future release. Please use `tf.keras.layers.BatchNormalization` with parameter `synchronized` set to True.\n",
      "/Users/yash/miniforge3/envs/tfcpd/lib/python3.8/site-packages/object_detection/builders/model_builder.py:1112: DeprecationWarning: The 'warn' function is deprecated, use 'warning' instead\n",
      "  logging.warn(('Building experimental DeepMAC meta-arch.'\n",
      "W0708 10:00:26.677924 8515963904 model_builder.py:1112] Building experimental DeepMAC meta-arch. Some features may be omitted.\n",
      "INFO:tensorflow:time(__main__.ModelBuilderTF2Test.test_create_center_net_deepmac): 0.43s\n",
      "I0708 10:00:26.889948 8515963904 test_util.py:2462] time(__main__.ModelBuilderTF2Test.test_create_center_net_deepmac): 0.43s\n",
      "[       OK ] ModelBuilderTF2Test.test_create_center_net_deepmac\n",
      "[ RUN      ] ModelBuilderTF2Test.test_create_center_net_model0 (customize_head_params=True)\n",
      "INFO:tensorflow:time(__main__.ModelBuilderTF2Test.test_create_center_net_model0 (customize_head_params=True)): 0.52s\n",
      "I0708 10:00:27.412933 8515963904 test_util.py:2462] time(__main__.ModelBuilderTF2Test.test_create_center_net_model0 (customize_head_params=True)): 0.52s\n",
      "[       OK ] ModelBuilderTF2Test.test_create_center_net_model0 (customize_head_params=True)\n",
      "[ RUN      ] ModelBuilderTF2Test.test_create_center_net_model1 (customize_head_params=False)\n",
      "INFO:tensorflow:time(__main__.ModelBuilderTF2Test.test_create_center_net_model1 (customize_head_params=False)): 0.31s\n",
      "I0708 10:00:27.720686 8515963904 test_util.py:2462] time(__main__.ModelBuilderTF2Test.test_create_center_net_model1 (customize_head_params=False)): 0.31s\n",
      "[       OK ] ModelBuilderTF2Test.test_create_center_net_model1 (customize_head_params=False)\n",
      "[ RUN      ] ModelBuilderTF2Test.test_create_center_net_model_from_keypoints\n",
      "INFO:tensorflow:time(__main__.ModelBuilderTF2Test.test_create_center_net_model_from_keypoints): 0.21s\n",
      "I0708 10:00:27.930447 8515963904 test_util.py:2462] time(__main__.ModelBuilderTF2Test.test_create_center_net_model_from_keypoints): 0.21s\n",
      "[       OK ] ModelBuilderTF2Test.test_create_center_net_model_from_keypoints\n",
      "[ RUN      ] ModelBuilderTF2Test.test_create_center_net_model_mobilenet\n",
      "INFO:tensorflow:time(__main__.ModelBuilderTF2Test.test_create_center_net_model_mobilenet): 1.53s\n",
      "I0708 10:00:29.465136 8515963904 test_util.py:2462] time(__main__.ModelBuilderTF2Test.test_create_center_net_model_mobilenet): 1.53s\n",
      "[       OK ] ModelBuilderTF2Test.test_create_center_net_model_mobilenet\n",
      "[ RUN      ] ModelBuilderTF2Test.test_create_experimental_model\n",
      "INFO:tensorflow:time(__main__.ModelBuilderTF2Test.test_create_experimental_model): 0.0s\n",
      "I0708 10:00:29.468539 8515963904 test_util.py:2462] time(__main__.ModelBuilderTF2Test.test_create_experimental_model): 0.0s\n",
      "[       OK ] ModelBuilderTF2Test.test_create_experimental_model\n",
      "[ RUN      ] ModelBuilderTF2Test.test_create_faster_rcnn_from_config_with_crop_feature0 (True)\n",
      "INFO:tensorflow:time(__main__.ModelBuilderTF2Test.test_create_faster_rcnn_from_config_with_crop_feature0 (True)): 0.02s\n",
      "I0708 10:00:29.486074 8515963904 test_util.py:2462] time(__main__.ModelBuilderTF2Test.test_create_faster_rcnn_from_config_with_crop_feature0 (True)): 0.02s\n",
      "[       OK ] ModelBuilderTF2Test.test_create_faster_rcnn_from_config_with_crop_feature0 (True)\n",
      "[ RUN      ] ModelBuilderTF2Test.test_create_faster_rcnn_from_config_with_crop_feature1 (False)\n",
      "INFO:tensorflow:time(__main__.ModelBuilderTF2Test.test_create_faster_rcnn_from_config_with_crop_feature1 (False)): 0.01s\n",
      "I0708 10:00:29.498749 8515963904 test_util.py:2462] time(__main__.ModelBuilderTF2Test.test_create_faster_rcnn_from_config_with_crop_feature1 (False)): 0.01s\n",
      "[       OK ] ModelBuilderTF2Test.test_create_faster_rcnn_from_config_with_crop_feature1 (False)\n",
      "[ RUN      ] ModelBuilderTF2Test.test_create_faster_rcnn_model_from_config_with_example_miner\n",
      "INFO:tensorflow:time(__main__.ModelBuilderTF2Test.test_create_faster_rcnn_model_from_config_with_example_miner): 0.01s\n",
      "I0708 10:00:29.511456 8515963904 test_util.py:2462] time(__main__.ModelBuilderTF2Test.test_create_faster_rcnn_model_from_config_with_example_miner): 0.01s\n",
      "[       OK ] ModelBuilderTF2Test.test_create_faster_rcnn_model_from_config_with_example_miner\n",
      "[ RUN      ] ModelBuilderTF2Test.test_create_faster_rcnn_models_from_config_faster_rcnn_with_matmul\n",
      "INFO:tensorflow:time(__main__.ModelBuilderTF2Test.test_create_faster_rcnn_models_from_config_faster_rcnn_with_matmul): 0.08s\n",
      "I0708 10:00:29.586967 8515963904 test_util.py:2462] time(__main__.ModelBuilderTF2Test.test_create_faster_rcnn_models_from_config_faster_rcnn_with_matmul): 0.08s\n",
      "[       OK ] ModelBuilderTF2Test.test_create_faster_rcnn_models_from_config_faster_rcnn_with_matmul\n",
      "[ RUN      ] ModelBuilderTF2Test.test_create_faster_rcnn_models_from_config_faster_rcnn_without_matmul\n",
      "INFO:tensorflow:time(__main__.ModelBuilderTF2Test.test_create_faster_rcnn_models_from_config_faster_rcnn_without_matmul): 0.07s\n",
      "I0708 10:00:29.658875 8515963904 test_util.py:2462] time(__main__.ModelBuilderTF2Test.test_create_faster_rcnn_models_from_config_faster_rcnn_without_matmul): 0.07s\n",
      "[       OK ] ModelBuilderTF2Test.test_create_faster_rcnn_models_from_config_faster_rcnn_without_matmul\n",
      "[ RUN      ] ModelBuilderTF2Test.test_create_faster_rcnn_models_from_config_mask_rcnn_with_matmul\n",
      "INFO:tensorflow:time(__main__.ModelBuilderTF2Test.test_create_faster_rcnn_models_from_config_mask_rcnn_with_matmul): 0.07s\n",
      "I0708 10:00:29.733808 8515963904 test_util.py:2462] time(__main__.ModelBuilderTF2Test.test_create_faster_rcnn_models_from_config_mask_rcnn_with_matmul): 0.07s\n",
      "[       OK ] ModelBuilderTF2Test.test_create_faster_rcnn_models_from_config_mask_rcnn_with_matmul\n",
      "[ RUN      ] ModelBuilderTF2Test.test_create_faster_rcnn_models_from_config_mask_rcnn_without_matmul\n",
      "INFO:tensorflow:time(__main__.ModelBuilderTF2Test.test_create_faster_rcnn_models_from_config_mask_rcnn_without_matmul): 0.07s\n",
      "I0708 10:00:29.808605 8515963904 test_util.py:2462] time(__main__.ModelBuilderTF2Test.test_create_faster_rcnn_models_from_config_mask_rcnn_without_matmul): 0.07s\n",
      "[       OK ] ModelBuilderTF2Test.test_create_faster_rcnn_models_from_config_mask_rcnn_without_matmul\n",
      "[ RUN      ] ModelBuilderTF2Test.test_create_rfcn_model_from_config\n",
      "INFO:tensorflow:time(__main__.ModelBuilderTF2Test.test_create_rfcn_model_from_config): 0.07s\n",
      "I0708 10:00:29.881095 8515963904 test_util.py:2462] time(__main__.ModelBuilderTF2Test.test_create_rfcn_model_from_config): 0.07s\n",
      "[       OK ] ModelBuilderTF2Test.test_create_rfcn_model_from_config\n",
      "[ RUN      ] ModelBuilderTF2Test.test_create_ssd_fpn_model_from_config\n",
      "INFO:tensorflow:time(__main__.ModelBuilderTF2Test.test_create_ssd_fpn_model_from_config): 0.02s\n",
      "I0708 10:00:29.903684 8515963904 test_util.py:2462] time(__main__.ModelBuilderTF2Test.test_create_ssd_fpn_model_from_config): 0.02s\n",
      "[       OK ] ModelBuilderTF2Test.test_create_ssd_fpn_model_from_config\n",
      "[ RUN      ] ModelBuilderTF2Test.test_create_ssd_models_from_config\n",
      "I0708 10:00:30.039247 8515963904 ssd_efficientnet_bifpn_feature_extractor.py:161] EfficientDet EfficientNet backbone version: efficientnet-b0\n",
      "I0708 10:00:30.039346 8515963904 ssd_efficientnet_bifpn_feature_extractor.py:163] EfficientDet BiFPN num filters: 64\n",
      "I0708 10:00:30.039386 8515963904 ssd_efficientnet_bifpn_feature_extractor.py:164] EfficientDet BiFPN num iterations: 3\n",
      "I0708 10:00:30.041085 8515963904 efficientnet_model.py:143] round_filter input=32 output=32\n",
      "I0708 10:00:30.060292 8515963904 efficientnet_model.py:143] round_filter input=32 output=32\n",
      "I0708 10:00:30.060370 8515963904 efficientnet_model.py:143] round_filter input=16 output=16\n",
      "I0708 10:00:30.116645 8515963904 efficientnet_model.py:143] round_filter input=16 output=16\n",
      "I0708 10:00:30.116741 8515963904 efficientnet_model.py:143] round_filter input=24 output=24\n",
      "I0708 10:00:30.257982 8515963904 efficientnet_model.py:143] round_filter input=24 output=24\n",
      "I0708 10:00:30.258074 8515963904 efficientnet_model.py:143] round_filter input=40 output=40\n",
      "I0708 10:00:30.394402 8515963904 efficientnet_model.py:143] round_filter input=40 output=40\n",
      "I0708 10:00:30.394506 8515963904 efficientnet_model.py:143] round_filter input=80 output=80\n",
      "I0708 10:00:30.596333 8515963904 efficientnet_model.py:143] round_filter input=80 output=80\n",
      "I0708 10:00:30.596430 8515963904 efficientnet_model.py:143] round_filter input=112 output=112\n",
      "I0708 10:00:30.800165 8515963904 efficientnet_model.py:143] round_filter input=112 output=112\n",
      "I0708 10:00:30.800263 8515963904 efficientnet_model.py:143] round_filter input=192 output=192\n",
      "I0708 10:00:31.180511 8515963904 efficientnet_model.py:143] round_filter input=192 output=192\n",
      "I0708 10:00:31.180608 8515963904 efficientnet_model.py:143] round_filter input=320 output=320\n",
      "I0708 10:00:31.248925 8515963904 efficientnet_model.py:143] round_filter input=1280 output=1280\n",
      "I0708 10:00:31.283662 8515963904 efficientnet_model.py:453] Building model efficientnet with params ModelConfig(width_coefficient=1.0, depth_coefficient=1.0, resolution=224, dropout_rate=0.2, blocks=(BlockConfig(input_filters=32, output_filters=16, kernel_size=3, num_repeat=1, expand_ratio=1, strides=(1, 1), se_ratio=0.25, id_skip=True, fused_conv=False, conv_type='depthwise'), BlockConfig(input_filters=16, output_filters=24, kernel_size=3, num_repeat=2, expand_ratio=6, strides=(2, 2), se_ratio=0.25, id_skip=True, fused_conv=False, conv_type='depthwise'), BlockConfig(input_filters=24, output_filters=40, kernel_size=5, num_repeat=2, expand_ratio=6, strides=(2, 2), se_ratio=0.25, id_skip=True, fused_conv=False, conv_type='depthwise'), BlockConfig(input_filters=40, output_filters=80, kernel_size=3, num_repeat=3, expand_ratio=6, strides=(2, 2), se_ratio=0.25, id_skip=True, fused_conv=False, conv_type='depthwise'), BlockConfig(input_filters=80, output_filters=112, kernel_size=5, num_repeat=3, expand_ratio=6, strides=(1, 1), se_ratio=0.25, id_skip=True, fused_conv=False, conv_type='depthwise'), BlockConfig(input_filters=112, output_filters=192, kernel_size=5, num_repeat=4, expand_ratio=6, strides=(2, 2), se_ratio=0.25, id_skip=True, fused_conv=False, conv_type='depthwise'), BlockConfig(input_filters=192, output_filters=320, kernel_size=3, num_repeat=1, expand_ratio=6, strides=(1, 1), se_ratio=0.25, id_skip=True, fused_conv=False, conv_type='depthwise')), stem_base_filters=32, top_base_filters=1280, activation='simple_swish', batch_norm='default', bn_momentum=0.99, bn_epsilon=0.001, weight_decay=5e-06, drop_connect_rate=0.2, depth_divisor=8, min_depth=None, use_se=True, input_channels=3, num_classes=1000, model_name='efficientnet', rescale_input=False, data_format='channels_last', dtype='float32')\n",
      "I0708 10:00:31.325221 8515963904 ssd_efficientnet_bifpn_feature_extractor.py:161] EfficientDet EfficientNet backbone version: efficientnet-b1\n",
      "I0708 10:00:31.325314 8515963904 ssd_efficientnet_bifpn_feature_extractor.py:163] EfficientDet BiFPN num filters: 88\n",
      "I0708 10:00:31.325355 8515963904 ssd_efficientnet_bifpn_feature_extractor.py:164] EfficientDet BiFPN num iterations: 4\n",
      "I0708 10:00:31.326605 8515963904 efficientnet_model.py:143] round_filter input=32 output=32\n",
      "I0708 10:00:31.339196 8515963904 efficientnet_model.py:143] round_filter input=32 output=32\n",
      "I0708 10:00:31.339275 8515963904 efficientnet_model.py:143] round_filter input=16 output=16\n",
      "I0708 10:00:31.443062 8515963904 efficientnet_model.py:143] round_filter input=16 output=16\n",
      "I0708 10:00:31.443164 8515963904 efficientnet_model.py:143] round_filter input=24 output=24\n",
      "I0708 10:00:31.629455 8515963904 efficientnet_model.py:143] round_filter input=24 output=24\n",
      "I0708 10:00:31.629559 8515963904 efficientnet_model.py:143] round_filter input=40 output=40\n",
      "I0708 10:00:31.816551 8515963904 efficientnet_model.py:143] round_filter input=40 output=40\n",
      "I0708 10:00:31.816648 8515963904 efficientnet_model.py:143] round_filter input=80 output=80\n",
      "I0708 10:00:32.070046 8515963904 efficientnet_model.py:143] round_filter input=80 output=80\n",
      "I0708 10:00:32.070142 8515963904 efficientnet_model.py:143] round_filter input=112 output=112\n",
      "I0708 10:00:32.324486 8515963904 efficientnet_model.py:143] round_filter input=112 output=112\n",
      "I0708 10:00:32.324585 8515963904 efficientnet_model.py:143] round_filter input=192 output=192\n",
      "I0708 10:00:32.655877 8515963904 efficientnet_model.py:143] round_filter input=192 output=192\n",
      "I0708 10:00:32.655980 8515963904 efficientnet_model.py:143] round_filter input=320 output=320\n",
      "I0708 10:00:32.820474 8515963904 efficientnet_model.py:143] round_filter input=1280 output=1280\n",
      "I0708 10:00:32.857357 8515963904 efficientnet_model.py:453] Building model efficientnet with params ModelConfig(width_coefficient=1.0, depth_coefficient=1.1, resolution=240, dropout_rate=0.2, blocks=(BlockConfig(input_filters=32, output_filters=16, kernel_size=3, num_repeat=1, expand_ratio=1, strides=(1, 1), se_ratio=0.25, id_skip=True, fused_conv=False, conv_type='depthwise'), BlockConfig(input_filters=16, output_filters=24, kernel_size=3, num_repeat=2, expand_ratio=6, strides=(2, 2), se_ratio=0.25, id_skip=True, fused_conv=False, conv_type='depthwise'), BlockConfig(input_filters=24, output_filters=40, kernel_size=5, num_repeat=2, expand_ratio=6, strides=(2, 2), se_ratio=0.25, id_skip=True, fused_conv=False, conv_type='depthwise'), BlockConfig(input_filters=40, output_filters=80, kernel_size=3, num_repeat=3, expand_ratio=6, strides=(2, 2), se_ratio=0.25, id_skip=True, fused_conv=False, conv_type='depthwise'), BlockConfig(input_filters=80, output_filters=112, kernel_size=5, num_repeat=3, expand_ratio=6, strides=(1, 1), se_ratio=0.25, id_skip=True, fused_conv=False, conv_type='depthwise'), BlockConfig(input_filters=112, output_filters=192, kernel_size=5, num_repeat=4, expand_ratio=6, strides=(2, 2), se_ratio=0.25, id_skip=True, fused_conv=False, conv_type='depthwise'), BlockConfig(input_filters=192, output_filters=320, kernel_size=3, num_repeat=1, expand_ratio=6, strides=(1, 1), se_ratio=0.25, id_skip=True, fused_conv=False, conv_type='depthwise')), stem_base_filters=32, top_base_filters=1280, activation='simple_swish', batch_norm='default', bn_momentum=0.99, bn_epsilon=0.001, weight_decay=5e-06, drop_connect_rate=0.2, depth_divisor=8, min_depth=None, use_se=True, input_channels=3, num_classes=1000, model_name='efficientnet', rescale_input=False, data_format='channels_last', dtype='float32')\n",
      "I0708 10:00:32.916832 8515963904 ssd_efficientnet_bifpn_feature_extractor.py:161] EfficientDet EfficientNet backbone version: efficientnet-b2\n",
      "I0708 10:00:32.916942 8515963904 ssd_efficientnet_bifpn_feature_extractor.py:163] EfficientDet BiFPN num filters: 112\n",
      "I0708 10:00:32.916987 8515963904 ssd_efficientnet_bifpn_feature_extractor.py:164] EfficientDet BiFPN num iterations: 5\n",
      "I0708 10:00:32.918500 8515963904 efficientnet_model.py:143] round_filter input=32 output=32\n",
      "I0708 10:00:32.935557 8515963904 efficientnet_model.py:143] round_filter input=32 output=32\n",
      "I0708 10:00:32.935664 8515963904 efficientnet_model.py:143] round_filter input=16 output=16\n",
      "I0708 10:00:33.042714 8515963904 efficientnet_model.py:143] round_filter input=16 output=16\n",
      "I0708 10:00:33.042819 8515963904 efficientnet_model.py:143] round_filter input=24 output=24\n",
      "I0708 10:00:33.239058 8515963904 efficientnet_model.py:143] round_filter input=24 output=24\n",
      "I0708 10:00:33.239174 8515963904 efficientnet_model.py:143] round_filter input=40 output=48\n",
      "I0708 10:00:33.443945 8515963904 efficientnet_model.py:143] round_filter input=40 output=48\n",
      "I0708 10:00:33.444047 8515963904 efficientnet_model.py:143] round_filter input=80 output=88\n",
      "I0708 10:00:33.707301 8515963904 efficientnet_model.py:143] round_filter input=80 output=88\n",
      "I0708 10:00:33.707396 8515963904 efficientnet_model.py:143] round_filter input=112 output=120\n",
      "I0708 10:00:33.974181 8515963904 efficientnet_model.py:143] round_filter input=112 output=120\n",
      "I0708 10:00:33.974279 8515963904 efficientnet_model.py:143] round_filter input=192 output=208\n",
      "I0708 10:00:34.316464 8515963904 efficientnet_model.py:143] round_filter input=192 output=208\n",
      "I0708 10:00:34.316564 8515963904 efficientnet_model.py:143] round_filter input=320 output=352\n",
      "I0708 10:00:34.467885 8515963904 efficientnet_model.py:143] round_filter input=1280 output=1408\n",
      "I0708 10:00:34.501986 8515963904 efficientnet_model.py:453] Building model efficientnet with params ModelConfig(width_coefficient=1.1, depth_coefficient=1.2, resolution=260, dropout_rate=0.3, blocks=(BlockConfig(input_filters=32, output_filters=16, kernel_size=3, num_repeat=1, expand_ratio=1, strides=(1, 1), se_ratio=0.25, id_skip=True, fused_conv=False, conv_type='depthwise'), BlockConfig(input_filters=16, output_filters=24, kernel_size=3, num_repeat=2, expand_ratio=6, strides=(2, 2), se_ratio=0.25, id_skip=True, fused_conv=False, conv_type='depthwise'), BlockConfig(input_filters=24, output_filters=40, kernel_size=5, num_repeat=2, expand_ratio=6, strides=(2, 2), se_ratio=0.25, id_skip=True, fused_conv=False, conv_type='depthwise'), BlockConfig(input_filters=40, output_filters=80, kernel_size=3, num_repeat=3, expand_ratio=6, strides=(2, 2), se_ratio=0.25, id_skip=True, fused_conv=False, conv_type='depthwise'), BlockConfig(input_filters=80, output_filters=112, kernel_size=5, num_repeat=3, expand_ratio=6, strides=(1, 1), se_ratio=0.25, id_skip=True, fused_conv=False, conv_type='depthwise'), BlockConfig(input_filters=112, output_filters=192, kernel_size=5, num_repeat=4, expand_ratio=6, strides=(2, 2), se_ratio=0.25, id_skip=True, fused_conv=False, conv_type='depthwise'), BlockConfig(input_filters=192, output_filters=320, kernel_size=3, num_repeat=1, expand_ratio=6, strides=(1, 1), se_ratio=0.25, id_skip=True, fused_conv=False, conv_type='depthwise')), stem_base_filters=32, top_base_filters=1280, activation='simple_swish', batch_norm='default', bn_momentum=0.99, bn_epsilon=0.001, weight_decay=5e-06, drop_connect_rate=0.2, depth_divisor=8, min_depth=None, use_se=True, input_channels=3, num_classes=1000, model_name='efficientnet', rescale_input=False, data_format='channels_last', dtype='float32')\n",
      "I0708 10:00:34.552975 8515963904 ssd_efficientnet_bifpn_feature_extractor.py:161] EfficientDet EfficientNet backbone version: efficientnet-b3\n",
      "I0708 10:00:34.553080 8515963904 ssd_efficientnet_bifpn_feature_extractor.py:163] EfficientDet BiFPN num filters: 160\n",
      "I0708 10:00:34.553119 8515963904 ssd_efficientnet_bifpn_feature_extractor.py:164] EfficientDet BiFPN num iterations: 6\n",
      "I0708 10:00:34.554405 8515963904 efficientnet_model.py:143] round_filter input=32 output=40\n",
      "I0708 10:00:34.570147 8515963904 efficientnet_model.py:143] round_filter input=32 output=40\n",
      "I0708 10:00:34.570245 8515963904 efficientnet_model.py:143] round_filter input=16 output=24\n",
      "I0708 10:00:34.680807 8515963904 efficientnet_model.py:143] round_filter input=16 output=24\n",
      "I0708 10:00:34.680907 8515963904 efficientnet_model.py:143] round_filter input=24 output=32\n",
      "I0708 10:00:34.873862 8515963904 efficientnet_model.py:143] round_filter input=24 output=32\n",
      "I0708 10:00:34.873968 8515963904 efficientnet_model.py:143] round_filter input=40 output=48\n",
      "I0708 10:00:35.063621 8515963904 efficientnet_model.py:143] round_filter input=40 output=48\n",
      "I0708 10:00:35.063720 8515963904 efficientnet_model.py:143] round_filter input=80 output=96\n",
      "I0708 10:00:35.514281 8515963904 efficientnet_model.py:143] round_filter input=80 output=96\n",
      "I0708 10:00:35.514381 8515963904 efficientnet_model.py:143] round_filter input=112 output=136\n",
      "I0708 10:00:35.856059 8515963904 efficientnet_model.py:143] round_filter input=112 output=136\n",
      "I0708 10:00:35.856163 8515963904 efficientnet_model.py:143] round_filter input=192 output=232\n",
      "I0708 10:00:36.267983 8515963904 efficientnet_model.py:143] round_filter input=192 output=232\n",
      "I0708 10:00:36.268090 8515963904 efficientnet_model.py:143] round_filter input=320 output=384\n",
      "I0708 10:00:36.425328 8515963904 efficientnet_model.py:143] round_filter input=1280 output=1536\n",
      "I0708 10:00:36.460180 8515963904 efficientnet_model.py:453] Building model efficientnet with params ModelConfig(width_coefficient=1.2, depth_coefficient=1.4, resolution=300, dropout_rate=0.3, blocks=(BlockConfig(input_filters=32, output_filters=16, kernel_size=3, num_repeat=1, expand_ratio=1, strides=(1, 1), se_ratio=0.25, id_skip=True, fused_conv=False, conv_type='depthwise'), BlockConfig(input_filters=16, output_filters=24, kernel_size=3, num_repeat=2, expand_ratio=6, strides=(2, 2), se_ratio=0.25, id_skip=True, fused_conv=False, conv_type='depthwise'), BlockConfig(input_filters=24, output_filters=40, kernel_size=5, num_repeat=2, expand_ratio=6, strides=(2, 2), se_ratio=0.25, id_skip=True, fused_conv=False, conv_type='depthwise'), BlockConfig(input_filters=40, output_filters=80, kernel_size=3, num_repeat=3, expand_ratio=6, strides=(2, 2), se_ratio=0.25, id_skip=True, fused_conv=False, conv_type='depthwise'), BlockConfig(input_filters=80, output_filters=112, kernel_size=5, num_repeat=3, expand_ratio=6, strides=(1, 1), se_ratio=0.25, id_skip=True, fused_conv=False, conv_type='depthwise'), BlockConfig(input_filters=112, output_filters=192, kernel_size=5, num_repeat=4, expand_ratio=6, strides=(2, 2), se_ratio=0.25, id_skip=True, fused_conv=False, conv_type='depthwise'), BlockConfig(input_filters=192, output_filters=320, kernel_size=3, num_repeat=1, expand_ratio=6, strides=(1, 1), se_ratio=0.25, id_skip=True, fused_conv=False, conv_type='depthwise')), stem_base_filters=32, top_base_filters=1280, activation='simple_swish', batch_norm='default', bn_momentum=0.99, bn_epsilon=0.001, weight_decay=5e-06, drop_connect_rate=0.2, depth_divisor=8, min_depth=None, use_se=True, input_channels=3, num_classes=1000, model_name='efficientnet', rescale_input=False, data_format='channels_last', dtype='float32')\n",
      "I0708 10:00:36.514555 8515963904 ssd_efficientnet_bifpn_feature_extractor.py:161] EfficientDet EfficientNet backbone version: efficientnet-b4\n",
      "I0708 10:00:36.514661 8515963904 ssd_efficientnet_bifpn_feature_extractor.py:163] EfficientDet BiFPN num filters: 224\n",
      "I0708 10:00:36.514701 8515963904 ssd_efficientnet_bifpn_feature_extractor.py:164] EfficientDet BiFPN num iterations: 7\n",
      "I0708 10:00:36.515994 8515963904 efficientnet_model.py:143] round_filter input=32 output=48\n",
      "I0708 10:00:36.530043 8515963904 efficientnet_model.py:143] round_filter input=32 output=48\n",
      "I0708 10:00:36.530111 8515963904 efficientnet_model.py:143] round_filter input=16 output=24\n",
      "I0708 10:00:36.637192 8515963904 efficientnet_model.py:143] round_filter input=16 output=24\n",
      "I0708 10:00:36.637293 8515963904 efficientnet_model.py:143] round_filter input=24 output=32\n",
      "I0708 10:00:36.896692 8515963904 efficientnet_model.py:143] round_filter input=24 output=32\n",
      "I0708 10:00:36.896799 8515963904 efficientnet_model.py:143] round_filter input=40 output=56\n",
      "I0708 10:00:37.175686 8515963904 efficientnet_model.py:143] round_filter input=40 output=56\n",
      "I0708 10:00:37.175796 8515963904 efficientnet_model.py:143] round_filter input=80 output=112\n",
      "I0708 10:00:37.577402 8515963904 efficientnet_model.py:143] round_filter input=80 output=112\n",
      "I0708 10:00:37.577507 8515963904 efficientnet_model.py:143] round_filter input=112 output=160\n",
      "I0708 10:00:37.990375 8515963904 efficientnet_model.py:143] round_filter input=112 output=160\n",
      "I0708 10:00:37.990490 8515963904 efficientnet_model.py:143] round_filter input=192 output=272\n",
      "I0708 10:00:38.548614 8515963904 efficientnet_model.py:143] round_filter input=192 output=272\n",
      "I0708 10:00:38.548712 8515963904 efficientnet_model.py:143] round_filter input=320 output=448\n",
      "I0708 10:00:38.714511 8515963904 efficientnet_model.py:143] round_filter input=1280 output=1792\n",
      "I0708 10:00:38.751538 8515963904 efficientnet_model.py:453] Building model efficientnet with params ModelConfig(width_coefficient=1.4, depth_coefficient=1.8, resolution=380, dropout_rate=0.4, blocks=(BlockConfig(input_filters=32, output_filters=16, kernel_size=3, num_repeat=1, expand_ratio=1, strides=(1, 1), se_ratio=0.25, id_skip=True, fused_conv=False, conv_type='depthwise'), BlockConfig(input_filters=16, output_filters=24, kernel_size=3, num_repeat=2, expand_ratio=6, strides=(2, 2), se_ratio=0.25, id_skip=True, fused_conv=False, conv_type='depthwise'), BlockConfig(input_filters=24, output_filters=40, kernel_size=5, num_repeat=2, expand_ratio=6, strides=(2, 2), se_ratio=0.25, id_skip=True, fused_conv=False, conv_type='depthwise'), BlockConfig(input_filters=40, output_filters=80, kernel_size=3, num_repeat=3, expand_ratio=6, strides=(2, 2), se_ratio=0.25, id_skip=True, fused_conv=False, conv_type='depthwise'), BlockConfig(input_filters=80, output_filters=112, kernel_size=5, num_repeat=3, expand_ratio=6, strides=(1, 1), se_ratio=0.25, id_skip=True, fused_conv=False, conv_type='depthwise'), BlockConfig(input_filters=112, output_filters=192, kernel_size=5, num_repeat=4, expand_ratio=6, strides=(2, 2), se_ratio=0.25, id_skip=True, fused_conv=False, conv_type='depthwise'), BlockConfig(input_filters=192, output_filters=320, kernel_size=3, num_repeat=1, expand_ratio=6, strides=(1, 1), se_ratio=0.25, id_skip=True, fused_conv=False, conv_type='depthwise')), stem_base_filters=32, top_base_filters=1280, activation='simple_swish', batch_norm='default', bn_momentum=0.99, bn_epsilon=0.001, weight_decay=5e-06, drop_connect_rate=0.2, depth_divisor=8, min_depth=None, use_se=True, input_channels=3, num_classes=1000, model_name='efficientnet', rescale_input=False, data_format='channels_last', dtype='float32')\n",
      "I0708 10:00:38.816387 8515963904 ssd_efficientnet_bifpn_feature_extractor.py:161] EfficientDet EfficientNet backbone version: efficientnet-b5\n",
      "I0708 10:00:38.816505 8515963904 ssd_efficientnet_bifpn_feature_extractor.py:163] EfficientDet BiFPN num filters: 288\n",
      "I0708 10:00:38.816545 8515963904 ssd_efficientnet_bifpn_feature_extractor.py:164] EfficientDet BiFPN num iterations: 7\n",
      "I0708 10:00:38.817934 8515963904 efficientnet_model.py:143] round_filter input=32 output=48\n",
      "I0708 10:00:38.831525 8515963904 efficientnet_model.py:143] round_filter input=32 output=48\n",
      "I0708 10:00:38.831618 8515963904 efficientnet_model.py:143] round_filter input=16 output=24\n",
      "I0708 10:00:38.985788 8515963904 efficientnet_model.py:143] round_filter input=16 output=24\n",
      "I0708 10:00:38.985892 8515963904 efficientnet_model.py:143] round_filter input=24 output=40\n",
      "I0708 10:00:39.302751 8515963904 efficientnet_model.py:143] round_filter input=24 output=40\n",
      "I0708 10:00:39.302853 8515963904 efficientnet_model.py:143] round_filter input=40 output=64\n",
      "I0708 10:00:39.627122 8515963904 efficientnet_model.py:143] round_filter input=40 output=64\n",
      "I0708 10:00:39.627218 8515963904 efficientnet_model.py:143] round_filter input=80 output=128\n",
      "I0708 10:00:40.119004 8515963904 efficientnet_model.py:143] round_filter input=80 output=128\n",
      "I0708 10:00:40.119119 8515963904 efficientnet_model.py:143] round_filter input=112 output=176\n",
      "I0708 10:00:40.754740 8515963904 efficientnet_model.py:143] round_filter input=112 output=176\n",
      "I0708 10:00:40.754843 8515963904 efficientnet_model.py:143] round_filter input=192 output=304\n",
      "I0708 10:00:41.410073 8515963904 efficientnet_model.py:143] round_filter input=192 output=304\n",
      "I0708 10:00:41.410176 8515963904 efficientnet_model.py:143] round_filter input=320 output=512\n",
      "I0708 10:00:41.668395 8515963904 efficientnet_model.py:143] round_filter input=1280 output=2048\n",
      "I0708 10:00:41.708505 8515963904 efficientnet_model.py:453] Building model efficientnet with params ModelConfig(width_coefficient=1.6, depth_coefficient=2.2, resolution=456, dropout_rate=0.4, blocks=(BlockConfig(input_filters=32, output_filters=16, kernel_size=3, num_repeat=1, expand_ratio=1, strides=(1, 1), se_ratio=0.25, id_skip=True, fused_conv=False, conv_type='depthwise'), BlockConfig(input_filters=16, output_filters=24, kernel_size=3, num_repeat=2, expand_ratio=6, strides=(2, 2), se_ratio=0.25, id_skip=True, fused_conv=False, conv_type='depthwise'), BlockConfig(input_filters=24, output_filters=40, kernel_size=5, num_repeat=2, expand_ratio=6, strides=(2, 2), se_ratio=0.25, id_skip=True, fused_conv=False, conv_type='depthwise'), BlockConfig(input_filters=40, output_filters=80, kernel_size=3, num_repeat=3, expand_ratio=6, strides=(2, 2), se_ratio=0.25, id_skip=True, fused_conv=False, conv_type='depthwise'), BlockConfig(input_filters=80, output_filters=112, kernel_size=5, num_repeat=3, expand_ratio=6, strides=(1, 1), se_ratio=0.25, id_skip=True, fused_conv=False, conv_type='depthwise'), BlockConfig(input_filters=112, output_filters=192, kernel_size=5, num_repeat=4, expand_ratio=6, strides=(2, 2), se_ratio=0.25, id_skip=True, fused_conv=False, conv_type='depthwise'), BlockConfig(input_filters=192, output_filters=320, kernel_size=3, num_repeat=1, expand_ratio=6, strides=(1, 1), se_ratio=0.25, id_skip=True, fused_conv=False, conv_type='depthwise')), stem_base_filters=32, top_base_filters=1280, activation='simple_swish', batch_norm='default', bn_momentum=0.99, bn_epsilon=0.001, weight_decay=5e-06, drop_connect_rate=0.2, depth_divisor=8, min_depth=None, use_se=True, input_channels=3, num_classes=1000, model_name='efficientnet', rescale_input=False, data_format='channels_last', dtype='float32')\n",
      "I0708 10:00:41.782605 8515963904 ssd_efficientnet_bifpn_feature_extractor.py:161] EfficientDet EfficientNet backbone version: efficientnet-b6\n",
      "I0708 10:00:41.782721 8515963904 ssd_efficientnet_bifpn_feature_extractor.py:163] EfficientDet BiFPN num filters: 384\n",
      "I0708 10:00:41.782759 8515963904 ssd_efficientnet_bifpn_feature_extractor.py:164] EfficientDet BiFPN num iterations: 8\n",
      "I0708 10:00:41.784223 8515963904 efficientnet_model.py:143] round_filter input=32 output=56\n",
      "I0708 10:00:41.798597 8515963904 efficientnet_model.py:143] round_filter input=32 output=56\n",
      "I0708 10:00:41.798689 8515963904 efficientnet_model.py:143] round_filter input=16 output=32\n",
      "I0708 10:00:41.958505 8515963904 efficientnet_model.py:143] round_filter input=16 output=32\n",
      "I0708 10:00:41.958606 8515963904 efficientnet_model.py:143] round_filter input=24 output=40\n",
      "I0708 10:00:42.336090 8515963904 efficientnet_model.py:143] round_filter input=24 output=40\n",
      "I0708 10:00:42.336196 8515963904 efficientnet_model.py:143] round_filter input=40 output=72\n",
      "I0708 10:00:42.727329 8515963904 efficientnet_model.py:143] round_filter input=40 output=72\n",
      "I0708 10:00:42.727430 8515963904 efficientnet_model.py:143] round_filter input=80 output=144\n",
      "I0708 10:00:43.253424 8515963904 efficientnet_model.py:143] round_filter input=80 output=144\n",
      "I0708 10:00:43.253525 8515963904 efficientnet_model.py:143] round_filter input=112 output=200\n",
      "I0708 10:00:43.798448 8515963904 efficientnet_model.py:143] round_filter input=112 output=200\n",
      "I0708 10:00:43.798561 8515963904 efficientnet_model.py:143] round_filter input=192 output=344\n",
      "I0708 10:00:44.623077 8515963904 efficientnet_model.py:143] round_filter input=192 output=344\n",
      "I0708 10:00:44.623177 8515963904 efficientnet_model.py:143] round_filter input=320 output=576\n",
      "I0708 10:00:44.892118 8515963904 efficientnet_model.py:143] round_filter input=1280 output=2304\n",
      "I0708 10:00:44.934983 8515963904 efficientnet_model.py:453] Building model efficientnet with params ModelConfig(width_coefficient=1.8, depth_coefficient=2.6, resolution=528, dropout_rate=0.5, blocks=(BlockConfig(input_filters=32, output_filters=16, kernel_size=3, num_repeat=1, expand_ratio=1, strides=(1, 1), se_ratio=0.25, id_skip=True, fused_conv=False, conv_type='depthwise'), BlockConfig(input_filters=16, output_filters=24, kernel_size=3, num_repeat=2, expand_ratio=6, strides=(2, 2), se_ratio=0.25, id_skip=True, fused_conv=False, conv_type='depthwise'), BlockConfig(input_filters=24, output_filters=40, kernel_size=5, num_repeat=2, expand_ratio=6, strides=(2, 2), se_ratio=0.25, id_skip=True, fused_conv=False, conv_type='depthwise'), BlockConfig(input_filters=40, output_filters=80, kernel_size=3, num_repeat=3, expand_ratio=6, strides=(2, 2), se_ratio=0.25, id_skip=True, fused_conv=False, conv_type='depthwise'), BlockConfig(input_filters=80, output_filters=112, kernel_size=5, num_repeat=3, expand_ratio=6, strides=(1, 1), se_ratio=0.25, id_skip=True, fused_conv=False, conv_type='depthwise'), BlockConfig(input_filters=112, output_filters=192, kernel_size=5, num_repeat=4, expand_ratio=6, strides=(2, 2), se_ratio=0.25, id_skip=True, fused_conv=False, conv_type='depthwise'), BlockConfig(input_filters=192, output_filters=320, kernel_size=3, num_repeat=1, expand_ratio=6, strides=(1, 1), se_ratio=0.25, id_skip=True, fused_conv=False, conv_type='depthwise')), stem_base_filters=32, top_base_filters=1280, activation='simple_swish', batch_norm='default', bn_momentum=0.99, bn_epsilon=0.001, weight_decay=5e-06, drop_connect_rate=0.2, depth_divisor=8, min_depth=None, use_se=True, input_channels=3, num_classes=1000, model_name='efficientnet', rescale_input=False, data_format='channels_last', dtype='float32')\n",
      "I0708 10:00:45.019309 8515963904 ssd_efficientnet_bifpn_feature_extractor.py:161] EfficientDet EfficientNet backbone version: efficientnet-b7\n",
      "I0708 10:00:45.019413 8515963904 ssd_efficientnet_bifpn_feature_extractor.py:163] EfficientDet BiFPN num filters: 384\n",
      "I0708 10:00:45.019454 8515963904 ssd_efficientnet_bifpn_feature_extractor.py:164] EfficientDet BiFPN num iterations: 8\n",
      "I0708 10:00:45.020729 8515963904 efficientnet_model.py:143] round_filter input=32 output=64\n",
      "I0708 10:00:45.034779 8515963904 efficientnet_model.py:143] round_filter input=32 output=64\n",
      "I0708 10:00:45.034860 8515963904 efficientnet_model.py:143] round_filter input=16 output=32\n",
      "I0708 10:00:45.241262 8515963904 efficientnet_model.py:143] round_filter input=16 output=32\n",
      "I0708 10:00:45.241354 8515963904 efficientnet_model.py:143] round_filter input=24 output=48\n",
      "I0708 10:00:45.686019 8515963904 efficientnet_model.py:143] round_filter input=24 output=48\n",
      "I0708 10:00:45.686118 8515963904 efficientnet_model.py:143] round_filter input=40 output=80\n",
      "I0708 10:00:46.315533 8515963904 efficientnet_model.py:143] round_filter input=40 output=80\n",
      "I0708 10:00:46.315635 8515963904 efficientnet_model.py:143] round_filter input=80 output=160\n",
      "I0708 10:00:46.969180 8515963904 efficientnet_model.py:143] round_filter input=80 output=160\n",
      "I0708 10:00:46.969279 8515963904 efficientnet_model.py:143] round_filter input=112 output=224\n",
      "I0708 10:00:47.659643 8515963904 efficientnet_model.py:143] round_filter input=112 output=224\n",
      "I0708 10:00:47.659749 8515963904 efficientnet_model.py:143] round_filter input=192 output=384\n",
      "I0708 10:00:48.627244 8515963904 efficientnet_model.py:143] round_filter input=192 output=384\n",
      "I0708 10:00:48.627351 8515963904 efficientnet_model.py:143] round_filter input=320 output=640\n",
      "I0708 10:00:49.019876 8515963904 efficientnet_model.py:143] round_filter input=1280 output=2560\n",
      "I0708 10:00:49.064810 8515963904 efficientnet_model.py:453] Building model efficientnet with params ModelConfig(width_coefficient=2.0, depth_coefficient=3.1, resolution=600, dropout_rate=0.5, blocks=(BlockConfig(input_filters=32, output_filters=16, kernel_size=3, num_repeat=1, expand_ratio=1, strides=(1, 1), se_ratio=0.25, id_skip=True, fused_conv=False, conv_type='depthwise'), BlockConfig(input_filters=16, output_filters=24, kernel_size=3, num_repeat=2, expand_ratio=6, strides=(2, 2), se_ratio=0.25, id_skip=True, fused_conv=False, conv_type='depthwise'), BlockConfig(input_filters=24, output_filters=40, kernel_size=5, num_repeat=2, expand_ratio=6, strides=(2, 2), se_ratio=0.25, id_skip=True, fused_conv=False, conv_type='depthwise'), BlockConfig(input_filters=40, output_filters=80, kernel_size=3, num_repeat=3, expand_ratio=6, strides=(2, 2), se_ratio=0.25, id_skip=True, fused_conv=False, conv_type='depthwise'), BlockConfig(input_filters=80, output_filters=112, kernel_size=5, num_repeat=3, expand_ratio=6, strides=(1, 1), se_ratio=0.25, id_skip=True, fused_conv=False, conv_type='depthwise'), BlockConfig(input_filters=112, output_filters=192, kernel_size=5, num_repeat=4, expand_ratio=6, strides=(2, 2), se_ratio=0.25, id_skip=True, fused_conv=False, conv_type='depthwise'), BlockConfig(input_filters=192, output_filters=320, kernel_size=3, num_repeat=1, expand_ratio=6, strides=(1, 1), se_ratio=0.25, id_skip=True, fused_conv=False, conv_type='depthwise')), stem_base_filters=32, top_base_filters=1280, activation='simple_swish', batch_norm='default', bn_momentum=0.99, bn_epsilon=0.001, weight_decay=5e-06, drop_connect_rate=0.2, depth_divisor=8, min_depth=None, use_se=True, input_channels=3, num_classes=1000, model_name='efficientnet', rescale_input=False, data_format='channels_last', dtype='float32')\n",
      "INFO:tensorflow:time(__main__.ModelBuilderTF2Test.test_create_ssd_models_from_config): 19.26s\n",
      "I0708 10:00:49.167982 8515963904 test_util.py:2462] time(__main__.ModelBuilderTF2Test.test_create_ssd_models_from_config): 19.26s\n",
      "[       OK ] ModelBuilderTF2Test.test_create_ssd_models_from_config\n",
      "[ RUN      ] ModelBuilderTF2Test.test_invalid_faster_rcnn_batchnorm_update\n",
      "INFO:tensorflow:time(__main__.ModelBuilderTF2Test.test_invalid_faster_rcnn_batchnorm_update): 0.0s\n",
      "I0708 10:00:49.185507 8515963904 test_util.py:2462] time(__main__.ModelBuilderTF2Test.test_invalid_faster_rcnn_batchnorm_update): 0.0s\n",
      "[       OK ] ModelBuilderTF2Test.test_invalid_faster_rcnn_batchnorm_update\n",
      "[ RUN      ] ModelBuilderTF2Test.test_invalid_first_stage_nms_iou_threshold\n",
      "INFO:tensorflow:time(__main__.ModelBuilderTF2Test.test_invalid_first_stage_nms_iou_threshold): 0.0s\n",
      "I0708 10:00:49.186758 8515963904 test_util.py:2462] time(__main__.ModelBuilderTF2Test.test_invalid_first_stage_nms_iou_threshold): 0.0s\n",
      "[       OK ] ModelBuilderTF2Test.test_invalid_first_stage_nms_iou_threshold\n",
      "[ RUN      ] ModelBuilderTF2Test.test_invalid_model_config_proto\n",
      "INFO:tensorflow:time(__main__.ModelBuilderTF2Test.test_invalid_model_config_proto): 0.0s\n",
      "I0708 10:00:49.187026 8515963904 test_util.py:2462] time(__main__.ModelBuilderTF2Test.test_invalid_model_config_proto): 0.0s\n",
      "[       OK ] ModelBuilderTF2Test.test_invalid_model_config_proto\n",
      "[ RUN      ] ModelBuilderTF2Test.test_invalid_second_stage_batch_size\n",
      "INFO:tensorflow:time(__main__.ModelBuilderTF2Test.test_invalid_second_stage_batch_size): 0.0s\n",
      "I0708 10:00:49.188101 8515963904 test_util.py:2462] time(__main__.ModelBuilderTF2Test.test_invalid_second_stage_batch_size): 0.0s\n",
      "[       OK ] ModelBuilderTF2Test.test_invalid_second_stage_batch_size\n",
      "[ RUN      ] ModelBuilderTF2Test.test_session\n",
      "[  SKIPPED ] ModelBuilderTF2Test.test_session\n",
      "[ RUN      ] ModelBuilderTF2Test.test_unknown_faster_rcnn_feature_extractor\n",
      "INFO:tensorflow:time(__main__.ModelBuilderTF2Test.test_unknown_faster_rcnn_feature_extractor): 0.0s\n",
      "I0708 10:00:49.189069 8515963904 test_util.py:2462] time(__main__.ModelBuilderTF2Test.test_unknown_faster_rcnn_feature_extractor): 0.0s\n",
      "[       OK ] ModelBuilderTF2Test.test_unknown_faster_rcnn_feature_extractor\n",
      "[ RUN      ] ModelBuilderTF2Test.test_unknown_meta_architecture\n",
      "INFO:tensorflow:time(__main__.ModelBuilderTF2Test.test_unknown_meta_architecture): 0.0s\n",
      "I0708 10:00:49.189291 8515963904 test_util.py:2462] time(__main__.ModelBuilderTF2Test.test_unknown_meta_architecture): 0.0s\n",
      "[       OK ] ModelBuilderTF2Test.test_unknown_meta_architecture\n",
      "[ RUN      ] ModelBuilderTF2Test.test_unknown_ssd_feature_extractor\n",
      "INFO:tensorflow:time(__main__.ModelBuilderTF2Test.test_unknown_ssd_feature_extractor): 0.0s\n",
      "I0708 10:00:49.190042 8515963904 test_util.py:2462] time(__main__.ModelBuilderTF2Test.test_unknown_ssd_feature_extractor): 0.0s\n",
      "[       OK ] ModelBuilderTF2Test.test_unknown_ssd_feature_extractor\n",
      "----------------------------------------------------------------------\n",
      "Ran 24 tests in 22.727s\n",
      "\n",
      "OK (skipped=1)\n"
     ]
    }
   ],
   "source": [
    "VERIFICATION_SCRIPT = os.path.join(paths['APIMODEL_PATH'], 'research', 'object_detection', 'builders', 'model_builder_tf2_test.py')\n",
    "# Verify Installation\n",
    "!python {VERIFICATION_SCRIPT}"
   ]
  },
  {
   "cell_type": "code",
   "execution_count": null,
   "metadata": {},
   "outputs": [],
   "source": [
    "! python --version"
   ]
  },
  {
   "cell_type": "code",
   "execution_count": null,
   "metadata": {},
   "outputs": [],
   "source": [
    "!pip install legacy"
   ]
  },
  {
   "cell_type": "code",
   "execution_count": null,
   "metadata": {},
   "outputs": [],
   "source": [
    "!pip install tensorflow==2.13.0rc0"
   ]
  },
  {
   "cell_type": "code",
   "execution_count": null,
   "metadata": {},
   "outputs": [],
   "source": [
    "!pip install --upgrade tensorflow"
   ]
  },
  {
   "cell_type": "code",
   "execution_count": null,
   "metadata": {},
   "outputs": [],
   "source": [
    "!pip uninstall protobuf matplotlib -y\n",
    "!pip install protobuf matplotlib==3.2"
   ]
  },
  {
   "cell_type": "code",
   "execution_count": null,
   "metadata": {},
   "outputs": [],
   "source": [
    "!pip uninstall tensorflow-object-detection-api"
   ]
  },
  {
   "cell_type": "code",
   "execution_count": 8,
   "metadata": {},
   "outputs": [],
   "source": [
    "import object_detection"
   ]
  },
  {
   "cell_type": "code",
   "execution_count": null,
   "metadata": {},
   "outputs": [],
   "source": [
    "pip list"
   ]
  },
  {
   "cell_type": "code",
   "execution_count": null,
   "metadata": {
    "scrolled": true
   },
   "outputs": [],
   "source": [
    "!pip install --upgrade https://storage.googleapis.com/tensorflow/mac/cpu/tensorflow-0.12.0-py3-none-any.whl\n"
   ]
  },
  {
   "cell_type": "code",
   "execution_count": null,
   "metadata": {
    "colab": {
     "base_uri": "https://localhost:8080/"
    },
    "id": "csofht2npfDE",
    "outputId": "ff5471b2-bed2-43f2-959c-327a706527b6"
   },
   "outputs": [],
   "source": [
    "if os.name =='posix':\n",
    "    !wget {PRETRAINED_MODEL_URL}\n",
    "    !mv {PRETRAINED_MODEL_NAME+'.tar.gz'} {paths['PRETRAINED_MODEL_PATH']}\n",
    "    !cd {paths['PRETRAINED_MODEL_PATH']} && tar -zxvf {PRETRAINED_MODEL_NAME+'.tar.gz'}\n",
    "if os.name == 'nt':\n",
    "    wget.download(PRETRAINED_MODEL_URL)\n",
    "    !move {PRETRAINED_MODEL_NAME+'.tar.gz'} {paths['PRETRAINED_MODEL_PATH']}\n",
    "    !cd {paths['PRETRAINED_MODEL_PATH']} && tar -zxvf {PRETRAINED_MODEL_NAME+'.tar.gz'}"
   ]
  },
  {
   "cell_type": "markdown",
   "metadata": {
    "id": "M5KJTnkfpfDC"
   },
   "source": [
    "# 2. Create Label Map"
   ]
  },
  {
   "cell_type": "code",
   "execution_count": 9,
   "metadata": {
    "id": "p1BVDWo7pfDC"
   },
   "outputs": [],
   "source": [
    "labels = [{'name':'Car', 'id':1}, {'name':'Empty', 'id':2}]\n",
    "\n",
    "with open(files['LABELMAP'], 'w') as f:\n",
    "    for label in labels:\n",
    "        f.write('item { \\n')\n",
    "        f.write('\\tname:\\'{}\\'\\n'.format(label['name']))\n",
    "        f.write('\\tid:{}\\n'.format(label['id']))\n",
    "        f.write('}\\n')"
   ]
  },
  {
   "cell_type": "markdown",
   "metadata": {
    "id": "C88zyVELpfDC"
   },
   "source": [
    "# 3. Create TF records"
   ]
  },
  {
   "cell_type": "code",
   "execution_count": 10,
   "metadata": {
    "colab": {
     "base_uri": "https://localhost:8080/"
    },
    "id": "kvf5WccwrFGq",
    "outputId": "49902aeb-0bd7-4298-e1a0-5b4a64eb2064"
   },
   "outputs": [],
   "source": [
    "# OPTIONAL IF RUNNING ON COLAB\n",
    "ARCHIVE_FILES = os.path.join(paths['IMAGE_PATH'], 'archive.tar.gz')\n",
    "if os.path.exists(ARCHIVE_FILES):\n",
    "  !tar -zxvf {ARCHIVE_FILES}"
   ]
  },
  {
   "cell_type": "code",
   "execution_count": 11,
   "metadata": {
    "colab": {
     "base_uri": "https://localhost:8080/"
    },
    "id": "KWpb_BVUpfDD",
    "outputId": "56ce2a3f-3933-4ee6-8a9d-d5ec65f7d73c"
   },
   "outputs": [],
   "source": [
    "if not os.path.exists(files['TF_RECORD_SCRIPT']):\n",
    "    !git clone https://github.com/nicknochnack/GenerateTFRecord {paths['SCRIPTS_PATH']}"
   ]
  },
  {
   "cell_type": "code",
   "execution_count": 12,
   "metadata": {
    "colab": {
     "base_uri": "https://localhost:8080/"
    },
    "id": "UPFToGZqpfDD",
    "outputId": "0ebb456f-aadc-4a1f-96e6-fbfec1923e1c"
   },
   "outputs": [
    {
     "name": "stdout",
     "output_type": "stream",
     "text": [
      "Successfully created the TFRecord file: Tensorflow/workspace/annotations/train.record\n",
      "Successfully created the TFRecord file: Tensorflow/workspace/annotations/test.record\n"
     ]
    }
   ],
   "source": [
    "!python {files['TF_RECORD_SCRIPT']} -x {os.path.join(paths['IMAGE_PATH'], 'train')} -l {files['LABELMAP']} -o {os.path.join(paths['ANNOTATION_PATH'], 'train.record')} \n",
    "!python {files['TF_RECORD_SCRIPT']} -x {os.path.join(paths['IMAGE_PATH'], 'test')} -l {files['LABELMAP']} -o {os.path.join(paths['ANNOTATION_PATH'], 'test.record')} "
   ]
  },
  {
   "cell_type": "markdown",
   "metadata": {
    "id": "qT4QU7pLpfDE"
   },
   "source": [
    "# 4. Copy Model Config to Training Folder"
   ]
  },
  {
   "cell_type": "code",
   "execution_count": 13,
   "metadata": {
    "id": "cOjuTFbwpfDF"
   },
   "outputs": [],
   "source": [
    "if os.name =='posix':\n",
    "    !cp {os.path.join(paths['PRETRAINED_MODEL_PATH'], PRETRAINED_MODEL_NAME, 'pipeline.config')} {os.path.join(paths['CHECKPOINT_PATH'])}\n",
    "if os.name == 'nt':\n",
    "    !copy {os.path.join(paths['PRETRAINED_MODEL_PATH'], PRETRAINED_MODEL_NAME, 'pipeline.config')} {os.path.join(paths['CHECKPOINT_PATH'])}"
   ]
  },
  {
   "cell_type": "markdown",
   "metadata": {
    "id": "Ga8gpNslpfDF"
   },
   "source": [
    "# 5. Update Config For Transfer Learning"
   ]
  },
  {
   "cell_type": "code",
   "execution_count": 14,
   "metadata": {
    "id": "Z9hRrO_ppfDF"
   },
   "outputs": [],
   "source": [
    "import tensorflow as tf\n",
    "from object_detection.utils import config_util\n",
    "from object_detection.protos import pipeline_pb2\n",
    "from google.protobuf import text_format"
   ]
  },
  {
   "cell_type": "code",
   "execution_count": 15,
   "metadata": {
    "id": "c2A0mn4ipfDF"
   },
   "outputs": [],
   "source": [
    "config = config_util.get_configs_from_pipeline_file(files['PIPELINE_CONFIG'])"
   ]
  },
  {
   "cell_type": "code",
   "execution_count": 16,
   "metadata": {
    "colab": {
     "base_uri": "https://localhost:8080/"
    },
    "id": "uQA13-afpfDF",
    "outputId": "907496a4-a39d-4b13-8c2c-e5978ecb1f10"
   },
   "outputs": [
    {
     "data": {
      "text/plain": [
       "{'model': ssd {\n",
       "   num_classes: 90\n",
       "   image_resizer {\n",
       "     fixed_shape_resizer {\n",
       "       height: 320\n",
       "       width: 320\n",
       "     }\n",
       "   }\n",
       "   feature_extractor {\n",
       "     type: \"ssd_mobilenet_v2_fpn_keras\"\n",
       "     depth_multiplier: 1.0\n",
       "     min_depth: 16\n",
       "     conv_hyperparams {\n",
       "       regularizer {\n",
       "         l2_regularizer {\n",
       "           weight: 4e-05\n",
       "         }\n",
       "       }\n",
       "       initializer {\n",
       "         random_normal_initializer {\n",
       "           mean: 0.0\n",
       "           stddev: 0.01\n",
       "         }\n",
       "       }\n",
       "       activation: RELU_6\n",
       "       batch_norm {\n",
       "         decay: 0.997\n",
       "         scale: true\n",
       "         epsilon: 0.001\n",
       "       }\n",
       "     }\n",
       "     use_depthwise: true\n",
       "     override_base_feature_extractor_hyperparams: true\n",
       "     fpn {\n",
       "       min_level: 3\n",
       "       max_level: 7\n",
       "       additional_layer_depth: 128\n",
       "     }\n",
       "   }\n",
       "   box_coder {\n",
       "     faster_rcnn_box_coder {\n",
       "       y_scale: 10.0\n",
       "       x_scale: 10.0\n",
       "       height_scale: 5.0\n",
       "       width_scale: 5.0\n",
       "     }\n",
       "   }\n",
       "   matcher {\n",
       "     argmax_matcher {\n",
       "       matched_threshold: 0.5\n",
       "       unmatched_threshold: 0.5\n",
       "       ignore_thresholds: false\n",
       "       negatives_lower_than_unmatched: true\n",
       "       force_match_for_each_row: true\n",
       "       use_matmul_gather: true\n",
       "     }\n",
       "   }\n",
       "   similarity_calculator {\n",
       "     iou_similarity {\n",
       "     }\n",
       "   }\n",
       "   box_predictor {\n",
       "     weight_shared_convolutional_box_predictor {\n",
       "       conv_hyperparams {\n",
       "         regularizer {\n",
       "           l2_regularizer {\n",
       "             weight: 4e-05\n",
       "           }\n",
       "         }\n",
       "         initializer {\n",
       "           random_normal_initializer {\n",
       "             mean: 0.0\n",
       "             stddev: 0.01\n",
       "           }\n",
       "         }\n",
       "         activation: RELU_6\n",
       "         batch_norm {\n",
       "           decay: 0.997\n",
       "           scale: true\n",
       "           epsilon: 0.001\n",
       "         }\n",
       "       }\n",
       "       depth: 128\n",
       "       num_layers_before_predictor: 4\n",
       "       kernel_size: 3\n",
       "       class_prediction_bias_init: -4.6\n",
       "       share_prediction_tower: true\n",
       "       use_depthwise: true\n",
       "     }\n",
       "   }\n",
       "   anchor_generator {\n",
       "     multiscale_anchor_generator {\n",
       "       min_level: 3\n",
       "       max_level: 7\n",
       "       anchor_scale: 4.0\n",
       "       aspect_ratios: 1.0\n",
       "       aspect_ratios: 2.0\n",
       "       aspect_ratios: 0.5\n",
       "       scales_per_octave: 2\n",
       "     }\n",
       "   }\n",
       "   post_processing {\n",
       "     batch_non_max_suppression {\n",
       "       score_threshold: 1e-08\n",
       "       iou_threshold: 0.6\n",
       "       max_detections_per_class: 100\n",
       "       max_total_detections: 100\n",
       "       use_static_shapes: false\n",
       "     }\n",
       "     score_converter: SIGMOID\n",
       "   }\n",
       "   normalize_loss_by_num_matches: true\n",
       "   loss {\n",
       "     localization_loss {\n",
       "       weighted_smooth_l1 {\n",
       "       }\n",
       "     }\n",
       "     classification_loss {\n",
       "       weighted_sigmoid_focal {\n",
       "         gamma: 2.0\n",
       "         alpha: 0.25\n",
       "       }\n",
       "     }\n",
       "     classification_weight: 1.0\n",
       "     localization_weight: 1.0\n",
       "   }\n",
       "   encode_background_as_zeros: true\n",
       "   normalize_loc_loss_by_codesize: true\n",
       "   inplace_batchnorm_update: true\n",
       "   freeze_batchnorm: false\n",
       " },\n",
       " 'train_config': batch_size: 128\n",
       " data_augmentation_options {\n",
       "   random_horizontal_flip {\n",
       "   }\n",
       " }\n",
       " data_augmentation_options {\n",
       "   random_crop_image {\n",
       "     min_object_covered: 0.0\n",
       "     min_aspect_ratio: 0.75\n",
       "     max_aspect_ratio: 3.0\n",
       "     min_area: 0.75\n",
       "     max_area: 1.0\n",
       "     overlap_thresh: 0.0\n",
       "   }\n",
       " }\n",
       " sync_replicas: true\n",
       " optimizer {\n",
       "   momentum_optimizer {\n",
       "     learning_rate {\n",
       "       cosine_decay_learning_rate {\n",
       "         learning_rate_base: 0.08\n",
       "         total_steps: 50000\n",
       "         warmup_learning_rate: 0.026666\n",
       "         warmup_steps: 1000\n",
       "       }\n",
       "     }\n",
       "     momentum_optimizer_value: 0.9\n",
       "   }\n",
       "   use_moving_average: false\n",
       " }\n",
       " fine_tune_checkpoint: \"PATH_TO_BE_CONFIGURED\"\n",
       " num_steps: 50000\n",
       " startup_delay_steps: 0.0\n",
       " replicas_to_aggregate: 8\n",
       " max_number_of_boxes: 100\n",
       " unpad_groundtruth_tensors: false\n",
       " fine_tune_checkpoint_type: \"classification\"\n",
       " fine_tune_checkpoint_version: V2,\n",
       " 'train_input_config': label_map_path: \"PATH_TO_BE_CONFIGURED\"\n",
       " tf_record_input_reader {\n",
       "   input_path: \"PATH_TO_BE_CONFIGURED\"\n",
       " },\n",
       " 'eval_config': metrics_set: \"coco_detection_metrics\"\n",
       " use_moving_averages: false,\n",
       " 'eval_input_configs': [label_map_path: \"PATH_TO_BE_CONFIGURED\"\n",
       " shuffle: false\n",
       " num_epochs: 1\n",
       " tf_record_input_reader {\n",
       "   input_path: \"PATH_TO_BE_CONFIGURED\"\n",
       " }\n",
       " ],\n",
       " 'eval_input_config': label_map_path: \"PATH_TO_BE_CONFIGURED\"\n",
       " shuffle: false\n",
       " num_epochs: 1\n",
       " tf_record_input_reader {\n",
       "   input_path: \"PATH_TO_BE_CONFIGURED\"\n",
       " }}"
      ]
     },
     "execution_count": 16,
     "metadata": {},
     "output_type": "execute_result"
    }
   ],
   "source": [
    "config"
   ]
  },
  {
   "cell_type": "code",
   "execution_count": 17,
   "metadata": {
    "id": "9vK5lotDpfDF"
   },
   "outputs": [],
   "source": [
    "pipeline_config = pipeline_pb2.TrainEvalPipelineConfig()\n",
    "with tf.io.gfile.GFile(files['PIPELINE_CONFIG'], \"r\") as f:                                                                                                                                                                                                                     \n",
    "    proto_str = f.read()                                                                                                                                                                                                                                          \n",
    "    text_format.Merge(proto_str, pipeline_config)  "
   ]
  },
  {
   "cell_type": "code",
   "execution_count": 18,
   "metadata": {
    "id": "rP43Ph0JpfDG"
   },
   "outputs": [],
   "source": [
    "pipeline_config.model.ssd.num_classes = len(labels)\n",
    "pipeline_config.train_config.batch_size = 4\n",
    "pipeline_config.train_config.fine_tune_checkpoint = os.path.join(paths['PRETRAINED_MODEL_PATH'], PRETRAINED_MODEL_NAME, 'checkpoint', 'ckpt-0')\n",
    "pipeline_config.train_config.fine_tune_checkpoint_type = \"detection\"\n",
    "pipeline_config.train_input_reader.label_map_path= files['LABELMAP']\n",
    "pipeline_config.train_input_reader.tf_record_input_reader.input_path[:] = [os.path.join(paths['ANNOTATION_PATH'], 'train.record')]\n",
    "pipeline_config.eval_input_reader[0].label_map_path = files['LABELMAP']\n",
    "pipeline_config.eval_input_reader[0].tf_record_input_reader.input_path[:] = [os.path.join(paths['ANNOTATION_PATH'], 'test.record')]"
   ]
  },
  {
   "cell_type": "code",
   "execution_count": 19,
   "metadata": {
    "id": "oJvfgwWqpfDG"
   },
   "outputs": [],
   "source": [
    "config_text = text_format.MessageToString(pipeline_config)                                                                                                                                                                                                        \n",
    "with tf.io.gfile.GFile(files['PIPELINE_CONFIG'], \"wb\") as f:                                                                                                                                                                                                                     \n",
    "    f.write(config_text)   "
   ]
  },
  {
   "cell_type": "markdown",
   "metadata": {
    "id": "Zr3ON7xMpfDG"
   },
   "source": [
    "# 6. Train the model"
   ]
  },
  {
   "cell_type": "code",
   "execution_count": 20,
   "metadata": {
    "id": "B-Y2UQmQpfDG"
   },
   "outputs": [],
   "source": [
    "TRAINING_SCRIPT = os.path.join(paths['APIMODEL_PATH'], 'research', 'object_detection', 'model_main_tf2.py')"
   ]
  },
  {
   "cell_type": "code",
   "execution_count": 21,
   "metadata": {
    "id": "jMP2XDfQpfDH"
   },
   "outputs": [],
   "source": [
    "command = \"python {} --model_dir={} --pipeline_config_path={} --num_train_steps=3000\".format(TRAINING_SCRIPT, paths['CHECKPOINT_PATH'],files['PIPELINE_CONFIG'])"
   ]
  },
  {
   "cell_type": "code",
   "execution_count": 22,
   "metadata": {
    "colab": {
     "base_uri": "https://localhost:8080/"
    },
    "id": "A4OXXi-ApfDH",
    "outputId": "117a0e83-012b-466e-b7a6-ccaa349ac5ab"
   },
   "outputs": [
    {
     "name": "stdout",
     "output_type": "stream",
     "text": [
      "python Tensorflow/models/research/object_detection/model_main_tf2.py --model_dir=Tensorflow/workspace/models/my_ssd_mobnet --pipeline_config_path=Tensorflow/workspace/models/my_ssd_mobnet/pipeline.config --num_train_steps=3000\n"
     ]
    }
   ],
   "source": [
    "print(command)"
   ]
  },
  {
   "cell_type": "code",
   "execution_count": 23,
   "metadata": {
    "colab": {
     "base_uri": "https://localhost:8080/"
    },
    "id": "i3ZsJR-qpfDH",
    "outputId": "cabec5e1-45e6-4f2f-d9cf-297d9c1d0225"
   },
   "outputs": [
    {
     "name": "stdout",
     "output_type": "stream",
     "text": [
      "INFO:tensorflow:Using MirroredStrategy with devices ('/job:localhost/replica:0/task:0/device:CPU:0',)\n",
      "I0708 10:04:55.956186 8515963904 mirrored_strategy.py:419] Using MirroredStrategy with devices ('/job:localhost/replica:0/task:0/device:CPU:0',)\n",
      "INFO:tensorflow:Maybe overwriting train_steps: 3000\n",
      "I0708 10:04:55.999013 8515963904 config_util.py:552] Maybe overwriting train_steps: 3000\n",
      "INFO:tensorflow:Maybe overwriting use_bfloat16: False\n",
      "I0708 10:04:55.999172 8515963904 config_util.py:552] Maybe overwriting use_bfloat16: False\n",
      "WARNING:tensorflow:From /Users/yash/miniforge3/envs/tfcpd/lib/python3.8/site-packages/object_detection/model_lib_v2.py:563: StrategyBase.experimental_distribute_datasets_from_function (from tensorflow.python.distribute.distribute_lib) is deprecated and will be removed in a future version.\n",
      "Instructions for updating:\n",
      "rename to distribute_datasets_from_function\n",
      "W0708 10:04:56.017510 8515963904 deprecation.py:364] From /Users/yash/miniforge3/envs/tfcpd/lib/python3.8/site-packages/object_detection/model_lib_v2.py:563: StrategyBase.experimental_distribute_datasets_from_function (from tensorflow.python.distribute.distribute_lib) is deprecated and will be removed in a future version.\n",
      "Instructions for updating:\n",
      "rename to distribute_datasets_from_function\n",
      "INFO:tensorflow:Reading unweighted datasets: ['Tensorflow/workspace/annotations/train.record']\n",
      "I0708 10:04:56.023102 8515963904 dataset_builder.py:162] Reading unweighted datasets: ['Tensorflow/workspace/annotations/train.record']\n",
      "INFO:tensorflow:Reading record datasets for input file: ['Tensorflow/workspace/annotations/train.record']\n",
      "I0708 10:04:56.023200 8515963904 dataset_builder.py:79] Reading record datasets for input file: ['Tensorflow/workspace/annotations/train.record']\n",
      "INFO:tensorflow:Number of filenames to read: 1\n",
      "I0708 10:04:56.023241 8515963904 dataset_builder.py:80] Number of filenames to read: 1\n",
      "WARNING:tensorflow:num_readers has been reduced to 1 to match input file shards.\n",
      "W0708 10:04:56.023274 8515963904 dataset_builder.py:86] num_readers has been reduced to 1 to match input file shards.\n",
      "WARNING:tensorflow:From /Users/yash/miniforge3/envs/tfcpd/lib/python3.8/site-packages/object_detection/builders/dataset_builder.py:100: parallel_interleave (from tensorflow.python.data.experimental.ops.interleave_ops) is deprecated and will be removed in a future version.\n",
      "Instructions for updating:\n",
      "Use `tf.data.Dataset.interleave(map_func, cycle_length, block_length, num_parallel_calls=tf.data.AUTOTUNE)` instead. If sloppy execution is desired, use `tf.data.Options.deterministic`.\n",
      "W0708 10:04:56.030833 8515963904 deprecation.py:364] From /Users/yash/miniforge3/envs/tfcpd/lib/python3.8/site-packages/object_detection/builders/dataset_builder.py:100: parallel_interleave (from tensorflow.python.data.experimental.ops.interleave_ops) is deprecated and will be removed in a future version.\n",
      "Instructions for updating:\n",
      "Use `tf.data.Dataset.interleave(map_func, cycle_length, block_length, num_parallel_calls=tf.data.AUTOTUNE)` instead. If sloppy execution is desired, use `tf.data.Options.deterministic`.\n",
      "WARNING:tensorflow:From /Users/yash/miniforge3/envs/tfcpd/lib/python3.8/site-packages/object_detection/builders/dataset_builder.py:235: DatasetV1.map_with_legacy_function (from tensorflow.python.data.ops.dataset_ops) is deprecated and will be removed in a future version.\n",
      "Instructions for updating:\n",
      "Use `tf.data.Dataset.map()\n",
      "W0708 10:04:56.050863 8515963904 deprecation.py:364] From /Users/yash/miniforge3/envs/tfcpd/lib/python3.8/site-packages/object_detection/builders/dataset_builder.py:235: DatasetV1.map_with_legacy_function (from tensorflow.python.data.ops.dataset_ops) is deprecated and will be removed in a future version.\n",
      "Instructions for updating:\n",
      "Use `tf.data.Dataset.map()\n",
      "WARNING:tensorflow:From /Users/yash/miniforge3/envs/tfcpd/lib/python3.8/site-packages/tensorflow/python/util/dispatch.py:1176: sparse_to_dense (from tensorflow.python.ops.sparse_ops) is deprecated and will be removed in a future version.\n",
      "Instructions for updating:\n",
      "Create a `tf.sparse.SparseTensor` and use `tf.sparse.to_dense` instead.\n",
      "W0708 10:05:01.103974 8515963904 deprecation.py:364] From /Users/yash/miniforge3/envs/tfcpd/lib/python3.8/site-packages/tensorflow/python/util/dispatch.py:1176: sparse_to_dense (from tensorflow.python.ops.sparse_ops) is deprecated and will be removed in a future version.\n",
      "Instructions for updating:\n",
      "Create a `tf.sparse.SparseTensor` and use `tf.sparse.to_dense` instead.\n",
      "WARNING:tensorflow:From /Users/yash/miniforge3/envs/tfcpd/lib/python3.8/site-packages/tensorflow/python/util/dispatch.py:1176: sample_distorted_bounding_box (from tensorflow.python.ops.image_ops_impl) is deprecated and will be removed in a future version.\n",
      "Instructions for updating:\n",
      "`seed2` arg is deprecated.Use sample_distorted_bounding_box_v2 instead.\n",
      "W0708 10:05:03.304497 8515963904 deprecation.py:364] From /Users/yash/miniforge3/envs/tfcpd/lib/python3.8/site-packages/tensorflow/python/util/dispatch.py:1176: sample_distorted_bounding_box (from tensorflow.python.ops.image_ops_impl) is deprecated and will be removed in a future version.\n",
      "Instructions for updating:\n",
      "`seed2` arg is deprecated.Use sample_distorted_bounding_box_v2 instead.\n",
      "WARNING:tensorflow:From /Users/yash/miniforge3/envs/tfcpd/lib/python3.8/site-packages/tensorflow/python/util/dispatch.py:1176: to_float (from tensorflow.python.ops.math_ops) is deprecated and will be removed in a future version.\n",
      "Instructions for updating:\n",
      "Use `tf.cast` instead.\n",
      "W0708 10:05:04.424412 8515963904 deprecation.py:364] From /Users/yash/miniforge3/envs/tfcpd/lib/python3.8/site-packages/tensorflow/python/util/dispatch.py:1176: to_float (from tensorflow.python.ops.math_ops) is deprecated and will be removed in a future version.\n",
      "Instructions for updating:\n",
      "Use `tf.cast` instead.\n",
      "2024-07-08 10:05:06.282381: I tensorflow/core/common_runtime/executor.cc:1210] [/device:CPU:0] (DEBUG INFO) Executor start aborting (this does not indicate an error and you can ignore this message): INVALID_ARGUMENT: You must feed a value for placeholder tensor 'Placeholder/_25' with dtype int64\n",
      "\t [[{{node Placeholder/_25}}]]\n",
      "2024-07-08 10:05:06.282986: I tensorflow/core/common_runtime/executor.cc:1210] [/device:CPU:0] (DEBUG INFO) Executor start aborting (this does not indicate an error and you can ignore this message): INVALID_ARGUMENT: You must feed a value for placeholder tensor 'Placeholder/_29' with dtype int64\n",
      "\t [[{{node Placeholder/_29}}]]\n",
      "2024-07-08 10:05:06.687140: W tensorflow/core/framework/dataset.cc:956] Input of GeneratorDatasetOp::Dataset will not be optimized because the dataset does not implement the AsGraphDefInternal() method needed to apply optimizations.\n",
      "2024-07-08 10:05:06.687571: I tensorflow/core/common_runtime/executor.cc:1210] [/device:CPU:0] (DEBUG INFO) Executor start aborting (this does not indicate an error and you can ignore this message): INVALID_ARGUMENT: You must feed a value for placeholder tensor 'Placeholder/_0' with dtype variant\n",
      "\t [[{{node Placeholder/_0}}]]\n",
      "/Users/yash/miniforge3/envs/tfcpd/lib/python3.8/site-packages/keras/src/backend.py:452: UserWarning: `tf.keras.backend.set_learning_phase` is deprecated and will be removed after 2020-10-11. To update it, simply pass a True/False value to the `training` argument of the `__call__` method of your layer or model.\n",
      "  warnings.warn(\n",
      "I0708 10:05:10.440171 6291484672 api.py:460] feature_map_spatial_dims: [(40, 40), (20, 20), (10, 10), (5, 5), (3, 3)]\n",
      "I0708 10:05:16.210661 13855911936 api.py:460] feature_map_spatial_dims: [(40, 40), (20, 20), (10, 10), (5, 5), (3, 3)]\n",
      "2024-07-08 10:05:19.628688: I tensorflow/core/common_runtime/executor.cc:1210] [/device:CPU:0] (DEBUG INFO) Executor start aborting (this does not indicate an error and you can ignore this message): INVALID_ARGUMENT: You must feed a value for placeholder tensor 'Placeholder/_24' with dtype resource\n",
      "\t [[{{node Placeholder/_24}}]]\n",
      "2024-07-08 10:05:19.629263: I tensorflow/core/common_runtime/executor.cc:1210] [/device:CPU:0] (DEBUG INFO) Executor start aborting (this does not indicate an error and you can ignore this message): INVALID_ARGUMENT: You must feed a value for placeholder tensor 'Placeholder/_25' with dtype int64\n",
      "\t [[{{node Placeholder/_25}}]]\n",
      "2024-07-08 10:05:19.990307: I tensorflow/core/common_runtime/executor.cc:1210] [/device:CPU:0] (DEBUG INFO) Executor start aborting (this does not indicate an error and you can ignore this message): INVALID_ARGUMENT: You must feed a value for placeholder tensor 'Placeholder/_0' with dtype variant\n",
      "\t [[{{node Placeholder/_0}}]]\n",
      "WARNING:tensorflow:From /Users/yash/miniforge3/envs/tfcpd/lib/python3.8/site-packages/tensorflow/python/util/deprecation.py:648: calling map_fn_v2 (from tensorflow.python.ops.map_fn) with dtype is deprecated and will be removed in a future version.\n",
      "Instructions for updating:\n",
      "Use fn_output_signature instead\n",
      "W0708 10:05:21.310692 14087778304 deprecation.py:569] From /Users/yash/miniforge3/envs/tfcpd/lib/python3.8/site-packages/tensorflow/python/util/deprecation.py:648: calling map_fn_v2 (from tensorflow.python.ops.map_fn) with dtype is deprecated and will be removed in a future version.\n",
      "Instructions for updating:\n",
      "Use fn_output_signature instead\n",
      "I0708 10:05:22.069196 14087778304 api.py:460] feature_map_spatial_dims: [(40, 40), (20, 20), (10, 10), (5, 5), (3, 3)]\n",
      "I0708 10:05:26.206378 14191718400 api.py:460] feature_map_spatial_dims: [(40, 40), (20, 20), (10, 10), (5, 5), (3, 3)]\n",
      "I0708 10:05:29.615420 14280585216 api.py:460] feature_map_spatial_dims: [(40, 40), (20, 20), (10, 10), (5, 5), (3, 3)]\n",
      "I0708 10:05:33.476912 14390685696 api.py:460] feature_map_spatial_dims: [(40, 40), (20, 20), (10, 10), (5, 5), (3, 3)]\n",
      "INFO:tensorflow:Step 100 per-step time 0.745s\n",
      "I0708 10:06:35.064248 8515963904 model_lib_v2.py:705] Step 100 per-step time 0.745s\n",
      "INFO:tensorflow:{'Loss/classification_loss': 0.49659666,\n",
      " 'Loss/localization_loss': 0.60613465,\n",
      " 'Loss/regularization_loss': 0.1536438,\n",
      " 'Loss/total_loss': 1.2563752,\n",
      " 'learning_rate': 0.0319994}\n",
      "I0708 10:06:35.065425 8515963904 model_lib_v2.py:708] {'Loss/classification_loss': 0.49659666,\n",
      " 'Loss/localization_loss': 0.60613465,\n",
      " 'Loss/regularization_loss': 0.1536438,\n",
      " 'Loss/total_loss': 1.2563752,\n",
      " 'learning_rate': 0.0319994}\n",
      "INFO:tensorflow:Step 200 per-step time 0.529s\n",
      "I0708 10:07:27.916634 8515963904 model_lib_v2.py:705] Step 200 per-step time 0.529s\n",
      "INFO:tensorflow:{'Loss/classification_loss': 0.30822766,\n",
      " 'Loss/localization_loss': 0.3544034,\n",
      " 'Loss/regularization_loss': 0.15352076,\n",
      " 'Loss/total_loss': 0.81615186,\n",
      " 'learning_rate': 0.0373328}\n",
      "I0708 10:07:27.917698 8515963904 model_lib_v2.py:708] {'Loss/classification_loss': 0.30822766,\n",
      " 'Loss/localization_loss': 0.3544034,\n",
      " 'Loss/regularization_loss': 0.15352076,\n",
      " 'Loss/total_loss': 0.81615186,\n",
      " 'learning_rate': 0.0373328}\n",
      "INFO:tensorflow:Step 300 per-step time 0.524s\n",
      "I0708 10:08:20.270330 8515963904 model_lib_v2.py:705] Step 300 per-step time 0.524s\n",
      "INFO:tensorflow:{'Loss/classification_loss': 0.19873917,\n",
      " 'Loss/localization_loss': 0.25400308,\n",
      " 'Loss/regularization_loss': 0.15336327,\n",
      " 'Loss/total_loss': 0.6061055,\n",
      " 'learning_rate': 0.0426662}\n",
      "I0708 10:08:20.271331 8515963904 model_lib_v2.py:708] {'Loss/classification_loss': 0.19873917,\n",
      " 'Loss/localization_loss': 0.25400308,\n",
      " 'Loss/regularization_loss': 0.15336327,\n",
      " 'Loss/total_loss': 0.6061055,\n",
      " 'learning_rate': 0.0426662}\n",
      "INFO:tensorflow:Step 400 per-step time 1.753s\n",
      "I0708 10:11:15.618355 8515963904 model_lib_v2.py:705] Step 400 per-step time 1.753s\n",
      "INFO:tensorflow:{'Loss/classification_loss': 0.19769058,\n",
      " 'Loss/localization_loss': 0.23334469,\n",
      " 'Loss/regularization_loss': 0.15316513,\n",
      " 'Loss/total_loss': 0.5842004,\n",
      " 'learning_rate': 0.047999598}\n",
      "I0708 10:11:15.619390 8515963904 model_lib_v2.py:708] {'Loss/classification_loss': 0.19769058,\n",
      " 'Loss/localization_loss': 0.23334469,\n",
      " 'Loss/regularization_loss': 0.15316513,\n",
      " 'Loss/total_loss': 0.5842004,\n",
      " 'learning_rate': 0.047999598}\n",
      "INFO:tensorflow:Step 500 per-step time 0.516s\n",
      "I0708 10:12:07.174854 8515963904 model_lib_v2.py:705] Step 500 per-step time 0.516s\n",
      "INFO:tensorflow:{'Loss/classification_loss': 0.21669844,\n",
      " 'Loss/localization_loss': 0.25238016,\n",
      " 'Loss/regularization_loss': 0.15298073,\n",
      " 'Loss/total_loss': 0.62205935,\n",
      " 'learning_rate': 0.053333}\n",
      "I0708 10:12:07.175858 8515963904 model_lib_v2.py:708] {'Loss/classification_loss': 0.21669844,\n",
      " 'Loss/localization_loss': 0.25238016,\n",
      " 'Loss/regularization_loss': 0.15298073,\n",
      " 'Loss/total_loss': 0.62205935,\n",
      " 'learning_rate': 0.053333}\n",
      "INFO:tensorflow:Step 600 per-step time 0.514s\n",
      "I0708 10:12:58.552845 8515963904 model_lib_v2.py:705] Step 600 per-step time 0.514s\n",
      "INFO:tensorflow:{'Loss/classification_loss': 0.18725768,\n",
      " 'Loss/localization_loss': 0.16625811,\n",
      " 'Loss/regularization_loss': 0.15280609,\n",
      " 'Loss/total_loss': 0.5063219,\n",
      " 'learning_rate': 0.0586664}\n",
      "I0708 10:12:58.553868 8515963904 model_lib_v2.py:708] {'Loss/classification_loss': 0.18725768,\n",
      " 'Loss/localization_loss': 0.16625811,\n",
      " 'Loss/regularization_loss': 0.15280609,\n",
      " 'Loss/total_loss': 0.5063219,\n",
      " 'learning_rate': 0.0586664}\n",
      "INFO:tensorflow:Step 700 per-step time 0.525s\n",
      "I0708 10:13:51.044417 8515963904 model_lib_v2.py:705] Step 700 per-step time 0.525s\n",
      "INFO:tensorflow:{'Loss/classification_loss': 0.23275824,\n",
      " 'Loss/localization_loss': 0.21022342,\n",
      " 'Loss/regularization_loss': 0.15256052,\n",
      " 'Loss/total_loss': 0.5955422,\n",
      " 'learning_rate': 0.0639998}\n",
      "I0708 10:13:51.045382 8515963904 model_lib_v2.py:708] {'Loss/classification_loss': 0.23275824,\n",
      " 'Loss/localization_loss': 0.21022342,\n",
      " 'Loss/regularization_loss': 0.15256052,\n",
      " 'Loss/total_loss': 0.5955422,\n",
      " 'learning_rate': 0.0639998}\n",
      "INFO:tensorflow:Step 800 per-step time 0.515s\n",
      "I0708 10:14:42.504909 8515963904 model_lib_v2.py:705] Step 800 per-step time 0.515s\n",
      "INFO:tensorflow:{'Loss/classification_loss': 0.20806722,\n",
      " 'Loss/localization_loss': 0.121445015,\n",
      " 'Loss/regularization_loss': 0.15237866,\n",
      " 'Loss/total_loss': 0.48189092,\n",
      " 'learning_rate': 0.069333196}\n",
      "I0708 10:14:42.505856 8515963904 model_lib_v2.py:708] {'Loss/classification_loss': 0.20806722,\n",
      " 'Loss/localization_loss': 0.121445015,\n",
      " 'Loss/regularization_loss': 0.15237866,\n",
      " 'Loss/total_loss': 0.48189092,\n",
      " 'learning_rate': 0.069333196}\n",
      "INFO:tensorflow:Step 900 per-step time 0.520s\n",
      "I0708 10:15:34.548663 8515963904 model_lib_v2.py:705] Step 900 per-step time 0.520s\n",
      "INFO:tensorflow:{'Loss/classification_loss': 0.15068321,\n",
      " 'Loss/localization_loss': 0.18754254,\n",
      " 'Loss/regularization_loss': 0.15209901,\n",
      " 'Loss/total_loss': 0.4903248,\n",
      " 'learning_rate': 0.074666604}\n",
      "I0708 10:15:34.549715 8515963904 model_lib_v2.py:708] {'Loss/classification_loss': 0.15068321,\n",
      " 'Loss/localization_loss': 0.18754254,\n",
      " 'Loss/regularization_loss': 0.15209901,\n",
      " 'Loss/total_loss': 0.4903248,\n",
      " 'learning_rate': 0.074666604}\n",
      "INFO:tensorflow:Step 1000 per-step time 0.557s\n",
      "I0708 10:16:30.221333 8515963904 model_lib_v2.py:705] Step 1000 per-step time 0.557s\n",
      "INFO:tensorflow:{'Loss/classification_loss': 0.18309964,\n",
      " 'Loss/localization_loss': 0.16366747,\n",
      " 'Loss/regularization_loss': 0.15188758,\n",
      " 'Loss/total_loss': 0.49865472,\n",
      " 'learning_rate': 0.08}\n",
      "I0708 10:16:30.222373 8515963904 model_lib_v2.py:708] {'Loss/classification_loss': 0.18309964,\n",
      " 'Loss/localization_loss': 0.16366747,\n",
      " 'Loss/regularization_loss': 0.15188758,\n",
      " 'Loss/total_loss': 0.49865472,\n",
      " 'learning_rate': 0.08}\n",
      "INFO:tensorflow:Step 1100 per-step time 0.573s\n",
      "I0708 10:17:27.504462 8515963904 model_lib_v2.py:705] Step 1100 per-step time 0.573s\n",
      "INFO:tensorflow:{'Loss/classification_loss': 0.12934631,\n",
      " 'Loss/localization_loss': 0.10775981,\n",
      " 'Loss/regularization_loss': 0.15158351,\n",
      " 'Loss/total_loss': 0.3886896,\n",
      " 'learning_rate': 0.07999918}\n",
      "I0708 10:17:27.505707 8515963904 model_lib_v2.py:708] {'Loss/classification_loss': 0.12934631,\n",
      " 'Loss/localization_loss': 0.10775981,\n",
      " 'Loss/regularization_loss': 0.15158351,\n",
      " 'Loss/total_loss': 0.3886896,\n",
      " 'learning_rate': 0.07999918}\n",
      "INFO:tensorflow:Step 1200 per-step time 0.625s\n",
      "I0708 10:18:30.000101 8515963904 model_lib_v2.py:705] Step 1200 per-step time 0.625s\n",
      "INFO:tensorflow:{'Loss/classification_loss': 0.18048821,\n",
      " 'Loss/localization_loss': 0.19336146,\n",
      " 'Loss/regularization_loss': 0.15122259,\n",
      " 'Loss/total_loss': 0.5250723,\n",
      " 'learning_rate': 0.079996705}\n",
      "I0708 10:18:30.001389 8515963904 model_lib_v2.py:708] {'Loss/classification_loss': 0.18048821,\n",
      " 'Loss/localization_loss': 0.19336146,\n",
      " 'Loss/regularization_loss': 0.15122259,\n",
      " 'Loss/total_loss': 0.5250723,\n",
      " 'learning_rate': 0.079996705}\n",
      "INFO:tensorflow:Step 1300 per-step time 0.565s\n",
      "I0708 10:19:26.451131 8515963904 model_lib_v2.py:705] Step 1300 per-step time 0.565s\n",
      "INFO:tensorflow:{'Loss/classification_loss': 0.17076074,\n",
      " 'Loss/localization_loss': 0.13340952,\n",
      " 'Loss/regularization_loss': 0.15086855,\n",
      " 'Loss/total_loss': 0.4550388,\n",
      " 'learning_rate': 0.0799926}\n",
      "I0708 10:19:26.452117 8515963904 model_lib_v2.py:708] {'Loss/classification_loss': 0.17076074,\n",
      " 'Loss/localization_loss': 0.13340952,\n",
      " 'Loss/regularization_loss': 0.15086855,\n",
      " 'Loss/total_loss': 0.4550388,\n",
      " 'learning_rate': 0.0799926}\n",
      "INFO:tensorflow:Step 1400 per-step time 0.600s\n",
      "I0708 10:20:26.424986 8515963904 model_lib_v2.py:705] Step 1400 per-step time 0.600s\n",
      "INFO:tensorflow:{'Loss/classification_loss': 0.1171783,\n",
      " 'Loss/localization_loss': 0.10291285,\n",
      " 'Loss/regularization_loss': 0.15045132,\n",
      " 'Loss/total_loss': 0.37054247,\n",
      " 'learning_rate': 0.07998685}\n",
      "I0708 10:20:26.426156 8515963904 model_lib_v2.py:708] {'Loss/classification_loss': 0.1171783,\n",
      " 'Loss/localization_loss': 0.10291285,\n",
      " 'Loss/regularization_loss': 0.15045132,\n",
      " 'Loss/total_loss': 0.37054247,\n",
      " 'learning_rate': 0.07998685}\n",
      "INFO:tensorflow:Step 1500 per-step time 0.574s\n",
      "I0708 10:21:23.833210 8515963904 model_lib_v2.py:705] Step 1500 per-step time 0.574s\n",
      "INFO:tensorflow:{'Loss/classification_loss': 0.13223337,\n",
      " 'Loss/localization_loss': 0.12050403,\n",
      " 'Loss/regularization_loss': 0.15005575,\n",
      " 'Loss/total_loss': 0.40279314,\n",
      " 'learning_rate': 0.07997945}\n",
      "I0708 10:21:23.834447 8515963904 model_lib_v2.py:708] {'Loss/classification_loss': 0.13223337,\n",
      " 'Loss/localization_loss': 0.12050403,\n",
      " 'Loss/regularization_loss': 0.15005575,\n",
      " 'Loss/total_loss': 0.40279314,\n",
      " 'learning_rate': 0.07997945}\n",
      "INFO:tensorflow:Step 1600 per-step time 0.564s\n",
      "I0708 10:22:20.220652 8515963904 model_lib_v2.py:705] Step 1600 per-step time 0.564s\n",
      "INFO:tensorflow:{'Loss/classification_loss': 0.13502675,\n",
      " 'Loss/localization_loss': 0.10250343,\n",
      " 'Loss/regularization_loss': 0.14956065,\n",
      " 'Loss/total_loss': 0.3870908,\n",
      " 'learning_rate': 0.079970405}\n",
      "I0708 10:22:20.221678 8515963904 model_lib_v2.py:708] {'Loss/classification_loss': 0.13502675,\n",
      " 'Loss/localization_loss': 0.10250343,\n",
      " 'Loss/regularization_loss': 0.14956065,\n",
      " 'Loss/total_loss': 0.3870908,\n",
      " 'learning_rate': 0.079970405}\n",
      "INFO:tensorflow:Step 1700 per-step time 0.630s\n",
      "I0708 10:23:23.209509 8515963904 model_lib_v2.py:705] Step 1700 per-step time 0.630s\n",
      "INFO:tensorflow:{'Loss/classification_loss': 0.13371511,\n",
      " 'Loss/localization_loss': 0.12854554,\n",
      " 'Loss/regularization_loss': 0.14908676,\n",
      " 'Loss/total_loss': 0.4113474,\n",
      " 'learning_rate': 0.07995972}\n",
      "I0708 10:23:23.211095 8515963904 model_lib_v2.py:708] {'Loss/classification_loss': 0.13371511,\n",
      " 'Loss/localization_loss': 0.12854554,\n",
      " 'Loss/regularization_loss': 0.14908676,\n",
      " 'Loss/total_loss': 0.4113474,\n",
      " 'learning_rate': 0.07995972}\n",
      "INFO:tensorflow:Step 1800 per-step time 0.686s\n",
      "I0708 10:24:31.817728 8515963904 model_lib_v2.py:705] Step 1800 per-step time 0.686s\n",
      "INFO:tensorflow:{'Loss/classification_loss': 0.16286565,\n",
      " 'Loss/localization_loss': 0.17794393,\n",
      " 'Loss/regularization_loss': 0.148575,\n",
      " 'Loss/total_loss': 0.4893846,\n",
      " 'learning_rate': 0.0799474}\n",
      "I0708 10:24:31.818696 8515963904 model_lib_v2.py:708] {'Loss/classification_loss': 0.16286565,\n",
      " 'Loss/localization_loss': 0.17794393,\n",
      " 'Loss/regularization_loss': 0.148575,\n",
      " 'Loss/total_loss': 0.4893846,\n",
      " 'learning_rate': 0.0799474}\n",
      "INFO:tensorflow:Step 1900 per-step time 0.589s\n",
      "I0708 10:25:30.735878 8515963904 model_lib_v2.py:705] Step 1900 per-step time 0.589s\n",
      "INFO:tensorflow:{'Loss/classification_loss': 0.12911406,\n",
      " 'Loss/localization_loss': 0.07674854,\n",
      " 'Loss/regularization_loss': 0.14817877,\n",
      " 'Loss/total_loss': 0.3540414,\n",
      " 'learning_rate': 0.07993342}\n",
      "I0708 10:25:30.736859 8515963904 model_lib_v2.py:708] {'Loss/classification_loss': 0.12911406,\n",
      " 'Loss/localization_loss': 0.07674854,\n",
      " 'Loss/regularization_loss': 0.14817877,\n",
      " 'Loss/total_loss': 0.3540414,\n",
      " 'learning_rate': 0.07993342}\n",
      "INFO:tensorflow:Step 2000 per-step time 0.622s\n",
      "I0708 10:26:32.977198 8515963904 model_lib_v2.py:705] Step 2000 per-step time 0.622s\n",
      "INFO:tensorflow:{'Loss/classification_loss': 0.12534216,\n",
      " 'Loss/localization_loss': 0.08572494,\n",
      " 'Loss/regularization_loss': 0.14768912,\n",
      " 'Loss/total_loss': 0.35875624,\n",
      " 'learning_rate': 0.07991781}\n",
      "I0708 10:26:32.978351 8515963904 model_lib_v2.py:708] {'Loss/classification_loss': 0.12534216,\n",
      " 'Loss/localization_loss': 0.08572494,\n",
      " 'Loss/regularization_loss': 0.14768912,\n",
      " 'Loss/total_loss': 0.35875624,\n",
      " 'learning_rate': 0.07991781}\n",
      "INFO:tensorflow:Step 2100 per-step time 0.625s\n",
      "I0708 10:27:35.462661 8515963904 model_lib_v2.py:705] Step 2100 per-step time 0.625s\n",
      "INFO:tensorflow:{'Loss/classification_loss': 0.117572576,\n",
      " 'Loss/localization_loss': 0.07337403,\n",
      " 'Loss/regularization_loss': 0.14717418,\n",
      " 'Loss/total_loss': 0.3381208,\n",
      " 'learning_rate': 0.07990056}\n",
      "I0708 10:27:35.463995 8515963904 model_lib_v2.py:708] {'Loss/classification_loss': 0.117572576,\n",
      " 'Loss/localization_loss': 0.07337403,\n",
      " 'Loss/regularization_loss': 0.14717418,\n",
      " 'Loss/total_loss': 0.3381208,\n",
      " 'learning_rate': 0.07990056}\n",
      "INFO:tensorflow:Step 2200 per-step time 0.573s\n",
      "I0708 10:28:32.796020 8515963904 model_lib_v2.py:705] Step 2200 per-step time 0.573s\n",
      "INFO:tensorflow:{'Loss/classification_loss': 0.09919734,\n",
      " 'Loss/localization_loss': 0.081848204,\n",
      " 'Loss/regularization_loss': 0.14659949,\n",
      " 'Loss/total_loss': 0.32764503,\n",
      " 'learning_rate': 0.07988167}\n",
      "I0708 10:28:32.797214 8515963904 model_lib_v2.py:708] {'Loss/classification_loss': 0.09919734,\n",
      " 'Loss/localization_loss': 0.081848204,\n",
      " 'Loss/regularization_loss': 0.14659949,\n",
      " 'Loss/total_loss': 0.32764503,\n",
      " 'learning_rate': 0.07988167}\n",
      "INFO:tensorflow:Step 2300 per-step time 0.550s\n",
      "I0708 10:29:27.768754 8515963904 model_lib_v2.py:705] Step 2300 per-step time 0.550s\n",
      "INFO:tensorflow:{'Loss/classification_loss': 0.08548408,\n",
      " 'Loss/localization_loss': 0.049590882,\n",
      " 'Loss/regularization_loss': 0.14611325,\n",
      " 'Loss/total_loss': 0.28118822,\n",
      " 'learning_rate': 0.07986114}\n",
      "I0708 10:29:27.769818 8515963904 model_lib_v2.py:708] {'Loss/classification_loss': 0.08548408,\n",
      " 'Loss/localization_loss': 0.049590882,\n",
      " 'Loss/regularization_loss': 0.14611325,\n",
      " 'Loss/total_loss': 0.28118822,\n",
      " 'learning_rate': 0.07986114}\n",
      "INFO:tensorflow:Step 2400 per-step time 0.525s\n",
      "I0708 10:30:20.281068 8515963904 model_lib_v2.py:705] Step 2400 per-step time 0.525s\n",
      "INFO:tensorflow:{'Loss/classification_loss': 0.11529097,\n",
      " 'Loss/localization_loss': 0.07509116,\n",
      " 'Loss/regularization_loss': 0.14548425,\n",
      " 'Loss/total_loss': 0.33586636,\n",
      " 'learning_rate': 0.07983897}\n",
      "I0708 10:30:20.281308 8515963904 model_lib_v2.py:708] {'Loss/classification_loss': 0.11529097,\n",
      " 'Loss/localization_loss': 0.07509116,\n",
      " 'Loss/regularization_loss': 0.14548425,\n",
      " 'Loss/total_loss': 0.33586636,\n",
      " 'learning_rate': 0.07983897}\n",
      "INFO:tensorflow:Step 2500 per-step time 0.520s\n",
      "I0708 10:31:12.274333 8515963904 model_lib_v2.py:705] Step 2500 per-step time 0.520s\n",
      "INFO:tensorflow:{'Loss/classification_loss': 0.12622184,\n",
      " 'Loss/localization_loss': 0.10235125,\n",
      " 'Loss/regularization_loss': 0.14499055,\n",
      " 'Loss/total_loss': 0.37356365,\n",
      " 'learning_rate': 0.079815164}\n",
      "I0708 10:31:12.275357 8515963904 model_lib_v2.py:708] {'Loss/classification_loss': 0.12622184,\n",
      " 'Loss/localization_loss': 0.10235125,\n",
      " 'Loss/regularization_loss': 0.14499055,\n",
      " 'Loss/total_loss': 0.37356365,\n",
      " 'learning_rate': 0.079815164}\n",
      "INFO:tensorflow:Step 2600 per-step time 0.519s\n",
      "I0708 10:32:04.136286 8515963904 model_lib_v2.py:705] Step 2600 per-step time 0.519s\n",
      "INFO:tensorflow:{'Loss/classification_loss': 0.13025162,\n",
      " 'Loss/localization_loss': 0.096123524,\n",
      " 'Loss/regularization_loss': 0.14442456,\n",
      " 'Loss/total_loss': 0.3707997,\n",
      " 'learning_rate': 0.07978972}\n",
      "I0708 10:32:04.136790 8515963904 model_lib_v2.py:708] {'Loss/classification_loss': 0.13025162,\n",
      " 'Loss/localization_loss': 0.096123524,\n",
      " 'Loss/regularization_loss': 0.14442456,\n",
      " 'Loss/total_loss': 0.3707997,\n",
      " 'learning_rate': 0.07978972}\n",
      "INFO:tensorflow:Step 2700 per-step time 0.515s\n",
      "I0708 10:32:55.614099 8515963904 model_lib_v2.py:705] Step 2700 per-step time 0.515s\n",
      "INFO:tensorflow:{'Loss/classification_loss': 0.107184365,\n",
      " 'Loss/localization_loss': 0.09694935,\n",
      " 'Loss/regularization_loss': 0.14390162,\n",
      " 'Loss/total_loss': 0.34803534,\n",
      " 'learning_rate': 0.07976264}\n",
      "I0708 10:32:55.614346 8515963904 model_lib_v2.py:708] {'Loss/classification_loss': 0.107184365,\n",
      " 'Loss/localization_loss': 0.09694935,\n",
      " 'Loss/regularization_loss': 0.14390162,\n",
      " 'Loss/total_loss': 0.34803534,\n",
      " 'learning_rate': 0.07976264}\n",
      "INFO:tensorflow:Step 2800 per-step time 0.513s\n",
      "I0708 10:33:46.928261 8515963904 model_lib_v2.py:705] Step 2800 per-step time 0.513s\n",
      "INFO:tensorflow:{'Loss/classification_loss': 0.09157203,\n",
      " 'Loss/localization_loss': 0.07307209,\n",
      " 'Loss/regularization_loss': 0.14332704,\n",
      " 'Loss/total_loss': 0.30797118,\n",
      " 'learning_rate': 0.07973392}\n",
      "I0708 10:33:46.928510 8515963904 model_lib_v2.py:708] {'Loss/classification_loss': 0.09157203,\n",
      " 'Loss/localization_loss': 0.07307209,\n",
      " 'Loss/regularization_loss': 0.14332704,\n",
      " 'Loss/total_loss': 0.30797118,\n",
      " 'learning_rate': 0.07973392}\n",
      "INFO:tensorflow:Step 2900 per-step time 0.515s\n",
      "I0708 10:34:38.475623 8515963904 model_lib_v2.py:705] Step 2900 per-step time 0.515s\n",
      "INFO:tensorflow:{'Loss/classification_loss': 0.084640525,\n",
      " 'Loss/localization_loss': 0.059368595,\n",
      " 'Loss/regularization_loss': 0.14274082,\n",
      " 'Loss/total_loss': 0.28674996,\n",
      " 'learning_rate': 0.07970358}\n",
      "I0708 10:34:38.476640 8515963904 model_lib_v2.py:708] {'Loss/classification_loss': 0.084640525,\n",
      " 'Loss/localization_loss': 0.059368595,\n",
      " 'Loss/regularization_loss': 0.14274082,\n",
      " 'Loss/total_loss': 0.28674996,\n",
      " 'learning_rate': 0.07970358}\n",
      "INFO:tensorflow:Step 3000 per-step time 0.516s\n",
      "I0708 10:35:30.074437 8515963904 model_lib_v2.py:705] Step 3000 per-step time 0.516s\n",
      "INFO:tensorflow:{'Loss/classification_loss': 0.08740803,\n",
      " 'Loss/localization_loss': 0.06659632,\n",
      " 'Loss/regularization_loss': 0.14214009,\n",
      " 'Loss/total_loss': 0.29614443,\n",
      " 'learning_rate': 0.0796716}\n",
      "I0708 10:35:30.074676 8515963904 model_lib_v2.py:708] {'Loss/classification_loss': 0.08740803,\n",
      " 'Loss/localization_loss': 0.06659632,\n",
      " 'Loss/regularization_loss': 0.14214009,\n",
      " 'Loss/total_loss': 0.29614443,\n",
      " 'learning_rate': 0.0796716}\n"
     ]
    }
   ],
   "source": [
    "!{command}"
   ]
  },
  {
   "cell_type": "code",
   "execution_count": null,
   "metadata": {},
   "outputs": [],
   "source": [
    "!pip uninstall tensorflow --y\n",
    "#!pip install tensorflow==2.13.1"
   ]
  },
  {
   "cell_type": "markdown",
   "metadata": {
    "id": "4_YRZu7npfDH"
   },
   "source": [
    "# 7. Evaluate the Model"
   ]
  },
  {
   "cell_type": "code",
   "execution_count": 23,
   "metadata": {
    "id": "80L7-fdPpfDH"
   },
   "outputs": [],
   "source": [
    "command = \"python {} --model_dir={} --pipeline_config_path={} --checkpoint_dir={}\".format(TRAINING_SCRIPT, paths['CHECKPOINT_PATH'],files['PIPELINE_CONFIG'], paths['CHECKPOINT_PATH'])"
   ]
  },
  {
   "cell_type": "code",
   "execution_count": 24,
   "metadata": {
    "colab": {
     "base_uri": "https://localhost:8080/"
    },
    "id": "lYsgEPx9pfDH",
    "outputId": "8632d48b-91d2-45d9-bcb8-c1b172bf6eed"
   },
   "outputs": [
    {
     "name": "stdout",
     "output_type": "stream",
     "text": [
      "python Tensorflow/models/research/object_detection/model_main_tf2.py --model_dir=Tensorflow/workspace/models/my_ssd_mobnet --pipeline_config_path=Tensorflow/workspace/models/my_ssd_mobnet/pipeline.config --checkpoint_dir=Tensorflow/workspace/models/my_ssd_mobnet\n"
     ]
    }
   ],
   "source": [
    "print(command)"
   ]
  },
  {
   "cell_type": "code",
   "execution_count": null,
   "metadata": {
    "id": "lqTV2jGBpfDH"
   },
   "outputs": [],
   "source": [
    "!{command}"
   ]
  },
  {
   "cell_type": "markdown",
   "metadata": {
    "id": "orvRk02UpfDI"
   },
   "source": [
    "# 8. Load Train Model From Checkpoint"
   ]
  },
  {
   "cell_type": "code",
   "execution_count": 25,
   "metadata": {
    "id": "8TYk4_oIpfDI"
   },
   "outputs": [],
   "source": [
    "import os\n",
    "import tensorflow as tf\n",
    "from object_detection.utils import label_map_util\n",
    "from object_detection.utils import visualization_utils as viz_utils\n",
    "from object_detection.builders import model_builder\n",
    "from object_detection.utils import config_util"
   ]
  },
  {
   "cell_type": "code",
   "execution_count": 26,
   "metadata": {
    "id": "tDnQg-cYpfDI"
   },
   "outputs": [],
   "source": [
    "# Load pipeline config and build a detection model\n",
    "configs = config_util.get_configs_from_pipeline_file(files['PIPELINE_CONFIG'])\n",
    "detection_model = model_builder.build(model_config=configs['model'], is_training=False)\n",
    "\n",
    "# Restore checkpoint\n",
    "ckpt = tf.compat.v2.train.Checkpoint(model=detection_model)\n",
    "ckpt.restore(os.path.join(paths['CHECKPOINT_PATH'], 'ckpt-3')).expect_partial()\n",
    "\n",
    "@tf.function\n",
    "def detect_fn(image):\n",
    "    image, shapes = detection_model.preprocess(image)\n",
    "    prediction_dict = detection_model.predict(image, shapes)\n",
    "    detections = detection_model.postprocess(prediction_dict, shapes)\n",
    "    return detections"
   ]
  },
  {
   "cell_type": "markdown",
   "metadata": {
    "id": "0EmsmbBZpfDI"
   },
   "source": [
    "# 9. Detect from an Image"
   ]
  },
  {
   "cell_type": "code",
   "execution_count": 27,
   "metadata": {
    "id": "Y_MKiuZ4pfDI"
   },
   "outputs": [],
   "source": [
    "import cv2 \n",
    "import numpy as np\n",
    "from matplotlib import pyplot as plt\n",
    "%matplotlib inline"
   ]
  },
  {
   "cell_type": "code",
   "execution_count": 28,
   "metadata": {
    "id": "cBDbIhNapfDI"
   },
   "outputs": [],
   "source": [
    "category_index = label_map_util.create_category_index_from_labelmap(files['LABELMAP'])"
   ]
  },
  {
   "cell_type": "code",
   "execution_count": 45,
   "metadata": {
    "id": "Lx3crOhOzITB"
   },
   "outputs": [],
   "source": [
    "IMAGE_PATH = os.path.join(paths['IMAGE_PATH'], 'train', '24_jpg.rf.9a528e0e9556d6743d0310bad2f8c6b2.jpg')"
   ]
  },
  {
   "cell_type": "code",
   "execution_count": 46,
   "metadata": {
    "colab": {
     "base_uri": "https://localhost:8080/",
     "height": 269
    },
    "id": "Tpzn1SMry1yK",
    "outputId": "c392a2c5-10fe-4fc4-9998-a1d4c7db2bd3"
   },
   "outputs": [
    {
     "data": {
      "image/png": "[encoded data removed]",
      "text/plain": [
       "<Figure size 640x480 with 1 Axes>"
      ]
     },
     "metadata": {},
     "output_type": "display_data"
    }
   ],
   "source": [
    "img = cv2.imread(IMAGE_PATH)\n",
    "image_np = np.array(img)\n",
    "\n",
    "input_tensor = tf.convert_to_tensor(np.expand_dims(image_np, 0), dtype=tf.float32)\n",
    "detections = detect_fn(input_tensor)\n",
    "\n",
    "num_detections = int(detections.pop('num_detections'))\n",
    "detections = {key: value[0, :num_detections].numpy()\n",
    "              for key, value in detections.items()}\n",
    "detections['num_detections'] = num_detections\n",
    "\n",
    "# detection_classes should be ints.\n",
    "detections['detection_classes'] = detections['detection_classes'].astype(np.int64)\n",
    "\n",
    "label_id_offset = 1\n",
    "image_np_with_detections = image_np.copy()\n",
    "\n",
    "viz_utils.visualize_boxes_and_labels_on_image_array(\n",
    "            image_np_with_detections,\n",
    "            detections['detection_boxes'],\n",
    "            detections['detection_classes']+label_id_offset,\n",
    "            detections['detection_scores'],\n",
    "            category_index,\n",
    "            use_normalized_coordinates=True,\n",
    "            max_boxes_to_draw=5,\n",
    "            min_score_thresh=.8,\n",
    "            agnostic_mode=False)\n",
    "\n",
    "plt.imshow(cv2.cvtColor(image_np_with_detections, cv2.COLOR_BGR2RGB))\n",
    "plt.show()"
   ]
  },
  {
   "cell_type": "markdown",
   "metadata": {
    "id": "IsNAaYAo0WVL"
   },
   "source": [
    "# 10. Real Time Detections from your Webcam"
   ]
  },
  {
   "cell_type": "code",
   "execution_count": 47,
   "metadata": {},
   "outputs": [
    {
     "name": "stdout",
     "output_type": "stream",
     "text": [
      "Requirement already satisfied: opencv-python-headless in /Users/yash/miniforge3/envs/tfcpd/lib/python3.8/site-packages (4.10.0.84)\n",
      "Requirement already satisfied: numpy>=1.21.0 in /Users/yash/miniforge3/envs/tfcpd/lib/python3.8/site-packages (from opencv-python-headless) (1.24.3)\n"
     ]
    }
   ],
   "source": [
    "!pip install opencv-python-headless"
   ]
  },
  {
   "cell_type": "code",
   "execution_count": null,
   "metadata": {
    "id": "o_grs6OGpfDJ"
   },
   "outputs": [],
   "source": [
    "cap = cv2.VideoCapture(0)\n",
    "width = int(cap.get(cv2.CAP_PROP_FRAME_WIDTH))\n",
    "height = int(cap.get(cv2.CAP_PROP_FRAME_HEIGHT))\n",
    "\n",
    "while cap.isOpened(): \n",
    "    ret, frame = cap.read()\n",
    "    image_np = np.array(frame)\n",
    "    \n",
    "    input_tensor = tf.convert_to_tensor(np.expand_dims(image_np, 0), dtype=tf.float32)\n",
    "    detections = detect_fn(input_tensor)\n",
    "    \n",
    "    num_detections = int(detections.pop('num_detections'))\n",
    "    detections = {key: value[0, :num_detections].numpy()\n",
    "                  for key, value in detections.items()}\n",
    "    detections['num_detections'] = num_detections\n",
    "\n",
    "    # detection_classes should be ints.\n",
    "    detections['detection_classes'] = detections['detection_classes'].astype(np.int64)\n",
    "\n",
    "    label_id_offset = 1\n",
    "    image_np_with_detections = image_np.copy()\n",
    "\n",
    "    viz_utils.visualize_boxes_and_labels_on_image_array(\n",
    "                image_np_with_detections,\n",
    "                detections['detection_boxes'],\n",
    "                detections['detection_classes']+label_id_offset,\n",
    "                detections['detection_scores'],\n",
    "                category_index,\n",
    "                use_normalized_coordinates=True,\n",
    "                max_boxes_to_draw=5,\n",
    "                min_score_thresh=.6,\n",
    "                agnostic_mode=False)\n",
    "\n",
    "    cv2.imshow('object detection',  cv2.resize(image_np_with_detections, (800, 600)))\n",
    "    \n",
    "    if cv2.waitKey(10) & 0xFF == ord('q'):\n",
    "        cap.release()\n",
    "        cv2.destroyAllWindows()\n",
    "        break"
   ]
  },
  {
   "cell_type": "markdown",
   "metadata": {
    "id": "rzlM4jt0pfDJ"
   },
   "source": [
    "# 10. Freezing the Graph"
   ]
  },
  {
   "cell_type": "code",
   "execution_count": 48,
   "metadata": {
    "id": "n4olHB2npfDJ"
   },
   "outputs": [],
   "source": [
    "FREEZE_SCRIPT = os.path.join(paths['APIMODEL_PATH'], 'research', 'object_detection', 'exporter_main_v2.py ')"
   ]
  },
  {
   "cell_type": "code",
   "execution_count": 49,
   "metadata": {
    "id": "0AjO93QDpfDJ"
   },
   "outputs": [],
   "source": [
    "command = \"python {} --input_type=image_tensor --pipeline_config_path={} --trained_checkpoint_dir={} --output_directory={}\".format(FREEZE_SCRIPT ,files['PIPELINE_CONFIG'], paths['CHECKPOINT_PATH'], paths['OUTPUT_PATH'])"
   ]
  },
  {
   "cell_type": "code",
   "execution_count": 50,
   "metadata": {
    "colab": {
     "base_uri": "https://localhost:8080/"
    },
    "id": "F6Lsp3tCpfDJ",
    "outputId": "c3828529-bf06-4df5-d7f3-145890ec3edd"
   },
   "outputs": [
    {
     "name": "stdout",
     "output_type": "stream",
     "text": [
      "python Tensorflow/models/research/object_detection/exporter_main_v2.py  --input_type=image_tensor --pipeline_config_path=Tensorflow/workspace/models/my_ssd_mobnet/pipeline.config --trained_checkpoint_dir=Tensorflow/workspace/models/my_ssd_mobnet --output_directory=Tensorflow/workspace/models/my_ssd_mobnet/export\n"
     ]
    }
   ],
   "source": [
    "print(command)"
   ]
  },
  {
   "cell_type": "code",
   "execution_count": 51,
   "metadata": {
    "colab": {
     "base_uri": "https://localhost:8080/"
    },
    "id": "1Sw1ULgHpfDJ",
    "outputId": "6fd441e1-9fc9-4889-d072-3395c21e40b6"
   },
   "outputs": [
    {
     "name": "stdout",
     "output_type": "stream",
     "text": [
      "WARNING:tensorflow:From /Users/yash/miniforge3/envs/tfcpd/lib/python3.8/site-packages/tensorflow/python/autograph/impl/api.py:459: calling map_fn_v2 (from tensorflow.python.ops.map_fn) with back_prop=False is deprecated and will be removed in a future version.\n",
      "Instructions for updating:\n",
      "back_prop=False is deprecated. Consider using tf.stop_gradient instead.\n",
      "Instead of:\n",
      "results = tf.map_fn(fn, elems, back_prop=False)\n",
      "Use:\n",
      "results = tf.nest.map_structure(tf.stop_gradient, tf.map_fn(fn, elems))\n",
      "W0708 20:45:43.210188 8515963904 deprecation.py:641] From /Users/yash/miniforge3/envs/tfcpd/lib/python3.8/site-packages/tensorflow/python/autograph/impl/api.py:459: calling map_fn_v2 (from tensorflow.python.ops.map_fn) with back_prop=False is deprecated and will be removed in a future version.\n",
      "Instructions for updating:\n",
      "back_prop=False is deprecated. Consider using tf.stop_gradient instead.\n",
      "Instead of:\n",
      "results = tf.map_fn(fn, elems, back_prop=False)\n",
      "Use:\n",
      "results = tf.nest.map_structure(tf.stop_gradient, tf.map_fn(fn, elems))\n",
      "I0708 20:45:46.111639 8515963904 api.py:460] feature_map_spatial_dims: [(40, 40), (20, 20), (10, 10), (5, 5), (3, 3)]\n",
      "I0708 20:45:52.771739 8515963904 api.py:460] feature_map_spatial_dims: [(40, 40), (20, 20), (10, 10), (5, 5), (3, 3)]\n",
      "I0708 20:45:55.010535 8515963904 signature_serialization.py:148] Function `call_func` contains input name(s) resource with unsupported characters which will be renamed to weightsharedconvolutionalboxpredictor_predictiontower_conv2d_3_batchnorm_feature_4_fusedbatchnormv3_readvariableop_1_resource in the SavedModel.\n",
      "I0708 20:45:55.954282 8515963904 api.py:460] feature_map_spatial_dims: [(40, 40), (20, 20), (10, 10), (5, 5), (3, 3)]\n",
      "WARNING:tensorflow:Skipping full serialization of Keras layer <object_detection.meta_architectures.ssd_meta_arch.SSDMetaArch object at 0x139858fa0>, because it is not built.\n",
      "W0708 20:45:57.703909 8515963904 save_impl.py:66] Skipping full serialization of Keras layer <object_detection.meta_architectures.ssd_meta_arch.SSDMetaArch object at 0x139858fa0>, because it is not built.\n",
      "WARNING:tensorflow:Skipping full serialization of Keras layer <keras.src.layers.convolutional.separable_conv2d.SeparableConv2D object at 0x13b1ff970>, because it is not built.\n",
      "W0708 20:45:57.933727 8515963904 save_impl.py:66] Skipping full serialization of Keras layer <keras.src.layers.convolutional.separable_conv2d.SeparableConv2D object at 0x13b1ff970>, because it is not built.\n",
      "WARNING:tensorflow:Skipping full serialization of Keras layer <object_detection.core.freezable_batch_norm.FreezableBatchNorm object at 0x13baaef70>, because it is not built.\n",
      "W0708 20:45:57.933876 8515963904 save_impl.py:66] Skipping full serialization of Keras layer <object_detection.core.freezable_batch_norm.FreezableBatchNorm object at 0x13baaef70>, because it is not built.\n",
      "WARNING:tensorflow:Skipping full serialization of Keras layer <keras.src.layers.core.lambda_layer.Lambda object at 0x13baae280>, because it is not built.\n",
      "W0708 20:45:57.933928 8515963904 save_impl.py:66] Skipping full serialization of Keras layer <keras.src.layers.core.lambda_layer.Lambda object at 0x13baae280>, because it is not built.\n",
      "WARNING:tensorflow:Skipping full serialization of Keras layer <keras.src.layers.convolutional.separable_conv2d.SeparableConv2D object at 0x13a7b30d0>, because it is not built.\n",
      "W0708 20:45:57.933973 8515963904 save_impl.py:66] Skipping full serialization of Keras layer <keras.src.layers.convolutional.separable_conv2d.SeparableConv2D object at 0x13a7b30d0>, because it is not built.\n",
      "WARNING:tensorflow:Skipping full serialization of Keras layer <object_detection.core.freezable_batch_norm.FreezableBatchNorm object at 0x13a7b3220>, because it is not built.\n",
      "W0708 20:45:57.934074 8515963904 save_impl.py:66] Skipping full serialization of Keras layer <object_detection.core.freezable_batch_norm.FreezableBatchNorm object at 0x13a7b3220>, because it is not built.\n",
      "WARNING:tensorflow:Skipping full serialization of Keras layer <keras.src.layers.core.lambda_layer.Lambda object at 0x13a7b3f70>, because it is not built.\n",
      "W0708 20:45:57.934128 8515963904 save_impl.py:66] Skipping full serialization of Keras layer <keras.src.layers.core.lambda_layer.Lambda object at 0x13a7b3f70>, because it is not built.\n",
      "WARNING:tensorflow:Skipping full serialization of Keras layer <keras.src.layers.convolutional.separable_conv2d.SeparableConv2D object at 0x13bc42370>, because it is not built.\n",
      "W0708 20:45:57.934174 8515963904 save_impl.py:66] Skipping full serialization of Keras layer <keras.src.layers.convolutional.separable_conv2d.SeparableConv2D object at 0x13bc42370>, because it is not built.\n",
      "WARNING:tensorflow:Skipping full serialization of Keras layer <object_detection.core.freezable_batch_norm.FreezableBatchNorm object at 0x13bc42ca0>, because it is not built.\n",
      "W0708 20:45:57.934213 8515963904 save_impl.py:66] Skipping full serialization of Keras layer <object_detection.core.freezable_batch_norm.FreezableBatchNorm object at 0x13bc42ca0>, because it is not built.\n",
      "WARNING:tensorflow:Skipping full serialization of Keras layer <keras.src.layers.core.lambda_layer.Lambda object at 0x13bc42d00>, because it is not built.\n",
      "W0708 20:45:57.934251 8515963904 save_impl.py:66] Skipping full serialization of Keras layer <keras.src.layers.core.lambda_layer.Lambda object at 0x13bc42d00>, because it is not built.\n",
      "WARNING:tensorflow:Skipping full serialization of Keras layer <keras.src.layers.convolutional.separable_conv2d.SeparableConv2D object at 0x13bc42520>, because it is not built.\n",
      "W0708 20:45:57.934359 8515963904 save_impl.py:66] Skipping full serialization of Keras layer <keras.src.layers.convolutional.separable_conv2d.SeparableConv2D object at 0x13bc42520>, because it is not built.\n",
      "WARNING:tensorflow:Skipping full serialization of Keras layer <object_detection.core.freezable_batch_norm.FreezableBatchNorm object at 0x13b7ce6a0>, because it is not built.\n",
      "W0708 20:45:57.934431 8515963904 save_impl.py:66] Skipping full serialization of Keras layer <object_detection.core.freezable_batch_norm.FreezableBatchNorm object at 0x13b7ce6a0>, because it is not built.\n",
      "WARNING:tensorflow:Skipping full serialization of Keras layer <keras.src.layers.core.lambda_layer.Lambda object at 0x13b8c7e20>, because it is not built.\n",
      "W0708 20:45:57.934479 8515963904 save_impl.py:66] Skipping full serialization of Keras layer <keras.src.layers.core.lambda_layer.Lambda object at 0x13b8c7e20>, because it is not built.\n",
      "WARNING:tensorflow:Skipping full serialization of Keras layer <object_detection.core.freezable_batch_norm.FreezableBatchNorm object at 0x13bcb3d30>, because it is not built.\n",
      "W0708 20:45:57.934522 8515963904 save_impl.py:66] Skipping full serialization of Keras layer <object_detection.core.freezable_batch_norm.FreezableBatchNorm object at 0x13bcb3d30>, because it is not built.\n",
      "WARNING:tensorflow:Skipping full serialization of Keras layer <keras.src.layers.core.lambda_layer.Lambda object at 0x13bcbb8e0>, because it is not built.\n",
      "W0708 20:45:57.934560 8515963904 save_impl.py:66] Skipping full serialization of Keras layer <keras.src.layers.core.lambda_layer.Lambda object at 0x13bcbb8e0>, because it is not built.\n",
      "WARNING:tensorflow:Skipping full serialization of Keras layer <object_detection.core.freezable_batch_norm.FreezableBatchNorm object at 0x13bcbb0d0>, because it is not built.\n",
      "W0708 20:45:57.934659 8515963904 save_impl.py:66] Skipping full serialization of Keras layer <object_detection.core.freezable_batch_norm.FreezableBatchNorm object at 0x13bcbb0d0>, because it is not built.\n",
      "WARNING:tensorflow:Skipping full serialization of Keras layer <keras.src.layers.core.lambda_layer.Lambda object at 0x13bcbb4f0>, because it is not built.\n",
      "W0708 20:45:57.934700 8515963904 save_impl.py:66] Skipping full serialization of Keras layer <keras.src.layers.core.lambda_layer.Lambda object at 0x13bcbb4f0>, because it is not built.\n",
      "WARNING:tensorflow:Skipping full serialization of Keras layer <object_detection.core.freezable_batch_norm.FreezableBatchNorm object at 0x13bcbb580>, because it is not built.\n",
      "W0708 20:45:57.934752 8515963904 save_impl.py:66] Skipping full serialization of Keras layer <object_detection.core.freezable_batch_norm.FreezableBatchNorm object at 0x13bcbb580>, because it is not built.\n",
      "WARNING:tensorflow:Skipping full serialization of Keras layer <keras.src.layers.core.lambda_layer.Lambda object at 0x13bcbfe50>, because it is not built.\n",
      "W0708 20:45:57.934822 8515963904 save_impl.py:66] Skipping full serialization of Keras layer <keras.src.layers.core.lambda_layer.Lambda object at 0x13bcbfe50>, because it is not built.\n",
      "WARNING:tensorflow:Skipping full serialization of Keras layer <object_detection.core.freezable_batch_norm.FreezableBatchNorm object at 0x13bcbfbb0>, because it is not built.\n",
      "W0708 20:45:57.934875 8515963904 save_impl.py:66] Skipping full serialization of Keras layer <object_detection.core.freezable_batch_norm.FreezableBatchNorm object at 0x13bcbfbb0>, because it is not built.\n",
      "WARNING:tensorflow:Skipping full serialization of Keras layer <keras.src.layers.core.lambda_layer.Lambda object at 0x13bcbf040>, because it is not built.\n",
      "W0708 20:45:57.934916 8515963904 save_impl.py:66] Skipping full serialization of Keras layer <keras.src.layers.core.lambda_layer.Lambda object at 0x13bcbf040>, because it is not built.\n",
      "WARNING:tensorflow:Skipping full serialization of Keras layer <object_detection.core.freezable_batch_norm.FreezableBatchNorm object at 0x14b0ed160>, because it is not built.\n",
      "W0708 20:45:57.934957 8515963904 save_impl.py:66] Skipping full serialization of Keras layer <object_detection.core.freezable_batch_norm.FreezableBatchNorm object at 0x14b0ed160>, because it is not built.\n",
      "WARNING:tensorflow:Skipping full serialization of Keras layer <keras.src.layers.core.lambda_layer.Lambda object at 0x13b870370>, because it is not built.\n",
      "W0708 20:45:57.934995 8515963904 save_impl.py:66] Skipping full serialization of Keras layer <keras.src.layers.core.lambda_layer.Lambda object at 0x13b870370>, because it is not built.\n",
      "WARNING:tensorflow:Skipping full serialization of Keras layer <object_detection.core.freezable_batch_norm.FreezableBatchNorm object at 0x13b870ca0>, because it is not built.\n",
      "W0708 20:45:57.935033 8515963904 save_impl.py:66] Skipping full serialization of Keras layer <object_detection.core.freezable_batch_norm.FreezableBatchNorm object at 0x13b870ca0>, because it is not built.\n",
      "WARNING:tensorflow:Skipping full serialization of Keras layer <keras.src.layers.core.lambda_layer.Lambda object at 0x13b8708b0>, because it is not built.\n",
      "W0708 20:45:57.935120 8515963904 save_impl.py:66] Skipping full serialization of Keras layer <keras.src.layers.core.lambda_layer.Lambda object at 0x13b8708b0>, because it is not built.\n",
      "WARNING:tensorflow:Skipping full serialization of Keras layer <object_detection.core.freezable_batch_norm.FreezableBatchNorm object at 0x14b0df3d0>, because it is not built.\n",
      "W0708 20:45:57.935169 8515963904 save_impl.py:66] Skipping full serialization of Keras layer <object_detection.core.freezable_batch_norm.FreezableBatchNorm object at 0x14b0df3d0>, because it is not built.\n",
      "WARNING:tensorflow:Skipping full serialization of Keras layer <keras.src.layers.core.lambda_layer.Lambda object at 0x14b0df2b0>, because it is not built.\n",
      "W0708 20:45:57.935205 8515963904 save_impl.py:66] Skipping full serialization of Keras layer <keras.src.layers.core.lambda_layer.Lambda object at 0x14b0df2b0>, because it is not built.\n",
      "WARNING:tensorflow:Skipping full serialization of Keras layer <object_detection.core.freezable_batch_norm.FreezableBatchNorm object at 0x14b0df9d0>, because it is not built.\n",
      "W0708 20:45:57.935280 8515963904 save_impl.py:66] Skipping full serialization of Keras layer <object_detection.core.freezable_batch_norm.FreezableBatchNorm object at 0x14b0df9d0>, because it is not built.\n",
      "WARNING:tensorflow:Skipping full serialization of Keras layer <keras.src.layers.core.lambda_layer.Lambda object at 0x14b0dfa90>, because it is not built.\n",
      "W0708 20:45:57.935322 8515963904 save_impl.py:66] Skipping full serialization of Keras layer <keras.src.layers.core.lambda_layer.Lambda object at 0x14b0dfa90>, because it is not built.\n",
      "WARNING:tensorflow:Skipping full serialization of Keras layer <object_detection.core.freezable_batch_norm.FreezableBatchNorm object at 0x13b88dca0>, because it is not built.\n",
      "W0708 20:45:57.935367 8515963904 save_impl.py:66] Skipping full serialization of Keras layer <object_detection.core.freezable_batch_norm.FreezableBatchNorm object at 0x13b88dca0>, because it is not built.\n",
      "WARNING:tensorflow:Skipping full serialization of Keras layer <keras.src.layers.core.lambda_layer.Lambda object at 0x13b81c9a0>, because it is not built.\n",
      "W0708 20:45:57.935425 8515963904 save_impl.py:66] Skipping full serialization of Keras layer <keras.src.layers.core.lambda_layer.Lambda object at 0x13b81c9a0>, because it is not built.\n",
      "WARNING:tensorflow:Skipping full serialization of Keras layer <object_detection.core.freezable_batch_norm.FreezableBatchNorm object at 0x13baba700>, because it is not built.\n",
      "W0708 20:45:57.935467 8515963904 save_impl.py:66] Skipping full serialization of Keras layer <object_detection.core.freezable_batch_norm.FreezableBatchNorm object at 0x13baba700>, because it is not built.\n",
      "WARNING:tensorflow:Skipping full serialization of Keras layer <keras.src.layers.core.lambda_layer.Lambda object at 0x13baba1f0>, because it is not built.\n",
      "W0708 20:45:57.935503 8515963904 save_impl.py:66] Skipping full serialization of Keras layer <keras.src.layers.core.lambda_layer.Lambda object at 0x13baba1f0>, because it is not built.\n",
      "WARNING:tensorflow:Skipping full serialization of Keras layer <object_detection.core.freezable_batch_norm.FreezableBatchNorm object at 0x13baba580>, because it is not built.\n",
      "W0708 20:45:57.935587 8515963904 save_impl.py:66] Skipping full serialization of Keras layer <object_detection.core.freezable_batch_norm.FreezableBatchNorm object at 0x13baba580>, because it is not built.\n",
      "WARNING:tensorflow:Skipping full serialization of Keras layer <keras.src.layers.core.lambda_layer.Lambda object at 0x13babae80>, because it is not built.\n",
      "W0708 20:45:57.935623 8515963904 save_impl.py:66] Skipping full serialization of Keras layer <keras.src.layers.core.lambda_layer.Lambda object at 0x13babae80>, because it is not built.\n",
      "WARNING:tensorflow:Skipping full serialization of Keras layer <object_detection.core.freezable_batch_norm.FreezableBatchNorm object at 0x13ba9a610>, because it is not built.\n",
      "W0708 20:45:57.935660 8515963904 save_impl.py:66] Skipping full serialization of Keras layer <object_detection.core.freezable_batch_norm.FreezableBatchNorm object at 0x13ba9a610>, because it is not built.\n",
      "WARNING:tensorflow:Skipping full serialization of Keras layer <keras.src.layers.core.lambda_layer.Lambda object at 0x13ba9a7f0>, because it is not built.\n",
      "W0708 20:45:57.935748 8515963904 save_impl.py:66] Skipping full serialization of Keras layer <keras.src.layers.core.lambda_layer.Lambda object at 0x13ba9a7f0>, because it is not built.\n",
      "WARNING:tensorflow:Skipping full serialization of Keras layer <object_detection.core.freezable_batch_norm.FreezableBatchNorm object at 0x13b7d9f10>, because it is not built.\n",
      "W0708 20:45:57.935786 8515963904 save_impl.py:66] Skipping full serialization of Keras layer <object_detection.core.freezable_batch_norm.FreezableBatchNorm object at 0x13b7d9f10>, because it is not built.\n",
      "WARNING:tensorflow:Skipping full serialization of Keras layer <keras.src.layers.core.lambda_layer.Lambda object at 0x13bb1e130>, because it is not built.\n",
      "W0708 20:45:57.935852 8515963904 save_impl.py:66] Skipping full serialization of Keras layer <keras.src.layers.core.lambda_layer.Lambda object at 0x13bb1e130>, because it is not built.\n",
      "WARNING:tensorflow:Skipping full serialization of Keras layer <object_detection.core.freezable_batch_norm.FreezableBatchNorm object at 0x13bb2cd00>, because it is not built.\n",
      "W0708 20:45:57.935889 8515963904 save_impl.py:66] Skipping full serialization of Keras layer <object_detection.core.freezable_batch_norm.FreezableBatchNorm object at 0x13bb2cd00>, because it is not built.\n",
      "WARNING:tensorflow:Skipping full serialization of Keras layer <keras.src.layers.core.lambda_layer.Lambda object at 0x13bb2cee0>, because it is not built.\n",
      "W0708 20:45:57.935925 8515963904 save_impl.py:66] Skipping full serialization of Keras layer <keras.src.layers.core.lambda_layer.Lambda object at 0x13bb2cee0>, because it is not built.\n",
      "WARNING:tensorflow:Skipping full serialization of Keras layer <object_detection.core.freezable_batch_norm.FreezableBatchNorm object at 0x13bb2c400>, because it is not built.\n",
      "W0708 20:45:57.935990 8515963904 save_impl.py:66] Skipping full serialization of Keras layer <object_detection.core.freezable_batch_norm.FreezableBatchNorm object at 0x13bb2c400>, because it is not built.\n",
      "WARNING:tensorflow:Skipping full serialization of Keras layer <keras.src.layers.core.lambda_layer.Lambda object at 0x13bb2ce80>, because it is not built.\n",
      "W0708 20:45:57.936030 8515963904 save_impl.py:66] Skipping full serialization of Keras layer <keras.src.layers.core.lambda_layer.Lambda object at 0x13bb2ce80>, because it is not built.\n",
      "WARNING:tensorflow:Skipping full serialization of Keras layer <object_detection.core.freezable_batch_norm.FreezableBatchNorm object at 0x13bab8940>, because it is not built.\n",
      "W0708 20:45:57.936068 8515963904 save_impl.py:66] Skipping full serialization of Keras layer <object_detection.core.freezable_batch_norm.FreezableBatchNorm object at 0x13bab8940>, because it is not built.\n",
      "WARNING:tensorflow:Skipping full serialization of Keras layer <keras.src.layers.core.lambda_layer.Lambda object at 0x13bab84f0>, because it is not built.\n",
      "W0708 20:45:57.936129 8515963904 save_impl.py:66] Skipping full serialization of Keras layer <keras.src.layers.core.lambda_layer.Lambda object at 0x13bab84f0>, because it is not built.\n",
      "I0708 20:46:06.835128 8515963904 save.py:274] Found untraced functions such as WeightSharedConvolutionalBoxPredictor_layer_call_fn, WeightSharedConvolutionalBoxPredictor_layer_call_and_return_conditional_losses, WeightSharedConvolutionalBoxHead_layer_call_fn, WeightSharedConvolutionalBoxHead_layer_call_and_return_conditional_losses, WeightSharedConvolutionalClassHead_layer_call_fn while saving (showing 5 of 173). These functions will not be directly callable after loading.\n",
      "INFO:tensorflow:Assets written to: Tensorflow/workspace/models/my_ssd_mobnet/export/saved_model/assets\n",
      "I0708 20:46:19.530307 8515963904 builder_impl.py:804] Assets written to: Tensorflow/workspace/models/my_ssd_mobnet/export/saved_model/assets\n",
      "I0708 20:46:24.276759 8515963904 fingerprinting_utils.py:48] Writing fingerprint to Tensorflow/workspace/models/my_ssd_mobnet/export/saved_model/fingerprint.pb\n",
      "INFO:tensorflow:Writing pipeline config file to Tensorflow/workspace/models/my_ssd_mobnet/export/pipeline.config\n",
      "I0708 20:46:24.601622 8515963904 config_util.py:253] Writing pipeline config file to Tensorflow/workspace/models/my_ssd_mobnet/export/pipeline.config\n"
     ]
    }
   ],
   "source": [
    "!{command}"
   ]
  },
  {
   "cell_type": "markdown",
   "metadata": {
    "id": "wTPmdqaXpfDK"
   },
   "source": [
    "# 11. Conversion to TFJS"
   ]
  },
  {
   "cell_type": "code",
   "execution_count": 52,
   "metadata": {
    "colab": {
     "base_uri": "https://localhost:8080/"
    },
    "id": "gZ6UzY_fpfDK",
    "outputId": "0c84722e-1c2b-4002-d857-80827ade828a",
    "scrolled": true
   },
   "outputs": [
    {
     "name": "stdout",
     "output_type": "stream",
     "text": [
      "Collecting tensorflowjs\n",
      "  Downloading tensorflowjs-4.20.0-py3-none-any.whl.metadata (3.2 kB)\n",
      "Collecting flax>=0.7.2 (from tensorflowjs)\n",
      "  Downloading flax-0.7.2-py3-none-any.whl.metadata (10.0 kB)\n",
      "Requirement already satisfied: importlib_resources>=5.9.0 in /Users/yash/miniforge3/envs/tfcpd/lib/python3.8/site-packages (from tensorflowjs) (6.4.0)\n",
      "Collecting jax>=0.4.13 (from tensorflowjs)\n",
      "  Downloading jax-0.4.13.tar.gz (1.3 MB)\n",
      "\u001b[2K     \u001b[38;2;114;156;31m━━━━━━━━━━━━━━━━━━━━━━━━━━━━━━━━━━━━━━━━\u001b[0m \u001b[32m1.3/1.3 MB\u001b[0m \u001b[31m1.5 MB/s\u001b[0m eta \u001b[36m0:00:00\u001b[0mm eta \u001b[36m0:00:01\u001b[0m0:01\u001b[0m:01\u001b[0m0m\n",
      "\u001b[?25h  Installing build dependencies ... \u001b[?25ldone\n",
      "\u001b[?25h  Getting requirements to build wheel ... \u001b[?25ldone\n",
      "\u001b[?25h  Preparing metadata (pyproject.toml) ... \u001b[?25ldone\n",
      "\u001b[?25hCollecting jaxlib>=0.4.13 (from tensorflowjs)\n",
      "  Downloading jaxlib-0.4.13-cp38-cp38-macosx_11_0_arm64.whl.metadata (2.1 kB)\n",
      "Collecting tensorflow<3,>=2.13.0 (from tensorflowjs)\n",
      "  Using cached tensorflow-2.13.1-cp38-cp38-macosx_12_0_arm64.whl.metadata (2.6 kB)\n",
      "Requirement already satisfied: tf-keras>=2.13.0 in /Users/yash/miniforge3/envs/tfcpd/lib/python3.8/site-packages (from tensorflowjs) (2.15.0)\n",
      "Collecting tensorflow-decision-forests>=1.5.0 (from tensorflowjs)\n",
      "  Downloading tensorflow_decision_forests-1.5.0-cp38-cp38-macosx_12_0_arm64.whl.metadata (4.9 kB)\n",
      "Requirement already satisfied: six<2,>=1.16.0 in /Users/yash/miniforge3/envs/tfcpd/lib/python3.8/site-packages (from tensorflowjs) (1.16.0)\n",
      "Requirement already satisfied: tensorflow-hub>=0.16.1 in /Users/yash/miniforge3/envs/tfcpd/lib/python3.8/site-packages (from tensorflowjs) (0.16.1)\n",
      "Collecting packaging~=23.1 (from tensorflowjs)\n",
      "  Downloading packaging-23.2-py3-none-any.whl.metadata (3.2 kB)\n",
      "Requirement already satisfied: numpy>=1.12 in /Users/yash/miniforge3/envs/tfcpd/lib/python3.8/site-packages (from flax>=0.7.2->tensorflowjs) (1.24.3)\n",
      "Collecting msgpack (from flax>=0.7.2->tensorflowjs)\n",
      "  Downloading msgpack-1.0.8-cp38-cp38-macosx_11_0_arm64.whl.metadata (9.1 kB)\n",
      "Collecting optax (from flax>=0.7.2->tensorflowjs)\n",
      "  Downloading optax-0.1.8-py3-none-any.whl.metadata (14 kB)\n",
      "Collecting orbax-checkpoint (from flax>=0.7.2->tensorflowjs)\n",
      "  Downloading orbax_checkpoint-0.2.3-py3-none-any.whl.metadata (1.8 kB)\n",
      "Collecting tensorstore (from flax>=0.7.2->tensorflowjs)\n",
      "  Downloading tensorstore-0.1.45-cp38-cp38-macosx_11_0_arm64.whl.metadata (2.9 kB)\n",
      "Collecting rich>=11.1 (from flax>=0.7.2->tensorflowjs)\n",
      "  Using cached rich-13.7.1-py3-none-any.whl.metadata (18 kB)\n",
      "Requirement already satisfied: typing-extensions>=4.1.1 in /Users/yash/miniforge3/envs/tfcpd/lib/python3.8/site-packages (from flax>=0.7.2->tensorflowjs) (4.5.0)\n",
      "Collecting PyYAML>=5.4.1 (from flax>=0.7.2->tensorflowjs)\n",
      "  Using cached PyYAML-6.0.1-cp38-cp38-macosx_11_0_arm64.whl\n",
      "Requirement already satisfied: zipp>=3.1.0 in /Users/yash/miniforge3/envs/tfcpd/lib/python3.8/site-packages (from importlib_resources>=5.9.0->tensorflowjs) (3.19.2)\n",
      "Collecting ml-dtypes>=0.1.0 (from jax>=0.4.13->tensorflowjs)\n",
      "  Downloading ml_dtypes-0.2.0-cp38-cp38-macosx_10_9_universal2.whl.metadata (20 kB)\n",
      "Requirement already satisfied: opt-einsum in /Users/yash/miniforge3/envs/tfcpd/lib/python3.8/site-packages (from jax>=0.4.13->tensorflowjs) (3.3.0)\n",
      "Requirement already satisfied: scipy>=1.7 in /Users/yash/miniforge3/envs/tfcpd/lib/python3.8/site-packages (from jax>=0.4.13->tensorflowjs) (1.10.1)\n",
      "Requirement already satisfied: importlib-metadata>=4.6 in /Users/yash/miniforge3/envs/tfcpd/lib/python3.8/site-packages (from jax>=0.4.13->tensorflowjs) (8.0.0)\n",
      "INFO: pip is looking at multiple versions of tensorflow to determine which version is compatible with other requirements. This could take a while.\n",
      "Collecting tensorflow<3,>=2.13.0 (from tensorflowjs)\n",
      "  Using cached tensorflow-2.13.0-cp38-cp38-macosx_12_0_arm64.whl.metadata (2.6 kB)\n",
      "Collecting tensorflow-macos==2.13.0 (from tensorflow<3,>=2.13.0->tensorflowjs)\n",
      "  Using cached tensorflow_macos-2.13.0-cp38-cp38-macosx_12_0_arm64.whl.metadata (3.2 kB)\n",
      "Requirement already satisfied: absl-py>=1.0.0 in /Users/yash/miniforge3/envs/tfcpd/lib/python3.8/site-packages (from tensorflow-macos==2.13.0->tensorflow<3,>=2.13.0->tensorflowjs) (1.4.0)\n",
      "Requirement already satisfied: astunparse>=1.6.0 in /Users/yash/miniforge3/envs/tfcpd/lib/python3.8/site-packages (from tensorflow-macos==2.13.0->tensorflow<3,>=2.13.0->tensorflowjs) (1.6.3)\n",
      "Requirement already satisfied: flatbuffers>=23.1.21 in /Users/yash/miniforge3/envs/tfcpd/lib/python3.8/site-packages (from tensorflow-macos==2.13.0->tensorflow<3,>=2.13.0->tensorflowjs) (24.3.25)\n",
      "Requirement already satisfied: gast<=0.4.0,>=0.2.1 in /Users/yash/miniforge3/envs/tfcpd/lib/python3.8/site-packages (from tensorflow-macos==2.13.0->tensorflow<3,>=2.13.0->tensorflowjs) (0.4.0)\n",
      "Requirement already satisfied: google-pasta>=0.1.1 in /Users/yash/miniforge3/envs/tfcpd/lib/python3.8/site-packages (from tensorflow-macos==2.13.0->tensorflow<3,>=2.13.0->tensorflowjs) (0.2.0)\n",
      "Requirement already satisfied: h5py>=2.9.0 in /Users/yash/miniforge3/envs/tfcpd/lib/python3.8/site-packages (from tensorflow-macos==2.13.0->tensorflow<3,>=2.13.0->tensorflowjs) (3.11.0)\n",
      "Requirement already satisfied: libclang>=13.0.0 in /Users/yash/miniforge3/envs/tfcpd/lib/python3.8/site-packages (from tensorflow-macos==2.13.0->tensorflow<3,>=2.13.0->tensorflowjs) (18.1.1)\n",
      "Collecting protobuf!=4.21.0,!=4.21.1,!=4.21.2,!=4.21.3,!=4.21.4,!=4.21.5,<5.0.0dev,>=3.20.3 (from tensorflow-macos==2.13.0->tensorflow<3,>=2.13.0->tensorflowjs)\n",
      "  Using cached protobuf-4.25.3-cp37-abi3-macosx_10_9_universal2.whl.metadata (541 bytes)\n",
      "Requirement already satisfied: setuptools in /Users/yash/miniforge3/envs/tfcpd/lib/python3.8/site-packages (from tensorflow-macos==2.13.0->tensorflow<3,>=2.13.0->tensorflowjs) (70.1.1)\n",
      "Requirement already satisfied: termcolor>=1.1.0 in /Users/yash/miniforge3/envs/tfcpd/lib/python3.8/site-packages (from tensorflow-macos==2.13.0->tensorflow<3,>=2.13.0->tensorflowjs) (2.4.0)\n",
      "Requirement already satisfied: wrapt>=1.11.0 in /Users/yash/miniforge3/envs/tfcpd/lib/python3.8/site-packages (from tensorflow-macos==2.13.0->tensorflow<3,>=2.13.0->tensorflowjs) (1.14.1)\n",
      "Requirement already satisfied: grpcio<2.0,>=1.24.3 in /Users/yash/miniforge3/envs/tfcpd/lib/python3.8/site-packages (from tensorflow-macos==2.13.0->tensorflow<3,>=2.13.0->tensorflowjs) (1.64.1)\n",
      "Requirement already satisfied: tensorboard<2.14,>=2.13 in /Users/yash/miniforge3/envs/tfcpd/lib/python3.8/site-packages (from tensorflow-macos==2.13.0->tensorflow<3,>=2.13.0->tensorflowjs) (2.13.0)\n",
      "Requirement already satisfied: tensorflow-estimator<2.14,>=2.13.0 in /Users/yash/miniforge3/envs/tfcpd/lib/python3.8/site-packages (from tensorflow-macos==2.13.0->tensorflow<3,>=2.13.0->tensorflowjs) (2.13.0)\n",
      "Requirement already satisfied: keras<2.14,>=2.13.1 in /Users/yash/miniforge3/envs/tfcpd/lib/python3.8/site-packages (from tensorflow-macos==2.13.0->tensorflow<3,>=2.13.0->tensorflowjs) (2.13.1)\n",
      "Requirement already satisfied: pandas in /Users/yash/miniforge3/envs/tfcpd/lib/python3.8/site-packages (from tensorflow-decision-forests>=1.5.0->tensorflowjs) (2.0.3)\n",
      "Requirement already satisfied: wheel in /Users/yash/miniforge3/envs/tfcpd/lib/python3.8/site-packages (from tensorflow-decision-forests>=1.5.0->tensorflowjs) (0.43.0)\n",
      "Collecting wurlitzer (from tensorflow-decision-forests>=1.5.0->tensorflowjs)\n",
      "  Downloading wurlitzer-3.1.1-py3-none-any.whl.metadata (2.5 kB)\n",
      "Collecting markdown-it-py>=2.2.0 (from rich>=11.1->flax>=0.7.2->tensorflowjs)\n",
      "  Using cached markdown_it_py-3.0.0-py3-none-any.whl.metadata (6.9 kB)\n",
      "Requirement already satisfied: pygments<3.0.0,>=2.13.0 in /Users/yash/miniforge3/envs/tfcpd/lib/python3.8/site-packages (from rich>=11.1->flax>=0.7.2->tensorflowjs) (2.18.0)\n",
      "Collecting chex>=0.1.7 (from optax->flax>=0.7.2->tensorflowjs)\n",
      "  Downloading chex-0.1.7-py3-none-any.whl.metadata (17 kB)\n",
      "Collecting cached_property (from orbax-checkpoint->flax>=0.7.2->tensorflowjs)\n",
      "  Downloading cached_property-1.5.2-py2.py3-none-any.whl.metadata (11 kB)\n",
      "Requirement already satisfied: etils in /Users/yash/miniforge3/envs/tfcpd/lib/python3.8/site-packages (from orbax-checkpoint->flax>=0.7.2->tensorflowjs) (1.3.0)\n",
      "Requirement already satisfied: nest_asyncio in /Users/yash/miniforge3/envs/tfcpd/lib/python3.8/site-packages (from orbax-checkpoint->flax>=0.7.2->tensorflowjs) (1.6.0)\n",
      "Requirement already satisfied: python-dateutil>=2.8.2 in /Users/yash/miniforge3/envs/tfcpd/lib/python3.8/site-packages (from pandas->tensorflow-decision-forests>=1.5.0->tensorflowjs) (2.9.0.post0)\n",
      "Requirement already satisfied: pytz>=2020.1 in /Users/yash/miniforge3/envs/tfcpd/lib/python3.8/site-packages (from pandas->tensorflow-decision-forests>=1.5.0->tensorflowjs) (2024.1)\n",
      "Requirement already satisfied: tzdata>=2022.1 in /Users/yash/miniforge3/envs/tfcpd/lib/python3.8/site-packages (from pandas->tensorflow-decision-forests>=1.5.0->tensorflowjs) (2024.1)\n",
      "Requirement already satisfied: dm-tree>=0.1.5 in /Users/yash/miniforge3/envs/tfcpd/lib/python3.8/site-packages (from chex>=0.1.7->optax->flax>=0.7.2->tensorflowjs) (0.1.8)\n",
      "Collecting toolz>=0.9.0 (from chex>=0.1.7->optax->flax>=0.7.2->tensorflowjs)\n",
      "  Downloading toolz-0.12.1-py3-none-any.whl.metadata (5.1 kB)\n",
      "Collecting mdurl~=0.1 (from markdown-it-py>=2.2.0->rich>=11.1->flax>=0.7.2->tensorflowjs)\n",
      "  Using cached mdurl-0.1.2-py3-none-any.whl.metadata (1.6 kB)\n",
      "Requirement already satisfied: google-auth<3,>=1.6.3 in /Users/yash/miniforge3/envs/tfcpd/lib/python3.8/site-packages (from tensorboard<2.14,>=2.13->tensorflow-macos==2.13.0->tensorflow<3,>=2.13.0->tensorflowjs) (2.31.0)\n",
      "Requirement already satisfied: google-auth-oauthlib<1.1,>=0.5 in /Users/yash/miniforge3/envs/tfcpd/lib/python3.8/site-packages (from tensorboard<2.14,>=2.13->tensorflow-macos==2.13.0->tensorflow<3,>=2.13.0->tensorflowjs) (1.0.0)\n",
      "Requirement already satisfied: markdown>=2.6.8 in /Users/yash/miniforge3/envs/tfcpd/lib/python3.8/site-packages (from tensorboard<2.14,>=2.13->tensorflow-macos==2.13.0->tensorflow<3,>=2.13.0->tensorflowjs) (3.6)\n",
      "Requirement already satisfied: requests<3,>=2.21.0 in /Users/yash/miniforge3/envs/tfcpd/lib/python3.8/site-packages (from tensorboard<2.14,>=2.13->tensorflow-macos==2.13.0->tensorflow<3,>=2.13.0->tensorflowjs) (2.31.0)\n",
      "Requirement already satisfied: tensorboard-data-server<0.8.0,>=0.7.0 in /Users/yash/miniforge3/envs/tfcpd/lib/python3.8/site-packages (from tensorboard<2.14,>=2.13->tensorflow-macos==2.13.0->tensorflow<3,>=2.13.0->tensorflowjs) (0.7.2)\n",
      "Requirement already satisfied: werkzeug>=1.0.1 in /Users/yash/miniforge3/envs/tfcpd/lib/python3.8/site-packages (from tensorboard<2.14,>=2.13->tensorflow-macos==2.13.0->tensorflow<3,>=2.13.0->tensorflowjs) (3.0.3)\n",
      "Requirement already satisfied: cachetools<6.0,>=2.0.0 in /Users/yash/miniforge3/envs/tfcpd/lib/python3.8/site-packages (from google-auth<3,>=1.6.3->tensorboard<2.14,>=2.13->tensorflow-macos==2.13.0->tensorflow<3,>=2.13.0->tensorflowjs) (5.3.3)\n",
      "Requirement already satisfied: pyasn1-modules>=0.2.1 in /Users/yash/miniforge3/envs/tfcpd/lib/python3.8/site-packages (from google-auth<3,>=1.6.3->tensorboard<2.14,>=2.13->tensorflow-macos==2.13.0->tensorflow<3,>=2.13.0->tensorflowjs) (0.4.0)\n",
      "Requirement already satisfied: rsa<5,>=3.1.4 in /Users/yash/miniforge3/envs/tfcpd/lib/python3.8/site-packages (from google-auth<3,>=1.6.3->tensorboard<2.14,>=2.13->tensorflow-macos==2.13.0->tensorflow<3,>=2.13.0->tensorflowjs) (4.9)\n",
      "Requirement already satisfied: requests-oauthlib>=0.7.0 in /Users/yash/miniforge3/envs/tfcpd/lib/python3.8/site-packages (from google-auth-oauthlib<1.1,>=0.5->tensorboard<2.14,>=2.13->tensorflow-macos==2.13.0->tensorflow<3,>=2.13.0->tensorflowjs) (2.0.0)\n",
      "Requirement already satisfied: charset-normalizer<4,>=2 in /Users/yash/miniforge3/envs/tfcpd/lib/python3.8/site-packages (from requests<3,>=2.21.0->tensorboard<2.14,>=2.13->tensorflow-macos==2.13.0->tensorflow<3,>=2.13.0->tensorflowjs) (3.3.2)\n",
      "Requirement already satisfied: idna<4,>=2.5 in /Users/yash/miniforge3/envs/tfcpd/lib/python3.8/site-packages (from requests<3,>=2.21.0->tensorboard<2.14,>=2.13->tensorflow-macos==2.13.0->tensorflow<3,>=2.13.0->tensorflowjs) (3.7)\n",
      "Requirement already satisfied: urllib3<3,>=1.21.1 in /Users/yash/miniforge3/envs/tfcpd/lib/python3.8/site-packages (from requests<3,>=2.21.0->tensorboard<2.14,>=2.13->tensorflow-macos==2.13.0->tensorflow<3,>=2.13.0->tensorflowjs) (2.2.2)\n",
      "Requirement already satisfied: certifi>=2017.4.17 in /Users/yash/miniforge3/envs/tfcpd/lib/python3.8/site-packages (from requests<3,>=2.21.0->tensorboard<2.14,>=2.13->tensorflow-macos==2.13.0->tensorflow<3,>=2.13.0->tensorflowjs) (2024.6.2)\n",
      "Requirement already satisfied: MarkupSafe>=2.1.1 in /Users/yash/miniforge3/envs/tfcpd/lib/python3.8/site-packages (from werkzeug>=1.0.1->tensorboard<2.14,>=2.13->tensorflow-macos==2.13.0->tensorflow<3,>=2.13.0->tensorflowjs) (2.1.5)\n",
      "Requirement already satisfied: pyasn1<0.7.0,>=0.4.6 in /Users/yash/miniforge3/envs/tfcpd/lib/python3.8/site-packages (from pyasn1-modules>=0.2.1->google-auth<3,>=1.6.3->tensorboard<2.14,>=2.13->tensorflow-macos==2.13.0->tensorflow<3,>=2.13.0->tensorflowjs) (0.6.0)\n",
      "Requirement already satisfied: oauthlib>=3.0.0 in /Users/yash/miniforge3/envs/tfcpd/lib/python3.8/site-packages (from requests-oauthlib>=0.7.0->google-auth-oauthlib<1.1,>=0.5->tensorboard<2.14,>=2.13->tensorflow-macos==2.13.0->tensorflow<3,>=2.13.0->tensorflowjs) (3.2.2)\n",
      "Downloading tensorflowjs-4.20.0-py3-none-any.whl (89 kB)\n",
      "\u001b[2K   \u001b[38;2;114;156;31m━━━━━━━━━━━━━━━━━━━━━━━━━━━━━━━━━━━━━━━━\u001b[0m \u001b[32m89.1/89.1 kB\u001b[0m \u001b[31m885.1 kB/s\u001b[0m eta \u001b[36m0:00:00\u001b[0m1m293.6 kB/s\u001b[0m eta \u001b[36m0:00:01\u001b[0m\n",
      "\u001b[?25hDownloading flax-0.7.2-py3-none-any.whl (226 kB)\n",
      "\u001b[2K   \u001b[38;2;114;156;31m━━━━━━━━━━━━━━━━━━━━━━━━━━━━━━━━━━━━━━━━\u001b[0m \u001b[32m226.6/226.6 kB\u001b[0m \u001b[31m1.4 MB/s\u001b[0m eta \u001b[36m0:00:00\u001b[0m MB/s\u001b[0m eta \u001b[36m0:00:01\u001b[0m\n",
      "\u001b[?25hDownloading jaxlib-0.4.13-cp38-cp38-macosx_11_0_arm64.whl (60.5 MB)\n",
      "\u001b[2K   \u001b[38;2;114;156;31m━━━━━━━━━━━━━━━━━━━━━━━━━━━━━━━━━━━━━━━━\u001b[0m \u001b[32m60.5/60.5 MB\u001b[0m \u001b[31m1.0 MB/s\u001b[0m eta \u001b[36m0:00:00\u001b[0mm eta \u001b[36m0:00:01\u001b[0m[36m0:00:02\u001b[0m0m\n",
      "\u001b[?25hDownloading packaging-23.2-py3-none-any.whl (53 kB)\n",
      "\u001b[2K   \u001b[38;2;114;156;31m━━━━━━━━━━━━━━━━━━━━━━━━━━━━━━━━━━━━━━━━\u001b[0m \u001b[32m53.0/53.0 kB\u001b[0m \u001b[31m1.2 MB/s\u001b[0m eta \u001b[36m0:00:00\u001b[0m MB/s\u001b[0m eta \u001b[36m0:00:01\u001b[0m\n",
      "\u001b[?25hUsing cached tensorflow-2.13.0-cp38-cp38-macosx_12_0_arm64.whl (1.9 kB)\n",
      "Using cached tensorflow_macos-2.13.0-cp38-cp38-macosx_12_0_arm64.whl (189.3 MB)\n",
      "Downloading tensorflow_decision_forests-1.5.0-cp38-cp38-macosx_12_0_arm64.whl (11.3 MB)\n",
      "\u001b[2K   \u001b[38;2;114;156;31m━━━━━━━━━━━━━━━━━━━━━━━━━━━━━━━━━━━━━━━━\u001b[0m \u001b[32m11.3/11.3 MB\u001b[0m \u001b[31m1.4 MB/s\u001b[0m eta \u001b[36m0:00:00\u001b[0mm eta \u001b[36m0:00:01\u001b[0m[36m0:00:01\u001b[0m\n",
      "\u001b[?25hDownloading ml_dtypes-0.2.0-cp38-cp38-macosx_10_9_universal2.whl (1.2 MB)\n",
      "\u001b[2K   \u001b[38;2;114;156;31m━━━━━━━━━━━━━━━━━━━━━━━━━━━━━━━━━━━━━━━━\u001b[0m \u001b[32m1.2/1.2 MB\u001b[0m \u001b[31m2.1 MB/s\u001b[0m eta \u001b[36m0:00:00\u001b[0mm eta \u001b[36m0:00:01\u001b[0m0:01\u001b[0m:01\u001b[0m\n",
      "\u001b[?25hUsing cached protobuf-4.25.3-cp37-abi3-macosx_10_9_universal2.whl (394 kB)\n",
      "Using cached rich-13.7.1-py3-none-any.whl (240 kB)\n",
      "Downloading msgpack-1.0.8-cp38-cp38-macosx_11_0_arm64.whl (83 kB)\n",
      "\u001b[2K   \u001b[38;2;114;156;31m━━━━━━━━━━━━━━━━━━━━━━━━━━━━━━━━━━━━━━━━\u001b[0m \u001b[32m83.8/83.8 kB\u001b[0m \u001b[31m1.6 MB/s\u001b[0m eta \u001b[36m0:00:00\u001b[0m MB/s\u001b[0m eta \u001b[36m0:00:01\u001b[0m\n",
      "\u001b[?25hDownloading optax-0.1.8-py3-none-any.whl (199 kB)\n",
      "\u001b[2K   \u001b[38;2;114;156;31m━━━━━━━━━━━━━━━━━━━━━━━━━━━━━━━━━━━━━━━━\u001b[0m \u001b[32m200.0/200.0 kB\u001b[0m \u001b[31m1.6 MB/s\u001b[0m eta \u001b[36m0:00:00\u001b[0m[31m1.8 MB/s\u001b[0m eta \u001b[36m0:00:01\u001b[0m\n",
      "\u001b[?25hDownloading orbax_checkpoint-0.2.3-py3-none-any.whl (81 kB)\n",
      "\u001b[2K   \u001b[38;2;114;156;31m━━━━━━━━━━━━━━━━━━━━━━━━━━━━━━━━━━━━━━━━\u001b[0m \u001b[32m81.4/81.4 kB\u001b[0m \u001b[31m1.3 MB/s\u001b[0m eta \u001b[36m0:00:00\u001b[0m MB/s\u001b[0m eta \u001b[36m0:00:01\u001b[0m\n",
      "\u001b[?25hDownloading tensorstore-0.1.45-cp38-cp38-macosx_11_0_arm64.whl (12.4 MB)\n",
      "\u001b[2K   \u001b[38;2;114;156;31m━━━━━━━━━━━━━━━━━━━━━━━━━━━━━━━━━━━━━━━━\u001b[0m \u001b[32m12.4/12.4 MB\u001b[0m \u001b[31m2.0 MB/s\u001b[0m eta \u001b[36m0:00:00\u001b[0mm eta \u001b[36m0:00:01\u001b[0m[36m0:00:01\u001b[0m\n",
      "\u001b[?25hDownloading wurlitzer-3.1.1-py3-none-any.whl (8.6 kB)\n",
      "Downloading chex-0.1.7-py3-none-any.whl (89 kB)\n",
      "\u001b[2K   \u001b[38;2;114;156;31m━━━━━━━━━━━━━━━━━━━━━━━━━━━━━━━━━━━━━━━━\u001b[0m \u001b[32m89.6/89.6 kB\u001b[0m \u001b[31m893.3 kB/s\u001b[0m eta \u001b[36m0:00:00\u001b[0m1m1.0 MB/s\u001b[0m eta \u001b[36m0:00:01\u001b[0m0m\n",
      "\u001b[?25hUsing cached markdown_it_py-3.0.0-py3-none-any.whl (87 kB)\n",
      "Downloading cached_property-1.5.2-py2.py3-none-any.whl (7.6 kB)\n",
      "Using cached mdurl-0.1.2-py3-none-any.whl (10.0 kB)\n",
      "Downloading toolz-0.12.1-py3-none-any.whl (56 kB)\n",
      "\u001b[2K   \u001b[38;2;114;156;31m━━━━━━━━━━━━━━━━━━━━━━━━━━━━━━━━━━━━━━━━\u001b[0m \u001b[32m56.1/56.1 kB\u001b[0m \u001b[31m723.9 kB/s\u001b[0m eta \u001b[36m0:00:00\u001b[0m1m1.9 MB/s\u001b[0m eta \u001b[36m0:00:01\u001b[0m\n",
      "\u001b[?25hBuilding wheels for collected packages: jax\n",
      "  Building wheel for jax (pyproject.toml) ... \u001b[?25ldone\n",
      "\u001b[?25h  Created wheel for jax: filename=jax-0.4.13-py3-none-any.whl size=1518705 sha256=cdda10d88777862bea5c146a38a37ca943da209394cd5e7526ab04a22d897088\n",
      "  Stored in directory: /Users/yash/Library/Caches/pip/wheels/46/d9/15/d2800d4089dc4c77299ac7513c6aa1036f5491edbd2bf6ba16\n",
      "Successfully built jax\n",
      "Installing collected packages: cached_property, wurlitzer, toolz, tensorstore, PyYAML, protobuf, packaging, msgpack, ml-dtypes, mdurl, markdown-it-py, jaxlib, jax, rich, orbax-checkpoint, chex, optax, tensorflow-macos, flax, tensorflow-decision-forests, tensorflow, tensorflowjs\n",
      "  Attempting uninstall: PyYAML\n",
      "    Found existing installation: PyYAML 5.3.1\n",
      "    Uninstalling PyYAML-5.3.1:\n",
      "      Successfully uninstalled PyYAML-5.3.1\n",
      "  Attempting uninstall: protobuf\n",
      "    Found existing installation: protobuf 3.20.1\n",
      "    Uninstalling protobuf-3.20.1:\n",
      "      Successfully uninstalled protobuf-3.20.1\n",
      "  Attempting uninstall: packaging\n",
      "    Found existing installation: packaging 24.1\n",
      "    Uninstalling packaging-24.1:\n",
      "      Successfully uninstalled packaging-24.1\n",
      "  Attempting uninstall: tensorflow-macos\n",
      "    Found existing installation: tensorflow-macos 2.13.0rc0\n",
      "    Uninstalling tensorflow-macos-2.13.0rc0:\n",
      "      Successfully uninstalled tensorflow-macos-2.13.0rc0\n",
      "  Attempting uninstall: tensorflow\n",
      "    Found existing installation: tensorflow 2.13.0rc0\n",
      "    Uninstalling tensorflow-2.13.0rc0:\n",
      "      Successfully uninstalled tensorflow-2.13.0rc0\n",
      "\u001b[31mERROR: pip's dependency resolver does not currently take into account all the packages that are installed. This behaviour is the source of the following dependency conflicts.\n",
      "tf-models-official 2.13.0 requires immutabledict, which is not installed.\n",
      "tf-models-official 2.13.0 requires tensorflow-text~=2.13.0, which is not installed.\n",
      "tensorflow-metadata 1.14.0 requires protobuf<4.21,>=3.20.3, but you have protobuf 4.25.3 which is incompatible.\n",
      "tf-models-official 2.13.0 requires pyyaml<6.0,>=5.1, but you have pyyaml 6.0.1 which is incompatible.\u001b[0m\u001b[31m\n",
      "\u001b[0mSuccessfully installed PyYAML-6.0.1 cached_property-1.5.2 chex-0.1.7 flax-0.7.2 jax-0.4.13 jaxlib-0.4.13 markdown-it-py-3.0.0 mdurl-0.1.2 ml-dtypes-0.2.0 msgpack-1.0.8 optax-0.1.8 orbax-checkpoint-0.2.3 packaging-23.2 protobuf-4.25.3 rich-13.7.1 tensorflow-2.13.0 tensorflow-decision-forests-1.5.0 tensorflow-macos-2.13.0 tensorflowjs-4.20.0 tensorstore-0.1.45 toolz-0.12.1 wurlitzer-3.1.1\n"
     ]
    }
   ],
   "source": [
    "!pip install tensorflowjs"
   ]
  },
  {
   "cell_type": "code",
   "execution_count": 53,
   "metadata": {
    "id": "0oxbVynHpfDK"
   },
   "outputs": [],
   "source": [
    "command = \"tensorflowjs_converter --input_format=tf_saved_model --output_node_names='detection_boxes,detection_classes,detection_features,detection_multiclass_scores,detection_scores,num_detections,raw_detection_boxes,raw_detection_scores' --output_format=tfjs_graph_model --signature_name=serving_default {} {}\".format(os.path.join(paths['OUTPUT_PATH'], 'saved_model'), paths['TFJS_PATH'])"
   ]
  },
  {
   "cell_type": "code",
   "execution_count": 54,
   "metadata": {
    "colab": {
     "base_uri": "https://localhost:8080/"
    },
    "id": "DB2AGNmJpfDK",
    "outputId": "fbc9f747-f511-47e8-df8f-5ea65cef0374"
   },
   "outputs": [
    {
     "name": "stdout",
     "output_type": "stream",
     "text": [
      "tensorflowjs_converter --input_format=tf_saved_model --output_node_names='detection_boxes,detection_classes,detection_features,detection_multiclass_scores,detection_scores,num_detections,raw_detection_boxes,raw_detection_scores' --output_format=tfjs_graph_model --signature_name=serving_default Tensorflow/workspace/models/my_ssd_mobnet/export/saved_model Tensorflow/workspace/models/my_ssd_mobnet/tfjsexport\n"
     ]
    }
   ],
   "source": [
    "print(command)"
   ]
  },
  {
   "cell_type": "code",
   "execution_count": 55,
   "metadata": {
    "colab": {
     "base_uri": "https://localhost:8080/"
    },
    "id": "K7rfT4-hpfDK",
    "outputId": "532707fd-6feb-4bc6-84a3-325b5d16303c"
   },
   "outputs": [],
   "source": [
    "!{command}"
   ]
  },
  {
   "cell_type": "code",
   "execution_count": 56,
   "metadata": {
    "id": "o8_hm-itpfDK"
   },
   "outputs": [],
   "source": [
    "# Test Code: https://github.com/nicknochnack/RealTimeSignLanguageDetectionwithTFJS"
   ]
  },
  {
   "cell_type": "markdown",
   "metadata": {
    "id": "VtUw73FHpfDK"
   },
   "source": [
    "# 12. Conversion to TFLite"
   ]
  },
  {
   "cell_type": "code",
   "execution_count": 57,
   "metadata": {
    "id": "XviMtewLpfDK"
   },
   "outputs": [],
   "source": [
    "TFLITE_SCRIPT = os.path.join(paths['APIMODEL_PATH'], 'research', 'object_detection', 'export_tflite_graph_tf2.py ')"
   ]
  },
  {
   "cell_type": "code",
   "execution_count": 58,
   "metadata": {
    "id": "us86cjC4pfDL"
   },
   "outputs": [],
   "source": [
    "command = \"python {} --pipeline_config_path={} --trained_checkpoint_dir={} --output_directory={}\".format(TFLITE_SCRIPT ,files['PIPELINE_CONFIG'], paths['CHECKPOINT_PATH'], paths['TFLITE_PATH'])"
   ]
  },
  {
   "cell_type": "code",
   "execution_count": 59,
   "metadata": {
    "colab": {
     "base_uri": "https://localhost:8080/"
    },
    "id": "n1r5YO3rpfDL",
    "outputId": "5fcdf7a4-eee2-4365-f1ca-1751968379ea"
   },
   "outputs": [
    {
     "name": "stdout",
     "output_type": "stream",
     "text": [
      "python Tensorflow/models/research/object_detection/export_tflite_graph_tf2.py  --pipeline_config_path=Tensorflow/workspace/models/my_ssd_mobnet/pipeline.config --trained_checkpoint_dir=Tensorflow/workspace/models/my_ssd_mobnet --output_directory=Tensorflow/workspace/models/my_ssd_mobnet/tfliteexport\n"
     ]
    }
   ],
   "source": [
    "print(command)"
   ]
  },
  {
   "cell_type": "code",
   "execution_count": 60,
   "metadata": {
    "colab": {
     "base_uri": "https://localhost:8080/"
    },
    "id": "I-xWpHN8pfDL",
    "outputId": "7f6bacd8-d077-43b5-c131-5b081fba24a4"
   },
   "outputs": [
    {
     "name": "stdout",
     "output_type": "stream",
     "text": [
      "I0708 20:51:55.140080 8515963904 api.py:460] feature_map_spatial_dims: [(40, 40), (20, 20), (10, 10), (5, 5), (3, 3)]\n",
      "I0708 20:51:58.077317 8515963904 api.py:460] feature_map_spatial_dims: [(40, 40), (20, 20), (10, 10), (5, 5), (3, 3)]\n",
      "I0708 20:51:58.839828 8515963904 signature_serialization.py:148] Function `inference_fn` contains input name(s) resource with unsupported characters which will be renamed to weightsharedconvolutionalboxpredictor_predictiontower_conv2d_3_batchnorm_feature_4_fusedbatchnormv3_readvariableop_1_resource in the SavedModel.\n",
      "I0708 20:51:59.540131 8515963904 api.py:460] feature_map_spatial_dims: [(40, 40), (20, 20), (10, 10), (5, 5), (3, 3)]\n",
      "WARNING:tensorflow:Skipping full serialization of Keras layer <object_detection.meta_architectures.ssd_meta_arch.SSDMetaArch object at 0x174fbfeb0>, because it is not built.\n",
      "W0708 20:52:00.244783 8515963904 save_impl.py:66] Skipping full serialization of Keras layer <object_detection.meta_architectures.ssd_meta_arch.SSDMetaArch object at 0x174fbfeb0>, because it is not built.\n",
      "WARNING:tensorflow:Skipping full serialization of Keras layer <keras.src.layers.convolutional.separable_conv2d.SeparableConv2D object at 0x176cfd880>, because it is not built.\n",
      "W0708 20:52:00.448689 8515963904 save_impl.py:66] Skipping full serialization of Keras layer <keras.src.layers.convolutional.separable_conv2d.SeparableConv2D object at 0x176cfd880>, because it is not built.\n",
      "WARNING:tensorflow:Skipping full serialization of Keras layer <object_detection.core.freezable_batch_norm.FreezableBatchNorm object at 0x175bdcb80>, because it is not built.\n",
      "W0708 20:52:00.448810 8515963904 save_impl.py:66] Skipping full serialization of Keras layer <object_detection.core.freezable_batch_norm.FreezableBatchNorm object at 0x175bdcb80>, because it is not built.\n",
      "WARNING:tensorflow:Skipping full serialization of Keras layer <keras.src.layers.core.lambda_layer.Lambda object at 0x1762805b0>, because it is not built.\n",
      "W0708 20:52:00.448861 8515963904 save_impl.py:66] Skipping full serialization of Keras layer <keras.src.layers.core.lambda_layer.Lambda object at 0x1762805b0>, because it is not built.\n",
      "WARNING:tensorflow:Skipping full serialization of Keras layer <keras.src.layers.convolutional.separable_conv2d.SeparableConv2D object at 0x176280d30>, because it is not built.\n",
      "W0708 20:52:00.448904 8515963904 save_impl.py:66] Skipping full serialization of Keras layer <keras.src.layers.convolutional.separable_conv2d.SeparableConv2D object at 0x176280d30>, because it is not built.\n",
      "WARNING:tensorflow:Skipping full serialization of Keras layer <object_detection.core.freezable_batch_norm.FreezableBatchNorm object at 0x176aaa4f0>, because it is not built.\n",
      "W0708 20:52:00.449006 8515963904 save_impl.py:66] Skipping full serialization of Keras layer <object_detection.core.freezable_batch_norm.FreezableBatchNorm object at 0x176aaa4f0>, because it is not built.\n",
      "WARNING:tensorflow:Skipping full serialization of Keras layer <keras.src.layers.core.lambda_layer.Lambda object at 0x176aaaa00>, because it is not built.\n",
      "W0708 20:52:00.449065 8515963904 save_impl.py:66] Skipping full serialization of Keras layer <keras.src.layers.core.lambda_layer.Lambda object at 0x176aaaa00>, because it is not built.\n",
      "WARNING:tensorflow:Skipping full serialization of Keras layer <keras.src.layers.convolutional.separable_conv2d.SeparableConv2D object at 0x176a43190>, because it is not built.\n",
      "W0708 20:52:00.449173 8515963904 save_impl.py:66] Skipping full serialization of Keras layer <keras.src.layers.convolutional.separable_conv2d.SeparableConv2D object at 0x176a43190>, because it is not built.\n",
      "WARNING:tensorflow:Skipping full serialization of Keras layer <object_detection.core.freezable_batch_norm.FreezableBatchNorm object at 0x176a43d60>, because it is not built.\n",
      "W0708 20:52:00.449217 8515963904 save_impl.py:66] Skipping full serialization of Keras layer <object_detection.core.freezable_batch_norm.FreezableBatchNorm object at 0x176a43d60>, because it is not built.\n",
      "WARNING:tensorflow:Skipping full serialization of Keras layer <keras.src.layers.core.lambda_layer.Lambda object at 0x176a43eb0>, because it is not built.\n",
      "W0708 20:52:00.449291 8515963904 save_impl.py:66] Skipping full serialization of Keras layer <keras.src.layers.core.lambda_layer.Lambda object at 0x176a43eb0>, because it is not built.\n",
      "WARNING:tensorflow:Skipping full serialization of Keras layer <keras.src.layers.convolutional.separable_conv2d.SeparableConv2D object at 0x176accd30>, because it is not built.\n",
      "W0708 20:52:00.449336 8515963904 save_impl.py:66] Skipping full serialization of Keras layer <keras.src.layers.convolutional.separable_conv2d.SeparableConv2D object at 0x176accd30>, because it is not built.\n",
      "WARNING:tensorflow:Skipping full serialization of Keras layer <object_detection.core.freezable_batch_norm.FreezableBatchNorm object at 0x176acc280>, because it is not built.\n",
      "W0708 20:52:00.449373 8515963904 save_impl.py:66] Skipping full serialization of Keras layer <object_detection.core.freezable_batch_norm.FreezableBatchNorm object at 0x176acc280>, because it is not built.\n",
      "WARNING:tensorflow:Skipping full serialization of Keras layer <keras.src.layers.core.lambda_layer.Lambda object at 0x176accb80>, because it is not built.\n",
      "W0708 20:52:00.449453 8515963904 save_impl.py:66] Skipping full serialization of Keras layer <keras.src.layers.core.lambda_layer.Lambda object at 0x176accb80>, because it is not built.\n",
      "WARNING:tensorflow:Skipping full serialization of Keras layer <object_detection.core.freezable_batch_norm.FreezableBatchNorm object at 0x1762cadf0>, because it is not built.\n",
      "W0708 20:52:00.449505 8515963904 save_impl.py:66] Skipping full serialization of Keras layer <object_detection.core.freezable_batch_norm.FreezableBatchNorm object at 0x1762cadf0>, because it is not built.\n",
      "WARNING:tensorflow:Skipping full serialization of Keras layer <keras.src.layers.core.lambda_layer.Lambda object at 0x176ab9820>, because it is not built.\n",
      "W0708 20:52:00.449541 8515963904 save_impl.py:66] Skipping full serialization of Keras layer <keras.src.layers.core.lambda_layer.Lambda object at 0x176ab9820>, because it is not built.\n",
      "WARNING:tensorflow:Skipping full serialization of Keras layer <object_detection.core.freezable_batch_norm.FreezableBatchNorm object at 0x176a64460>, because it is not built.\n",
      "W0708 20:52:00.449619 8515963904 save_impl.py:66] Skipping full serialization of Keras layer <object_detection.core.freezable_batch_norm.FreezableBatchNorm object at 0x176a64460>, because it is not built.\n",
      "WARNING:tensorflow:Skipping full serialization of Keras layer <keras.src.layers.core.lambda_layer.Lambda object at 0x176a64490>, because it is not built.\n",
      "W0708 20:52:00.449657 8515963904 save_impl.py:66] Skipping full serialization of Keras layer <keras.src.layers.core.lambda_layer.Lambda object at 0x176a64490>, because it is not built.\n",
      "WARNING:tensorflow:Skipping full serialization of Keras layer <object_detection.core.freezable_batch_norm.FreezableBatchNorm object at 0x176a64a00>, because it is not built.\n",
      "W0708 20:52:00.449692 8515963904 save_impl.py:66] Skipping full serialization of Keras layer <object_detection.core.freezable_batch_norm.FreezableBatchNorm object at 0x176a64a00>, because it is not built.\n",
      "WARNING:tensorflow:Skipping full serialization of Keras layer <keras.src.layers.core.lambda_layer.Lambda object at 0x176a64eb0>, because it is not built.\n",
      "W0708 20:52:00.449759 8515963904 save_impl.py:66] Skipping full serialization of Keras layer <keras.src.layers.core.lambda_layer.Lambda object at 0x176a64eb0>, because it is not built.\n",
      "WARNING:tensorflow:Skipping full serialization of Keras layer <object_detection.core.freezable_batch_norm.FreezableBatchNorm object at 0x175bed2e0>, because it is not built.\n",
      "W0708 20:52:00.449796 8515963904 save_impl.py:66] Skipping full serialization of Keras layer <object_detection.core.freezable_batch_norm.FreezableBatchNorm object at 0x175bed2e0>, because it is not built.\n",
      "WARNING:tensorflow:Skipping full serialization of Keras layer <keras.src.layers.core.lambda_layer.Lambda object at 0x176ac7760>, because it is not built.\n",
      "W0708 20:52:00.449831 8515963904 save_impl.py:66] Skipping full serialization of Keras layer <keras.src.layers.core.lambda_layer.Lambda object at 0x176ac7760>, because it is not built.\n",
      "WARNING:tensorflow:Skipping full serialization of Keras layer <object_detection.core.freezable_batch_norm.FreezableBatchNorm object at 0x176a6aee0>, because it is not built.\n",
      "W0708 20:52:00.449900 8515963904 save_impl.py:66] Skipping full serialization of Keras layer <object_detection.core.freezable_batch_norm.FreezableBatchNorm object at 0x176a6aee0>, because it is not built.\n",
      "WARNING:tensorflow:Skipping full serialization of Keras layer <keras.src.layers.core.lambda_layer.Lambda object at 0x176a83eb0>, because it is not built.\n",
      "W0708 20:52:00.449935 8515963904 save_impl.py:66] Skipping full serialization of Keras layer <keras.src.layers.core.lambda_layer.Lambda object at 0x176a83eb0>, because it is not built.\n",
      "WARNING:tensorflow:Skipping full serialization of Keras layer <object_detection.core.freezable_batch_norm.FreezableBatchNorm object at 0x1762c9940>, because it is not built.\n",
      "W0708 20:52:00.450052 8515963904 save_impl.py:66] Skipping full serialization of Keras layer <object_detection.core.freezable_batch_norm.FreezableBatchNorm object at 0x1762c9940>, because it is not built.\n",
      "WARNING:tensorflow:Skipping full serialization of Keras layer <keras.src.layers.core.lambda_layer.Lambda object at 0x1762c91c0>, because it is not built.\n",
      "W0708 20:52:00.450088 8515963904 save_impl.py:66] Skipping full serialization of Keras layer <keras.src.layers.core.lambda_layer.Lambda object at 0x1762c91c0>, because it is not built.\n",
      "WARNING:tensorflow:Skipping full serialization of Keras layer <object_detection.core.freezable_batch_norm.FreezableBatchNorm object at 0x1762c9dc0>, because it is not built.\n",
      "W0708 20:52:00.450124 8515963904 save_impl.py:66] Skipping full serialization of Keras layer <object_detection.core.freezable_batch_norm.FreezableBatchNorm object at 0x1762c9dc0>, because it is not built.\n",
      "WARNING:tensorflow:Skipping full serialization of Keras layer <keras.src.layers.core.lambda_layer.Lambda object at 0x1762c9490>, because it is not built.\n",
      "W0708 20:52:00.450191 8515963904 save_impl.py:66] Skipping full serialization of Keras layer <keras.src.layers.core.lambda_layer.Lambda object at 0x1762c9490>, because it is not built.\n",
      "WARNING:tensorflow:Skipping full serialization of Keras layer <object_detection.core.freezable_batch_norm.FreezableBatchNorm object at 0x176ab4490>, because it is not built.\n",
      "W0708 20:52:00.450227 8515963904 save_impl.py:66] Skipping full serialization of Keras layer <object_detection.core.freezable_batch_norm.FreezableBatchNorm object at 0x176ab4490>, because it is not built.\n",
      "WARNING:tensorflow:Skipping full serialization of Keras layer <keras.src.layers.core.lambda_layer.Lambda object at 0x176ab40d0>, because it is not built.\n",
      "W0708 20:52:00.450265 8515963904 save_impl.py:66] Skipping full serialization of Keras layer <keras.src.layers.core.lambda_layer.Lambda object at 0x176ab40d0>, because it is not built.\n",
      "WARNING:tensorflow:Skipping full serialization of Keras layer <object_detection.core.freezable_batch_norm.FreezableBatchNorm object at 0x176abc6a0>, because it is not built.\n",
      "W0708 20:52:00.450350 8515963904 save_impl.py:66] Skipping full serialization of Keras layer <object_detection.core.freezable_batch_norm.FreezableBatchNorm object at 0x176abc6a0>, because it is not built.\n",
      "WARNING:tensorflow:Skipping full serialization of Keras layer <keras.src.layers.core.lambda_layer.Lambda object at 0x176c1b070>, because it is not built.\n",
      "W0708 20:52:00.450385 8515963904 save_impl.py:66] Skipping full serialization of Keras layer <keras.src.layers.core.lambda_layer.Lambda object at 0x176c1b070>, because it is not built.\n",
      "WARNING:tensorflow:Skipping full serialization of Keras layer <object_detection.core.freezable_batch_norm.FreezableBatchNorm object at 0x176c1b340>, because it is not built.\n",
      "W0708 20:52:00.450421 8515963904 save_impl.py:66] Skipping full serialization of Keras layer <object_detection.core.freezable_batch_norm.FreezableBatchNorm object at 0x176c1b340>, because it is not built.\n",
      "WARNING:tensorflow:Skipping full serialization of Keras layer <keras.src.layers.core.lambda_layer.Lambda object at 0x176c1ba90>, because it is not built.\n",
      "W0708 20:52:00.450501 8515963904 save_impl.py:66] Skipping full serialization of Keras layer <keras.src.layers.core.lambda_layer.Lambda object at 0x176c1ba90>, because it is not built.\n",
      "WARNING:tensorflow:Skipping full serialization of Keras layer <object_detection.core.freezable_batch_norm.FreezableBatchNorm object at 0x176a4db50>, because it is not built.\n",
      "W0708 20:52:00.450539 8515963904 save_impl.py:66] Skipping full serialization of Keras layer <object_detection.core.freezable_batch_norm.FreezableBatchNorm object at 0x176a4db50>, because it is not built.\n",
      "WARNING:tensorflow:Skipping full serialization of Keras layer <keras.src.layers.core.lambda_layer.Lambda object at 0x176a4d910>, because it is not built.\n",
      "W0708 20:52:00.450577 8515963904 save_impl.py:66] Skipping full serialization of Keras layer <keras.src.layers.core.lambda_layer.Lambda object at 0x176a4d910>, because it is not built.\n",
      "WARNING:tensorflow:Skipping full serialization of Keras layer <object_detection.core.freezable_batch_norm.FreezableBatchNorm object at 0x176a4d2b0>, because it is not built.\n",
      "W0708 20:52:00.450640 8515963904 save_impl.py:66] Skipping full serialization of Keras layer <object_detection.core.freezable_batch_norm.FreezableBatchNorm object at 0x176a4d2b0>, because it is not built.\n",
      "WARNING:tensorflow:Skipping full serialization of Keras layer <keras.src.layers.core.lambda_layer.Lambda object at 0x176a4d7f0>, because it is not built.\n",
      "W0708 20:52:00.450685 8515963904 save_impl.py:66] Skipping full serialization of Keras layer <keras.src.layers.core.lambda_layer.Lambda object at 0x176a4d7f0>, because it is not built.\n",
      "WARNING:tensorflow:Skipping full serialization of Keras layer <object_detection.core.freezable_batch_norm.FreezableBatchNorm object at 0x176a8f520>, because it is not built.\n",
      "W0708 20:52:00.450725 8515963904 save_impl.py:66] Skipping full serialization of Keras layer <object_detection.core.freezable_batch_norm.FreezableBatchNorm object at 0x176a8f520>, because it is not built.\n",
      "WARNING:tensorflow:Skipping full serialization of Keras layer <keras.src.layers.core.lambda_layer.Lambda object at 0x176c33d30>, because it is not built.\n",
      "W0708 20:52:00.450783 8515963904 save_impl.py:66] Skipping full serialization of Keras layer <keras.src.layers.core.lambda_layer.Lambda object at 0x176c33d30>, because it is not built.\n",
      "WARNING:tensorflow:Skipping full serialization of Keras layer <object_detection.core.freezable_batch_norm.FreezableBatchNorm object at 0x176c216d0>, because it is not built.\n",
      "W0708 20:52:00.450829 8515963904 save_impl.py:66] Skipping full serialization of Keras layer <object_detection.core.freezable_batch_norm.FreezableBatchNorm object at 0x176c216d0>, because it is not built.\n",
      "WARNING:tensorflow:Skipping full serialization of Keras layer <keras.src.layers.core.lambda_layer.Lambda object at 0x176c21520>, because it is not built.\n",
      "W0708 20:52:00.450908 8515963904 save_impl.py:66] Skipping full serialization of Keras layer <keras.src.layers.core.lambda_layer.Lambda object at 0x176c21520>, because it is not built.\n",
      "WARNING:tensorflow:Skipping full serialization of Keras layer <object_detection.core.freezable_batch_norm.FreezableBatchNorm object at 0x176a7beb0>, because it is not built.\n",
      "W0708 20:52:00.450952 8515963904 save_impl.py:66] Skipping full serialization of Keras layer <object_detection.core.freezable_batch_norm.FreezableBatchNorm object at 0x176a7beb0>, because it is not built.\n",
      "WARNING:tensorflow:Skipping full serialization of Keras layer <keras.src.layers.core.lambda_layer.Lambda object at 0x176a7b730>, because it is not built.\n",
      "W0708 20:52:00.450985 8515963904 save_impl.py:66] Skipping full serialization of Keras layer <keras.src.layers.core.lambda_layer.Lambda object at 0x176a7b730>, because it is not built.\n",
      "WARNING:tensorflow:Skipping full serialization of Keras layer <object_detection.core.freezable_batch_norm.FreezableBatchNorm object at 0x176a7b6a0>, because it is not built.\n",
      "W0708 20:52:00.451048 8515963904 save_impl.py:66] Skipping full serialization of Keras layer <object_detection.core.freezable_batch_norm.FreezableBatchNorm object at 0x176a7b6a0>, because it is not built.\n",
      "WARNING:tensorflow:Skipping full serialization of Keras layer <keras.src.layers.core.lambda_layer.Lambda object at 0x176a7b460>, because it is not built.\n",
      "W0708 20:52:00.451084 8515963904 save_impl.py:66] Skipping full serialization of Keras layer <keras.src.layers.core.lambda_layer.Lambda object at 0x176a7b460>, because it is not built.\n",
      "I0708 20:52:07.068977 8515963904 save.py:274] Found untraced functions such as WeightSharedConvolutionalBoxPredictor_layer_call_fn, WeightSharedConvolutionalBoxPredictor_layer_call_and_return_conditional_losses, WeightSharedConvolutionalBoxHead_layer_call_fn, WeightSharedConvolutionalBoxHead_layer_call_and_return_conditional_losses, WeightSharedConvolutionalClassHead_layer_call_fn while saving (showing 5 of 173). These functions will not be directly callable after loading.\n",
      "INFO:tensorflow:Assets written to: Tensorflow/workspace/models/my_ssd_mobnet/tfliteexport/saved_model/assets\n",
      "I0708 20:52:10.319114 8515963904 builder_impl.py:804] Assets written to: Tensorflow/workspace/models/my_ssd_mobnet/tfliteexport/saved_model/assets\n",
      "I0708 20:52:10.334264 8515963904 fingerprinting_utils.py:48] Writing fingerprint to Tensorflow/workspace/models/my_ssd_mobnet/tfliteexport/saved_model/fingerprint.pb\n"
     ]
    }
   ],
   "source": [
    "!{command}"
   ]
  },
  {
   "cell_type": "code",
   "execution_count": 61,
   "metadata": {
    "id": "iJfYMbN6pfDL"
   },
   "outputs": [],
   "source": [
    "FROZEN_TFLITE_PATH = os.path.join(paths['TFLITE_PATH'], 'saved_model')\n",
    "TFLITE_MODEL = os.path.join(paths['TFLITE_PATH'], 'saved_model', 'detect.tflite')"
   ]
  },
  {
   "cell_type": "code",
   "execution_count": 62,
   "metadata": {},
   "outputs": [],
   "source": [
    "command = \"tflite_convert \\\n",
    "--saved_model_dir={} \\\n",
    "--output_file={} \\\n",
    "--input_shapes=1,300,300,3 \\\n",
    "--input_arrays=normalized_input_image_tensor \\\n",
    "--output_arrays='TFLite_Detection_PostProcess','TFLite_Detection_PostProcess:1','TFLite_Detection_PostProcess:2','TFLite_Detection_PostProcess:3' \\\n",
    "--inference_type=FLOAT \\\n",
    "--allow_custom_ops\".format(FROZEN_TFLITE_PATH, TFLITE_MODEL, )"
   ]
  },
  {
   "cell_type": "code",
   "execution_count": 63,
   "metadata": {
    "colab": {
     "base_uri": "https://localhost:8080/"
    },
    "id": "E8GwUeoFpfDL",
    "outputId": "fac43ea4-cc85-471b-a362-e994b06fd583"
   },
   "outputs": [
    {
     "name": "stdout",
     "output_type": "stream",
     "text": [
      "tflite_convert --saved_model_dir=Tensorflow/workspace/models/my_ssd_mobnet/tfliteexport/saved_model --output_file=Tensorflow/workspace/models/my_ssd_mobnet/tfliteexport/saved_model/detect.tflite --input_shapes=1,300,300,3 --input_arrays=normalized_input_image_tensor --output_arrays='TFLite_Detection_PostProcess','TFLite_Detection_PostProcess:1','TFLite_Detection_PostProcess:2','TFLite_Detection_PostProcess:3' --inference_type=FLOAT --allow_custom_ops\n"
     ]
    }
   ],
   "source": [
    "print(command)"
   ]
  },
  {
   "cell_type": "code",
   "execution_count": 64,
   "metadata": {
    "colab": {
     "base_uri": "https://localhost:8080/"
    },
    "id": "Nbd7gqHMpfDL",
    "outputId": "7c8fe6d5-2415-4641-8548-39d425c202f7"
   },
   "outputs": [
    {
     "name": "stdout",
     "output_type": "stream",
     "text": [
      "2024-07-08 20:52:32.716401: W tensorflow/compiler/mlir/lite/python/tf_tfl_flatbuffer_helpers.cc:364] Ignored output_format.\n",
      "2024-07-08 20:52:32.716441: W tensorflow/compiler/mlir/lite/python/tf_tfl_flatbuffer_helpers.cc:367] Ignored drop_control_dependency.\n"
     ]
    }
   ],
   "source": [
    "!{command}"
   ]
  },
  {
   "cell_type": "markdown",
   "metadata": {
    "id": "5NQqZRdA21Uc"
   },
   "source": [
    "# 13. Zip and Export Models "
   ]
  },
  {
   "cell_type": "code",
   "execution_count": null,
   "metadata": {
    "id": "tTVTGCQp2ZJJ"
   },
   "outputs": [],
   "source": [
    "!tar -czf models.tar.gz {paths['CHECKPOINT_PATH']}"
   ]
  },
  {
   "cell_type": "code",
   "execution_count": null,
   "metadata": {
    "colab": {
     "base_uri": "https://localhost:8080/"
    },
    "id": "whShhB0x3PYJ",
    "outputId": "b773201d-35c9-46a8-b893-4a76bd4d5d97"
   },
   "outputs": [],
   "source": [
    "from google.colab import drive\n",
    "drive.mount('/content/drive')"
   ]
  }
 ],
 "metadata": {
  "accelerator": "GPU",
  "colab": {
   "name": "3. Training and Detection.ipynb",
   "provenance": []
  },
  "kernelspec": {
   "display_name": "car",
   "language": "python",
   "name": "car"
  },
  "language_info": {
   "codemirror_mode": {
    "name": "ipython",
    "version": 3
   },
   "file_extension": ".py",
   "mimetype": "text/x-python",
   "name": "python",
   "nbconvert_exporter": "python",
   "pygments_lexer": "ipython3",
   "version": "3.8.19"
  }
 },
 "nbformat": 4,
 "nbformat_minor": 4
}
